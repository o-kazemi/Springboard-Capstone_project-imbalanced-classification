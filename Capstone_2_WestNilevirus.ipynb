{
 "cells": [
  {
   "cell_type": "markdown",
   "id": "c657529f",
   "metadata": {},
   "source": [
    "West Nile virus is most commonly spread to humans through infected mosquitos. Around 20% of people who become infected with the virus develop symptoms ranging from a persistent fever, to serious neurological illnesses that can result in death.\n",
    "\n",
    "\n",
    "\n",
    "In 2002, the first human cases of West Nile virus were reported in Chicago. By 2004 the City of Chicago and the Chicago Department of Public Health (CDPH) had established a comprehensive surveillance and control program that is still in effect today.\n",
    "\n",
    "Every week from late spring through the fall, mosquitos in traps across the city are tested for the virus. The results of these tests influence when and where the city will spray airborne pesticides to control adult mosquito populations.\n",
    "\n",
    "Given <b style=\"color:red;\">weather, location, testing, and spraying data</b>, this competition asks you to predict when and where different species of mosquitos will test positive for West Nile virus. A more accurate method of predicting outbreaks of West Nile virus in mosquitos will help the City of Chicago and CPHD more efficiently and effectively allocate resources towards preventing transmission of this potentially deadly virus. "
   ]
  },
  {
   "cell_type": "markdown",
   "id": "ebd7fc98",
   "metadata": {},
   "source": [
    "<h3> <ul>\n",
    "    <li>Importing modules </li> <li>Importing data</li> <li>Having a look at data (head,shape,info,nulls,describe,dtypes)</li> <li>Data wrangling</li> <li>Feature engineering</li> <li>Feature eliminating</li> <li>Feature selection</li> <li>Train/test split</li> <li>Model selection and parameters tuning: K-NN, Naive Bayes, Decision Tree, Random Forest, Logistic Regression, Gradient Boosting</li> <li>Checking the confusion matrix, select based on best Recall</li> </ul><h3>"
   ]
  },
  {
   "cell_type": "markdown",
   "id": "76049641",
   "metadata": {},
   "source": [
    "<h1>Import Modules<h1>"
   ]
  },
  {
   "cell_type": "code",
   "execution_count": 3,
   "id": "6bbfb4d4",
   "metadata": {},
   "outputs": [],
   "source": [
    "import numpy as np\n",
    "import pandas as pd\n",
    "import matplotlib.pyplot as plt\n",
    "import seaborn as sns\n",
    "from sklearn.model_selection import train_test_split\n",
    "from sklearn import ensemble, preprocessing"
   ]
  },
  {
   "cell_type": "markdown",
   "id": "431975c6",
   "metadata": {},
   "source": [
    "<h1>import the datasets<h1>"
   ]
  },
  {
   "cell_type": "code",
   "execution_count": 4,
   "id": "51486c8b",
   "metadata": {},
   "outputs": [],
   "source": [
    "df_train=pd.read_csv('data/train.csv')\n",
    "df_test=pd.read_csv('data/test.csv')\n",
    "df_sampleSubmission=pd.read_csv('data/sampleSubmission.csv')\n",
    "df_spray=pd.read_csv('data/spray.csv')\n",
    "df_weather=pd.read_csv('data/weather.csv')"
   ]
  },
  {
   "cell_type": "markdown",
   "id": "914f61a0",
   "metadata": {},
   "source": [
    "The task is to predict the <b style=\"color:red;\">Time and Location</b> of next virus out break by using the data provided within <b style=\"color:red;\">weather, location, testing, and spraying </b> datasets. Therefore, I'll bring the datasets one by one and will prepare them (cleaning, feature engineering, feature selecting,...), and then merge them on \"Date\". Afterwards, the models will be trained on the training set and the prediction will be added to \"Test\" dataset."
   ]
  },
  {
   "cell_type": "markdown",
   "id": "3290fdf4",
   "metadata": {},
   "source": [
    "<h3> spray dataset<h3>"
   ]
  },
  {
   "cell_type": "code",
   "execution_count": 5,
   "id": "06a75b34",
   "metadata": {},
   "outputs": [
    {
     "data": {
      "text/html": [
       "<div>\n",
       "<style scoped>\n",
       "    .dataframe tbody tr th:only-of-type {\n",
       "        vertical-align: middle;\n",
       "    }\n",
       "\n",
       "    .dataframe tbody tr th {\n",
       "        vertical-align: top;\n",
       "    }\n",
       "\n",
       "    .dataframe thead th {\n",
       "        text-align: right;\n",
       "    }\n",
       "</style>\n",
       "<table border=\"1\" class=\"dataframe\">\n",
       "  <thead>\n",
       "    <tr style=\"text-align: right;\">\n",
       "      <th></th>\n",
       "      <th>Date</th>\n",
       "      <th>Time</th>\n",
       "      <th>Latitude</th>\n",
       "      <th>Longitude</th>\n",
       "    </tr>\n",
       "  </thead>\n",
       "  <tbody>\n",
       "    <tr>\n",
       "      <th>0</th>\n",
       "      <td>2011-08-29</td>\n",
       "      <td>6:56:58 PM</td>\n",
       "      <td>42.391623</td>\n",
       "      <td>-88.089163</td>\n",
       "    </tr>\n",
       "    <tr>\n",
       "      <th>1</th>\n",
       "      <td>2011-08-29</td>\n",
       "      <td>6:57:08 PM</td>\n",
       "      <td>42.391348</td>\n",
       "      <td>-88.089163</td>\n",
       "    </tr>\n",
       "    <tr>\n",
       "      <th>2</th>\n",
       "      <td>2011-08-29</td>\n",
       "      <td>6:57:18 PM</td>\n",
       "      <td>42.391022</td>\n",
       "      <td>-88.089157</td>\n",
       "    </tr>\n",
       "  </tbody>\n",
       "</table>\n",
       "</div>"
      ],
      "text/plain": [
       "         Date        Time   Latitude  Longitude\n",
       "0  2011-08-29  6:56:58 PM  42.391623 -88.089163\n",
       "1  2011-08-29  6:57:08 PM  42.391348 -88.089163\n",
       "2  2011-08-29  6:57:18 PM  42.391022 -88.089157"
      ]
     },
     "execution_count": 5,
     "metadata": {},
     "output_type": "execute_result"
    }
   ],
   "source": [
    "df_spray.head(3)"
   ]
  },
  {
   "cell_type": "code",
   "execution_count": 6,
   "id": "3a6d2a6b",
   "metadata": {},
   "outputs": [
    {
     "name": "stdout",
     "output_type": "stream",
     "text": [
      "<class 'pandas.core.frame.DataFrame'>\n",
      "RangeIndex: 14835 entries, 0 to 14834\n",
      "Data columns (total 4 columns):\n",
      " #   Column     Non-Null Count  Dtype  \n",
      "---  ------     --------------  -----  \n",
      " 0   Date       14835 non-null  object \n",
      " 1   Time       14251 non-null  object \n",
      " 2   Latitude   14835 non-null  float64\n",
      " 3   Longitude  14835 non-null  float64\n",
      "dtypes: float64(2), object(2)\n",
      "memory usage: 463.7+ KB\n"
     ]
    }
   ],
   "source": [
    "df_spray.info()"
   ]
  },
  {
   "cell_type": "code",
   "execution_count": 7,
   "id": "2454299e",
   "metadata": {},
   "outputs": [
    {
     "data": {
      "text/plain": [
       "Date           0\n",
       "Time         584\n",
       "Latitude       0\n",
       "Longitude      0\n",
       "dtype: int64"
      ]
     },
     "execution_count": 7,
     "metadata": {},
     "output_type": "execute_result"
    }
   ],
   "source": [
    "df_spray.isnull().sum()"
   ]
  },
  {
   "cell_type": "code",
   "execution_count": 8,
   "id": "a254f343",
   "metadata": {},
   "outputs": [],
   "source": [
    "df_spray=df_spray.drop('Time',axis=1)"
   ]
  },
  {
   "cell_type": "code",
   "execution_count": 9,
   "id": "737587e1",
   "metadata": {},
   "outputs": [
    {
     "data": {
      "text/plain": [
       "Date         0\n",
       "Latitude     0\n",
       "Longitude    0\n",
       "dtype: int64"
      ]
     },
     "execution_count": 9,
     "metadata": {},
     "output_type": "execute_result"
    }
   ],
   "source": [
    "df_spray.isna().sum()"
   ]
  },
  {
   "cell_type": "code",
   "execution_count": 10,
   "id": "3e4de64d",
   "metadata": {},
   "outputs": [
    {
     "data": {
      "text/plain": [
       "(14835, 3)"
      ]
     },
     "execution_count": 10,
     "metadata": {},
     "output_type": "execute_result"
    }
   ],
   "source": [
    "df_spray.shape"
   ]
  },
  {
   "cell_type": "markdown",
   "id": "a9ce7e36",
   "metadata": {},
   "source": [
    "<h3>Weather dataset<h3>"
   ]
  },
  {
   "cell_type": "code",
   "execution_count": 11,
   "id": "87bc7573",
   "metadata": {},
   "outputs": [
    {
     "data": {
      "text/html": [
       "<div>\n",
       "<style scoped>\n",
       "    .dataframe tbody tr th:only-of-type {\n",
       "        vertical-align: middle;\n",
       "    }\n",
       "\n",
       "    .dataframe tbody tr th {\n",
       "        vertical-align: top;\n",
       "    }\n",
       "\n",
       "    .dataframe thead th {\n",
       "        text-align: right;\n",
       "    }\n",
       "</style>\n",
       "<table border=\"1\" class=\"dataframe\">\n",
       "  <thead>\n",
       "    <tr style=\"text-align: right;\">\n",
       "      <th></th>\n",
       "      <th>Station</th>\n",
       "      <th>Date</th>\n",
       "      <th>Tmax</th>\n",
       "      <th>Tmin</th>\n",
       "      <th>Tavg</th>\n",
       "      <th>Depart</th>\n",
       "      <th>DewPoint</th>\n",
       "      <th>WetBulb</th>\n",
       "      <th>Heat</th>\n",
       "      <th>Cool</th>\n",
       "      <th>...</th>\n",
       "      <th>CodeSum</th>\n",
       "      <th>Depth</th>\n",
       "      <th>Water1</th>\n",
       "      <th>SnowFall</th>\n",
       "      <th>PrecipTotal</th>\n",
       "      <th>StnPressure</th>\n",
       "      <th>SeaLevel</th>\n",
       "      <th>ResultSpeed</th>\n",
       "      <th>ResultDir</th>\n",
       "      <th>AvgSpeed</th>\n",
       "    </tr>\n",
       "  </thead>\n",
       "  <tbody>\n",
       "    <tr>\n",
       "      <th>0</th>\n",
       "      <td>1</td>\n",
       "      <td>2007-05-01</td>\n",
       "      <td>83</td>\n",
       "      <td>50</td>\n",
       "      <td>67</td>\n",
       "      <td>14</td>\n",
       "      <td>51</td>\n",
       "      <td>56</td>\n",
       "      <td>0</td>\n",
       "      <td>2</td>\n",
       "      <td>...</td>\n",
       "      <td></td>\n",
       "      <td>0</td>\n",
       "      <td>M</td>\n",
       "      <td>0.0</td>\n",
       "      <td>0.00</td>\n",
       "      <td>29.10</td>\n",
       "      <td>29.82</td>\n",
       "      <td>1.7</td>\n",
       "      <td>27</td>\n",
       "      <td>9.2</td>\n",
       "    </tr>\n",
       "    <tr>\n",
       "      <th>1</th>\n",
       "      <td>2</td>\n",
       "      <td>2007-05-01</td>\n",
       "      <td>84</td>\n",
       "      <td>52</td>\n",
       "      <td>68</td>\n",
       "      <td>M</td>\n",
       "      <td>51</td>\n",
       "      <td>57</td>\n",
       "      <td>0</td>\n",
       "      <td>3</td>\n",
       "      <td>...</td>\n",
       "      <td></td>\n",
       "      <td>M</td>\n",
       "      <td>M</td>\n",
       "      <td>M</td>\n",
       "      <td>0.00</td>\n",
       "      <td>29.18</td>\n",
       "      <td>29.82</td>\n",
       "      <td>2.7</td>\n",
       "      <td>25</td>\n",
       "      <td>9.6</td>\n",
       "    </tr>\n",
       "    <tr>\n",
       "      <th>2</th>\n",
       "      <td>1</td>\n",
       "      <td>2007-05-02</td>\n",
       "      <td>59</td>\n",
       "      <td>42</td>\n",
       "      <td>51</td>\n",
       "      <td>-3</td>\n",
       "      <td>42</td>\n",
       "      <td>47</td>\n",
       "      <td>14</td>\n",
       "      <td>0</td>\n",
       "      <td>...</td>\n",
       "      <td>BR</td>\n",
       "      <td>0</td>\n",
       "      <td>M</td>\n",
       "      <td>0.0</td>\n",
       "      <td>0.00</td>\n",
       "      <td>29.38</td>\n",
       "      <td>30.09</td>\n",
       "      <td>13.0</td>\n",
       "      <td>4</td>\n",
       "      <td>13.4</td>\n",
       "    </tr>\n",
       "    <tr>\n",
       "      <th>3</th>\n",
       "      <td>2</td>\n",
       "      <td>2007-05-02</td>\n",
       "      <td>60</td>\n",
       "      <td>43</td>\n",
       "      <td>52</td>\n",
       "      <td>M</td>\n",
       "      <td>42</td>\n",
       "      <td>47</td>\n",
       "      <td>13</td>\n",
       "      <td>0</td>\n",
       "      <td>...</td>\n",
       "      <td>BR HZ</td>\n",
       "      <td>M</td>\n",
       "      <td>M</td>\n",
       "      <td>M</td>\n",
       "      <td>0.00</td>\n",
       "      <td>29.44</td>\n",
       "      <td>30.08</td>\n",
       "      <td>13.3</td>\n",
       "      <td>2</td>\n",
       "      <td>13.4</td>\n",
       "    </tr>\n",
       "    <tr>\n",
       "      <th>4</th>\n",
       "      <td>1</td>\n",
       "      <td>2007-05-03</td>\n",
       "      <td>66</td>\n",
       "      <td>46</td>\n",
       "      <td>56</td>\n",
       "      <td>2</td>\n",
       "      <td>40</td>\n",
       "      <td>48</td>\n",
       "      <td>9</td>\n",
       "      <td>0</td>\n",
       "      <td>...</td>\n",
       "      <td></td>\n",
       "      <td>0</td>\n",
       "      <td>M</td>\n",
       "      <td>0.0</td>\n",
       "      <td>0.00</td>\n",
       "      <td>29.39</td>\n",
       "      <td>30.12</td>\n",
       "      <td>11.7</td>\n",
       "      <td>7</td>\n",
       "      <td>11.9</td>\n",
       "    </tr>\n",
       "  </tbody>\n",
       "</table>\n",
       "<p>5 rows × 22 columns</p>\n",
       "</div>"
      ],
      "text/plain": [
       "   Station        Date  Tmax  Tmin Tavg Depart  DewPoint WetBulb Heat Cool  \\\n",
       "0        1  2007-05-01    83    50   67     14        51      56    0    2   \n",
       "1        2  2007-05-01    84    52   68      M        51      57    0    3   \n",
       "2        1  2007-05-02    59    42   51     -3        42      47   14    0   \n",
       "3        2  2007-05-02    60    43   52      M        42      47   13    0   \n",
       "4        1  2007-05-03    66    46   56      2        40      48    9    0   \n",
       "\n",
       "   ... CodeSum Depth Water1 SnowFall PrecipTotal StnPressure SeaLevel  \\\n",
       "0  ...             0      M      0.0        0.00       29.10    29.82   \n",
       "1  ...             M      M        M        0.00       29.18    29.82   \n",
       "2  ...      BR     0      M      0.0        0.00       29.38    30.09   \n",
       "3  ...   BR HZ     M      M        M        0.00       29.44    30.08   \n",
       "4  ...             0      M      0.0        0.00       29.39    30.12   \n",
       "\n",
       "  ResultSpeed ResultDir  AvgSpeed  \n",
       "0         1.7        27       9.2  \n",
       "1         2.7        25       9.6  \n",
       "2        13.0         4      13.4  \n",
       "3        13.3         2      13.4  \n",
       "4        11.7         7      11.9  \n",
       "\n",
       "[5 rows x 22 columns]"
      ]
     },
     "execution_count": 11,
     "metadata": {},
     "output_type": "execute_result"
    }
   ],
   "source": [
    "df_weather.head()"
   ]
  },
  {
   "cell_type": "code",
   "execution_count": 12,
   "id": "8b16e930",
   "metadata": {},
   "outputs": [
    {
     "data": {
      "text/plain": [
       "Index(['Station', 'Date', 'Tmax', 'Tmin', 'Tavg', 'Depart', 'DewPoint',\n",
       "       'WetBulb', 'Heat', 'Cool', 'Sunrise', 'Sunset', 'CodeSum', 'Depth',\n",
       "       'Water1', 'SnowFall', 'PrecipTotal', 'StnPressure', 'SeaLevel',\n",
       "       'ResultSpeed', 'ResultDir', 'AvgSpeed'],\n",
       "      dtype='object')"
      ]
     },
     "execution_count": 12,
     "metadata": {},
     "output_type": "execute_result"
    }
   ],
   "source": [
    "df_weather.columns"
   ]
  },
  {
   "cell_type": "code",
   "execution_count": 13,
   "id": "3f4d46df",
   "metadata": {},
   "outputs": [
    {
     "data": {
      "text/plain": [
       "(2944, 22)"
      ]
     },
     "execution_count": 13,
     "metadata": {},
     "output_type": "execute_result"
    }
   ],
   "source": [
    "df_weather.shape"
   ]
  },
  {
   "cell_type": "code",
   "execution_count": 14,
   "id": "b2131c02",
   "metadata": {},
   "outputs": [
    {
     "name": "stdout",
     "output_type": "stream",
     "text": [
      "<class 'pandas.core.frame.DataFrame'>\n",
      "RangeIndex: 2944 entries, 0 to 2943\n",
      "Data columns (total 22 columns):\n",
      " #   Column       Non-Null Count  Dtype  \n",
      "---  ------       --------------  -----  \n",
      " 0   Station      2944 non-null   int64  \n",
      " 1   Date         2944 non-null   object \n",
      " 2   Tmax         2944 non-null   int64  \n",
      " 3   Tmin         2944 non-null   int64  \n",
      " 4   Tavg         2944 non-null   object \n",
      " 5   Depart       2944 non-null   object \n",
      " 6   DewPoint     2944 non-null   int64  \n",
      " 7   WetBulb      2944 non-null   object \n",
      " 8   Heat         2944 non-null   object \n",
      " 9   Cool         2944 non-null   object \n",
      " 10  Sunrise      2944 non-null   object \n",
      " 11  Sunset       2944 non-null   object \n",
      " 12  CodeSum      2944 non-null   object \n",
      " 13  Depth        2944 non-null   object \n",
      " 14  Water1       2944 non-null   object \n",
      " 15  SnowFall     2944 non-null   object \n",
      " 16  PrecipTotal  2944 non-null   object \n",
      " 17  StnPressure  2944 non-null   object \n",
      " 18  SeaLevel     2944 non-null   object \n",
      " 19  ResultSpeed  2944 non-null   float64\n",
      " 20  ResultDir    2944 non-null   int64  \n",
      " 21  AvgSpeed     2944 non-null   object \n",
      "dtypes: float64(1), int64(5), object(16)\n",
      "memory usage: 506.1+ KB\n"
     ]
    }
   ],
   "source": [
    "df_weather.info()"
   ]
  },
  {
   "cell_type": "code",
   "execution_count": 15,
   "id": "1c837ff7",
   "metadata": {},
   "outputs": [
    {
     "data": {
      "text/plain": [
       "Station        0\n",
       "Date           0\n",
       "Tmax           0\n",
       "Tmin           0\n",
       "Tavg           0\n",
       "Depart         0\n",
       "DewPoint       0\n",
       "WetBulb        0\n",
       "Heat           0\n",
       "Cool           0\n",
       "Sunrise        0\n",
       "Sunset         0\n",
       "CodeSum        0\n",
       "Depth          0\n",
       "Water1         0\n",
       "SnowFall       0\n",
       "PrecipTotal    0\n",
       "StnPressure    0\n",
       "SeaLevel       0\n",
       "ResultSpeed    0\n",
       "ResultDir      0\n",
       "AvgSpeed       0\n",
       "dtype: int64"
      ]
     },
     "execution_count": 15,
     "metadata": {},
     "output_type": "execute_result"
    }
   ],
   "source": [
    "df_weather.isna().sum()"
   ]
  },
  {
   "cell_type": "markdown",
   "id": "084288ae",
   "metadata": {},
   "source": [
    "<b>Weather dataset seems pretty messy! It has 22 columns, mostly object type. Some ot the columns are not required and must get deleted.</b> "
   ]
  },
  {
   "cell_type": "code",
   "execution_count": 16,
   "id": "0ecc3622",
   "metadata": {},
   "outputs": [],
   "source": [
    "def get_value_counts(df):\n",
    "    value_report={}\n",
    "    for col in df.columns:\n",
    "        x= df[col].value_counts()\n",
    "        value_report[col]=x\n",
    "    return value_report"
   ]
  },
  {
   "cell_type": "code",
   "execution_count": 17,
   "id": "b3dc02a3",
   "metadata": {},
   "outputs": [],
   "source": [
    "weather_values=get_value_counts(df_weather)"
   ]
  },
  {
   "cell_type": "code",
   "execution_count": 18,
   "id": "460d5583",
   "metadata": {},
   "outputs": [
    {
     "data": {
      "text/plain": [
       "22"
      ]
     },
     "execution_count": 18,
     "metadata": {},
     "output_type": "execute_result"
    }
   ],
   "source": [
    "weather_columns=pd.Series(df_weather.columns)\n",
    "len(weather_columns)"
   ]
  },
  {
   "cell_type": "code",
   "execution_count": 19,
   "id": "99e3e8c3",
   "metadata": {},
   "outputs": [
    {
     "data": {
      "text/plain": [
       "1    1472\n",
       "2    1472\n",
       "Name: Station, dtype: int64"
      ]
     },
     "execution_count": 19,
     "metadata": {},
     "output_type": "execute_result"
    }
   ],
   "source": [
    "weather_columns[0]\n",
    "weather_values['Station']"
   ]
  },
  {
   "cell_type": "code",
   "execution_count": 20,
   "id": "f7e5da3d",
   "metadata": {},
   "outputs": [],
   "source": [
    "df_weather_S1=df_weather[df_weather['Station']==1]\n",
    "#df_weather_S1.info()\n",
    "df_weather_S2=df_weather[df_weather['Station']==2]\n",
    "df_weather_1=df_weather_S1.merge(df_weather_S2,on='Date',suffixes = ('_1', '_2'))"
   ]
  },
  {
   "cell_type": "code",
   "execution_count": 21,
   "id": "257ce8db",
   "metadata": {},
   "outputs": [
    {
     "name": "stdout",
     "output_type": "stream",
     "text": [
      "<class 'pandas.core.frame.DataFrame'>\n",
      "Int64Index: 1472 entries, 0 to 1471\n",
      "Data columns (total 43 columns):\n",
      " #   Column         Non-Null Count  Dtype  \n",
      "---  ------         --------------  -----  \n",
      " 0   Station_1      1472 non-null   int64  \n",
      " 1   Date           1472 non-null   object \n",
      " 2   Tmax_1         1472 non-null   int64  \n",
      " 3   Tmin_1         1472 non-null   int64  \n",
      " 4   Tavg_1         1472 non-null   object \n",
      " 5   Depart_1       1472 non-null   object \n",
      " 6   DewPoint_1     1472 non-null   int64  \n",
      " 7   WetBulb_1      1472 non-null   object \n",
      " 8   Heat_1         1472 non-null   object \n",
      " 9   Cool_1         1472 non-null   object \n",
      " 10  Sunrise_1      1472 non-null   object \n",
      " 11  Sunset_1       1472 non-null   object \n",
      " 12  CodeSum_1      1472 non-null   object \n",
      " 13  Depth_1        1472 non-null   object \n",
      " 14  Water1_1       1472 non-null   object \n",
      " 15  SnowFall_1     1472 non-null   object \n",
      " 16  PrecipTotal_1  1472 non-null   object \n",
      " 17  StnPressure_1  1472 non-null   object \n",
      " 18  SeaLevel_1     1472 non-null   object \n",
      " 19  ResultSpeed_1  1472 non-null   float64\n",
      " 20  ResultDir_1    1472 non-null   int64  \n",
      " 21  AvgSpeed_1     1472 non-null   object \n",
      " 22  Station_2      1472 non-null   int64  \n",
      " 23  Tmax_2         1472 non-null   int64  \n",
      " 24  Tmin_2         1472 non-null   int64  \n",
      " 25  Tavg_2         1472 non-null   object \n",
      " 26  Depart_2       1472 non-null   object \n",
      " 27  DewPoint_2     1472 non-null   int64  \n",
      " 28  WetBulb_2      1472 non-null   object \n",
      " 29  Heat_2         1472 non-null   object \n",
      " 30  Cool_2         1472 non-null   object \n",
      " 31  Sunrise_2      1472 non-null   object \n",
      " 32  Sunset_2       1472 non-null   object \n",
      " 33  CodeSum_2      1472 non-null   object \n",
      " 34  Depth_2        1472 non-null   object \n",
      " 35  Water1_2       1472 non-null   object \n",
      " 36  SnowFall_2     1472 non-null   object \n",
      " 37  PrecipTotal_2  1472 non-null   object \n",
      " 38  StnPressure_2  1472 non-null   object \n",
      " 39  SeaLevel_2     1472 non-null   object \n",
      " 40  ResultSpeed_2  1472 non-null   float64\n",
      " 41  ResultDir_2    1472 non-null   int64  \n",
      " 42  AvgSpeed_2     1472 non-null   object \n",
      "dtypes: float64(2), int64(10), object(31)\n",
      "memory usage: 506.0+ KB\n"
     ]
    }
   ],
   "source": [
    "df_weather_1.info()"
   ]
  },
  {
   "cell_type": "code",
   "execution_count": 22,
   "id": "3a647999",
   "metadata": {},
   "outputs": [
    {
     "data": {
      "text/html": [
       "<div>\n",
       "<style scoped>\n",
       "    .dataframe tbody tr th:only-of-type {\n",
       "        vertical-align: middle;\n",
       "    }\n",
       "\n",
       "    .dataframe tbody tr th {\n",
       "        vertical-align: top;\n",
       "    }\n",
       "\n",
       "    .dataframe thead th {\n",
       "        text-align: right;\n",
       "    }\n",
       "</style>\n",
       "<table border=\"1\" class=\"dataframe\">\n",
       "  <thead>\n",
       "    <tr style=\"text-align: right;\">\n",
       "      <th></th>\n",
       "      <th>Date</th>\n",
       "      <th>Tmax_1</th>\n",
       "      <th>Tmin_1</th>\n",
       "      <th>Tavg_1</th>\n",
       "      <th>Depart_1</th>\n",
       "      <th>DewPoint_1</th>\n",
       "      <th>WetBulb_1</th>\n",
       "      <th>Heat_1</th>\n",
       "      <th>Cool_1</th>\n",
       "      <th>Sunrise_1</th>\n",
       "      <th>...</th>\n",
       "      <th>Sunset_2</th>\n",
       "      <th>Depth_2</th>\n",
       "      <th>Water1_2</th>\n",
       "      <th>SnowFall_2</th>\n",
       "      <th>PrecipTotal_2</th>\n",
       "      <th>StnPressure_2</th>\n",
       "      <th>SeaLevel_2</th>\n",
       "      <th>ResultSpeed_2</th>\n",
       "      <th>ResultDir_2</th>\n",
       "      <th>AvgSpeed_2</th>\n",
       "    </tr>\n",
       "  </thead>\n",
       "  <tbody>\n",
       "    <tr>\n",
       "      <th>0</th>\n",
       "      <td>2007-05-01</td>\n",
       "      <td>83</td>\n",
       "      <td>50</td>\n",
       "      <td>67</td>\n",
       "      <td>14</td>\n",
       "      <td>51</td>\n",
       "      <td>56</td>\n",
       "      <td>0</td>\n",
       "      <td>2</td>\n",
       "      <td>0448</td>\n",
       "      <td>...</td>\n",
       "      <td>-</td>\n",
       "      <td>M</td>\n",
       "      <td>M</td>\n",
       "      <td>M</td>\n",
       "      <td>0.00</td>\n",
       "      <td>29.18</td>\n",
       "      <td>29.82</td>\n",
       "      <td>2.7</td>\n",
       "      <td>25</td>\n",
       "      <td>9.6</td>\n",
       "    </tr>\n",
       "    <tr>\n",
       "      <th>1</th>\n",
       "      <td>2007-05-02</td>\n",
       "      <td>59</td>\n",
       "      <td>42</td>\n",
       "      <td>51</td>\n",
       "      <td>-3</td>\n",
       "      <td>42</td>\n",
       "      <td>47</td>\n",
       "      <td>14</td>\n",
       "      <td>0</td>\n",
       "      <td>0447</td>\n",
       "      <td>...</td>\n",
       "      <td>-</td>\n",
       "      <td>M</td>\n",
       "      <td>M</td>\n",
       "      <td>M</td>\n",
       "      <td>0.00</td>\n",
       "      <td>29.44</td>\n",
       "      <td>30.08</td>\n",
       "      <td>13.3</td>\n",
       "      <td>2</td>\n",
       "      <td>13.4</td>\n",
       "    </tr>\n",
       "    <tr>\n",
       "      <th>2</th>\n",
       "      <td>2007-05-03</td>\n",
       "      <td>66</td>\n",
       "      <td>46</td>\n",
       "      <td>56</td>\n",
       "      <td>2</td>\n",
       "      <td>40</td>\n",
       "      <td>48</td>\n",
       "      <td>9</td>\n",
       "      <td>0</td>\n",
       "      <td>0446</td>\n",
       "      <td>...</td>\n",
       "      <td>-</td>\n",
       "      <td>M</td>\n",
       "      <td>M</td>\n",
       "      <td>M</td>\n",
       "      <td>0.00</td>\n",
       "      <td>29.46</td>\n",
       "      <td>30.12</td>\n",
       "      <td>12.9</td>\n",
       "      <td>6</td>\n",
       "      <td>13.2</td>\n",
       "    </tr>\n",
       "    <tr>\n",
       "      <th>3</th>\n",
       "      <td>2007-05-04</td>\n",
       "      <td>66</td>\n",
       "      <td>49</td>\n",
       "      <td>58</td>\n",
       "      <td>4</td>\n",
       "      <td>41</td>\n",
       "      <td>50</td>\n",
       "      <td>7</td>\n",
       "      <td>0</td>\n",
       "      <td>0444</td>\n",
       "      <td>...</td>\n",
       "      <td>-</td>\n",
       "      <td>M</td>\n",
       "      <td>M</td>\n",
       "      <td>M</td>\n",
       "      <td>0.00</td>\n",
       "      <td>29.36</td>\n",
       "      <td>30.04</td>\n",
       "      <td>10.1</td>\n",
       "      <td>7</td>\n",
       "      <td>10.4</td>\n",
       "    </tr>\n",
       "    <tr>\n",
       "      <th>4</th>\n",
       "      <td>2007-05-05</td>\n",
       "      <td>66</td>\n",
       "      <td>53</td>\n",
       "      <td>60</td>\n",
       "      <td>5</td>\n",
       "      <td>38</td>\n",
       "      <td>49</td>\n",
       "      <td>5</td>\n",
       "      <td>0</td>\n",
       "      <td>0443</td>\n",
       "      <td>...</td>\n",
       "      <td>-</td>\n",
       "      <td>M</td>\n",
       "      <td>M</td>\n",
       "      <td>M</td>\n",
       "      <td>T</td>\n",
       "      <td>29.46</td>\n",
       "      <td>30.09</td>\n",
       "      <td>11.2</td>\n",
       "      <td>7</td>\n",
       "      <td>11.5</td>\n",
       "    </tr>\n",
       "  </tbody>\n",
       "</table>\n",
       "<p>5 rows × 39 columns</p>\n",
       "</div>"
      ],
      "text/plain": [
       "         Date  Tmax_1  Tmin_1 Tavg_1 Depart_1  DewPoint_1 WetBulb_1 Heat_1  \\\n",
       "0  2007-05-01      83      50     67       14          51        56      0   \n",
       "1  2007-05-02      59      42     51       -3          42        47     14   \n",
       "2  2007-05-03      66      46     56        2          40        48      9   \n",
       "3  2007-05-04      66      49     58        4          41        50      7   \n",
       "4  2007-05-05      66      53     60        5          38        49      5   \n",
       "\n",
       "  Cool_1 Sunrise_1  ... Sunset_2 Depth_2 Water1_2 SnowFall_2 PrecipTotal_2  \\\n",
       "0      2      0448  ...        -       M        M          M          0.00   \n",
       "1      0      0447  ...        -       M        M          M          0.00   \n",
       "2      0      0446  ...        -       M        M          M          0.00   \n",
       "3      0      0444  ...        -       M        M          M          0.00   \n",
       "4      0      0443  ...        -       M        M          M             T   \n",
       "\n",
       "  StnPressure_2 SeaLevel_2  ResultSpeed_2  ResultDir_2 AvgSpeed_2  \n",
       "0         29.18      29.82            2.7           25        9.6  \n",
       "1         29.44      30.08           13.3            2       13.4  \n",
       "2         29.46      30.12           12.9            6       13.2  \n",
       "3         29.36      30.04           10.1            7       10.4  \n",
       "4         29.46      30.09           11.2            7       11.5  \n",
       "\n",
       "[5 rows x 39 columns]"
      ]
     },
     "execution_count": 22,
     "metadata": {},
     "output_type": "execute_result"
    }
   ],
   "source": [
    "df_weather_2=df_weather_1.drop(['Station_1','Station_2','CodeSum_1','CodeSum_2'],axis=1)\n",
    "df_weather_2.head()"
   ]
  },
  {
   "cell_type": "markdown",
   "id": "46038a86",
   "metadata": {},
   "source": [
    "<h3>Checking the quality of columns in merged Weather data frame<h3>"
   ]
  },
  {
   "cell_type": "code",
   "execution_count": 23,
   "id": "c797ed93",
   "metadata": {},
   "outputs": [
    {
     "data": {
      "text/html": [
       "<div>\n",
       "<style scoped>\n",
       "    .dataframe tbody tr th:only-of-type {\n",
       "        vertical-align: middle;\n",
       "    }\n",
       "\n",
       "    .dataframe tbody tr th {\n",
       "        vertical-align: top;\n",
       "    }\n",
       "\n",
       "    .dataframe thead th {\n",
       "        text-align: right;\n",
       "    }\n",
       "</style>\n",
       "<table border=\"1\" class=\"dataframe\">\n",
       "  <thead>\n",
       "    <tr style=\"text-align: right;\">\n",
       "      <th></th>\n",
       "      <th>Tmax_1</th>\n",
       "      <th>Tmin_1</th>\n",
       "      <th>DewPoint_1</th>\n",
       "      <th>ResultSpeed_1</th>\n",
       "      <th>ResultDir_1</th>\n",
       "      <th>Tmax_2</th>\n",
       "      <th>Tmin_2</th>\n",
       "      <th>DewPoint_2</th>\n",
       "      <th>ResultSpeed_2</th>\n",
       "      <th>ResultDir_2</th>\n",
       "    </tr>\n",
       "  </thead>\n",
       "  <tbody>\n",
       "    <tr>\n",
       "      <th>count</th>\n",
       "      <td>1472.00000</td>\n",
       "      <td>1472.000000</td>\n",
       "      <td>1472.000000</td>\n",
       "      <td>1472.000000</td>\n",
       "      <td>1472.000000</td>\n",
       "      <td>1472.000000</td>\n",
       "      <td>1472.000000</td>\n",
       "      <td>1472.000000</td>\n",
       "      <td>1472.000000</td>\n",
       "      <td>1472.00000</td>\n",
       "    </tr>\n",
       "    <tr>\n",
       "      <th>mean</th>\n",
       "      <td>75.97894</td>\n",
       "      <td>56.730978</td>\n",
       "      <td>53.377717</td>\n",
       "      <td>6.987092</td>\n",
       "      <td>17.656250</td>\n",
       "      <td>76.353261</td>\n",
       "      <td>58.889946</td>\n",
       "      <td>53.538043</td>\n",
       "      <td>6.934239</td>\n",
       "      <td>17.33356</td>\n",
       "    </tr>\n",
       "    <tr>\n",
       "      <th>std</th>\n",
       "      <td>11.50315</td>\n",
       "      <td>10.347907</td>\n",
       "      <td>10.670263</td>\n",
       "      <td>3.586353</td>\n",
       "      <td>10.222077</td>\n",
       "      <td>11.421482</td>\n",
       "      <td>10.306855</td>\n",
       "      <td>10.683121</td>\n",
       "      <td>3.589725</td>\n",
       "      <td>9.90345</td>\n",
       "    </tr>\n",
       "    <tr>\n",
       "      <th>min</th>\n",
       "      <td>42.00000</td>\n",
       "      <td>29.000000</td>\n",
       "      <td>22.000000</td>\n",
       "      <td>0.100000</td>\n",
       "      <td>1.000000</td>\n",
       "      <td>41.000000</td>\n",
       "      <td>29.000000</td>\n",
       "      <td>23.000000</td>\n",
       "      <td>0.300000</td>\n",
       "      <td>1.00000</td>\n",
       "    </tr>\n",
       "    <tr>\n",
       "      <th>25%</th>\n",
       "      <td>68.00000</td>\n",
       "      <td>49.000000</td>\n",
       "      <td>46.000000</td>\n",
       "      <td>4.400000</td>\n",
       "      <td>7.000000</td>\n",
       "      <td>69.000000</td>\n",
       "      <td>51.000000</td>\n",
       "      <td>46.000000</td>\n",
       "      <td>4.275000</td>\n",
       "      <td>8.00000</td>\n",
       "    </tr>\n",
       "    <tr>\n",
       "      <th>50%</th>\n",
       "      <td>78.00000</td>\n",
       "      <td>58.000000</td>\n",
       "      <td>54.000000</td>\n",
       "      <td>6.400000</td>\n",
       "      <td>19.500000</td>\n",
       "      <td>78.000000</td>\n",
       "      <td>60.000000</td>\n",
       "      <td>55.000000</td>\n",
       "      <td>6.500000</td>\n",
       "      <td>19.00000</td>\n",
       "    </tr>\n",
       "    <tr>\n",
       "      <th>75%</th>\n",
       "      <td>85.00000</td>\n",
       "      <td>65.000000</td>\n",
       "      <td>61.250000</td>\n",
       "      <td>9.100000</td>\n",
       "      <td>26.000000</td>\n",
       "      <td>85.000000</td>\n",
       "      <td>67.000000</td>\n",
       "      <td>62.000000</td>\n",
       "      <td>9.225000</td>\n",
       "      <td>24.00000</td>\n",
       "    </tr>\n",
       "    <tr>\n",
       "      <th>max</th>\n",
       "      <td>103.00000</td>\n",
       "      <td>82.000000</td>\n",
       "      <td>75.000000</td>\n",
       "      <td>24.100000</td>\n",
       "      <td>36.000000</td>\n",
       "      <td>104.000000</td>\n",
       "      <td>83.000000</td>\n",
       "      <td>74.000000</td>\n",
       "      <td>21.700000</td>\n",
       "      <td>36.00000</td>\n",
       "    </tr>\n",
       "  </tbody>\n",
       "</table>\n",
       "</div>"
      ],
      "text/plain": [
       "           Tmax_1       Tmin_1   DewPoint_1  ResultSpeed_1  ResultDir_1  \\\n",
       "count  1472.00000  1472.000000  1472.000000    1472.000000  1472.000000   \n",
       "mean     75.97894    56.730978    53.377717       6.987092    17.656250   \n",
       "std      11.50315    10.347907    10.670263       3.586353    10.222077   \n",
       "min      42.00000    29.000000    22.000000       0.100000     1.000000   \n",
       "25%      68.00000    49.000000    46.000000       4.400000     7.000000   \n",
       "50%      78.00000    58.000000    54.000000       6.400000    19.500000   \n",
       "75%      85.00000    65.000000    61.250000       9.100000    26.000000   \n",
       "max     103.00000    82.000000    75.000000      24.100000    36.000000   \n",
       "\n",
       "            Tmax_2       Tmin_2   DewPoint_2  ResultSpeed_2  ResultDir_2  \n",
       "count  1472.000000  1472.000000  1472.000000    1472.000000   1472.00000  \n",
       "mean     76.353261    58.889946    53.538043       6.934239     17.33356  \n",
       "std      11.421482    10.306855    10.683121       3.589725      9.90345  \n",
       "min      41.000000    29.000000    23.000000       0.300000      1.00000  \n",
       "25%      69.000000    51.000000    46.000000       4.275000      8.00000  \n",
       "50%      78.000000    60.000000    55.000000       6.500000     19.00000  \n",
       "75%      85.000000    67.000000    62.000000       9.225000     24.00000  \n",
       "max     104.000000    83.000000    74.000000      21.700000     36.00000  "
      ]
     },
     "execution_count": 23,
     "metadata": {},
     "output_type": "execute_result"
    }
   ],
   "source": [
    "df_weather_2.describe()"
   ]
  },
  {
   "cell_type": "code",
   "execution_count": 24,
   "id": "0422c654",
   "metadata": {},
   "outputs": [
    {
     "data": {
      "text/plain": [
       "Index(['Tmax_1', 'Tmin_1', 'DewPoint_1', 'ResultSpeed_1', 'ResultDir_1',\n",
       "       'Tmax_2', 'Tmin_2', 'DewPoint_2', 'ResultSpeed_2', 'ResultDir_2'],\n",
       "      dtype='object')"
      ]
     },
     "execution_count": 24,
     "metadata": {},
     "output_type": "execute_result"
    }
   ],
   "source": [
    "df_weather_2.describe().columns"
   ]
  },
  {
   "cell_type": "code",
   "execution_count": 25,
   "id": "46ed2f92",
   "metadata": {},
   "outputs": [
    {
     "data": {
      "text/plain": [
       "Index(['Date', 'Tmax_1', 'Tmin_1', 'Tavg_1', 'Depart_1', 'DewPoint_1',\n",
       "       'WetBulb_1', 'Heat_1', 'Cool_1', 'Sunrise_1', 'Sunset_1', 'Depth_1',\n",
       "       'Water1_1', 'SnowFall_1', 'PrecipTotal_1', 'StnPressure_1',\n",
       "       'SeaLevel_1', 'ResultSpeed_1', 'ResultDir_1', 'AvgSpeed_1', 'Tmax_2',\n",
       "       'Tmin_2', 'Tavg_2', 'Depart_2', 'DewPoint_2', 'WetBulb_2', 'Heat_2',\n",
       "       'Cool_2', 'Sunrise_2', 'Sunset_2', 'Depth_2', 'Water1_2', 'SnowFall_2',\n",
       "       'PrecipTotal_2', 'StnPressure_2', 'SeaLevel_2', 'ResultSpeed_2',\n",
       "       'ResultDir_2', 'AvgSpeed_2'],\n",
       "      dtype='object')"
      ]
     },
     "execution_count": 25,
     "metadata": {},
     "output_type": "execute_result"
    }
   ],
   "source": [
    "df_weather_2.columns"
   ]
  },
  {
   "cell_type": "code",
   "execution_count": 26,
   "id": "62eed0bc",
   "metadata": {},
   "outputs": [
    {
     "data": {
      "text/plain": [
       "{'AvgSpeed_1',\n",
       " 'AvgSpeed_2',\n",
       " 'Cool_1',\n",
       " 'Cool_2',\n",
       " 'Date',\n",
       " 'Depart_1',\n",
       " 'Depart_2',\n",
       " 'Depth_1',\n",
       " 'Depth_2',\n",
       " 'Heat_1',\n",
       " 'Heat_2',\n",
       " 'PrecipTotal_1',\n",
       " 'PrecipTotal_2',\n",
       " 'SeaLevel_1',\n",
       " 'SeaLevel_2',\n",
       " 'SnowFall_1',\n",
       " 'SnowFall_2',\n",
       " 'StnPressure_1',\n",
       " 'StnPressure_2',\n",
       " 'Sunrise_1',\n",
       " 'Sunrise_2',\n",
       " 'Sunset_1',\n",
       " 'Sunset_2',\n",
       " 'Tavg_1',\n",
       " 'Tavg_2',\n",
       " 'Water1_1',\n",
       " 'Water1_2',\n",
       " 'WetBulb_1',\n",
       " 'WetBulb_2'}"
      ]
     },
     "execution_count": 26,
     "metadata": {},
     "output_type": "execute_result"
    }
   ],
   "source": [
    "suspicious_cols=set(df_weather_2.columns)-set(df_weather_2.describe().columns)\n",
    "suspicious_cols"
   ]
  },
  {
   "cell_type": "code",
   "execution_count": 27,
   "id": "283a4b26",
   "metadata": {},
   "outputs": [],
   "source": [
    "weather_values=get_value_counts(df_weather_2)"
   ]
  },
  {
   "cell_type": "code",
   "execution_count": 28,
   "id": "a1efebe9",
   "metadata": {},
   "outputs": [
    {
     "data": {
      "text/html": [
       "<div>\n",
       "<style scoped>\n",
       "    .dataframe tbody tr th:only-of-type {\n",
       "        vertical-align: middle;\n",
       "    }\n",
       "\n",
       "    .dataframe tbody tr th {\n",
       "        vertical-align: top;\n",
       "    }\n",
       "\n",
       "    .dataframe thead th {\n",
       "        text-align: right;\n",
       "    }\n",
       "</style>\n",
       "<table border=\"1\" class=\"dataframe\">\n",
       "  <thead>\n",
       "    <tr style=\"text-align: right;\">\n",
       "      <th></th>\n",
       "      <th>T</th>\n",
       "      <th>0</th>\n",
       "      <th>1</th>\n",
       "      <th>2</th>\n",
       "      <th>3</th>\n",
       "      <th>4</th>\n",
       "      <th>5</th>\n",
       "      <th>6</th>\n",
       "      <th>7</th>\n",
       "      <th>8</th>\n",
       "      <th>...</th>\n",
       "      <th>9.6</th>\n",
       "      <th>9.7</th>\n",
       "      <th>9.8</th>\n",
       "      <th>9.9</th>\n",
       "      <th>90</th>\n",
       "      <th>91</th>\n",
       "      <th>92</th>\n",
       "      <th>93</th>\n",
       "      <th>94</th>\n",
       "      <th>M</th>\n",
       "    </tr>\n",
       "  </thead>\n",
       "  <tbody>\n",
       "    <tr>\n",
       "      <th>Water1_2</th>\n",
       "      <td>0.0</td>\n",
       "      <td>0.0</td>\n",
       "      <td>0.0</td>\n",
       "      <td>0.0</td>\n",
       "      <td>0.0</td>\n",
       "      <td>0.0</td>\n",
       "      <td>0.0</td>\n",
       "      <td>0.0</td>\n",
       "      <td>0.0</td>\n",
       "      <td>0.0</td>\n",
       "      <td>...</td>\n",
       "      <td>0.0</td>\n",
       "      <td>0.0</td>\n",
       "      <td>0.0</td>\n",
       "      <td>0.0</td>\n",
       "      <td>0.0</td>\n",
       "      <td>0.0</td>\n",
       "      <td>0.0</td>\n",
       "      <td>0.0</td>\n",
       "      <td>0.0</td>\n",
       "      <td>1472.0</td>\n",
       "    </tr>\n",
       "    <tr>\n",
       "      <th>SnowFall_1</th>\n",
       "      <td>12.0</td>\n",
       "      <td>0.0</td>\n",
       "      <td>0.0</td>\n",
       "      <td>0.0</td>\n",
       "      <td>0.0</td>\n",
       "      <td>0.0</td>\n",
       "      <td>0.0</td>\n",
       "      <td>0.0</td>\n",
       "      <td>0.0</td>\n",
       "      <td>0.0</td>\n",
       "      <td>...</td>\n",
       "      <td>0.0</td>\n",
       "      <td>0.0</td>\n",
       "      <td>0.0</td>\n",
       "      <td>0.0</td>\n",
       "      <td>0.0</td>\n",
       "      <td>0.0</td>\n",
       "      <td>0.0</td>\n",
       "      <td>0.0</td>\n",
       "      <td>0.0</td>\n",
       "      <td>0.0</td>\n",
       "    </tr>\n",
       "    <tr>\n",
       "      <th>Date</th>\n",
       "      <td>0.0</td>\n",
       "      <td>0.0</td>\n",
       "      <td>0.0</td>\n",
       "      <td>0.0</td>\n",
       "      <td>0.0</td>\n",
       "      <td>0.0</td>\n",
       "      <td>0.0</td>\n",
       "      <td>0.0</td>\n",
       "      <td>0.0</td>\n",
       "      <td>0.0</td>\n",
       "      <td>...</td>\n",
       "      <td>0.0</td>\n",
       "      <td>0.0</td>\n",
       "      <td>0.0</td>\n",
       "      <td>0.0</td>\n",
       "      <td>0.0</td>\n",
       "      <td>0.0</td>\n",
       "      <td>0.0</td>\n",
       "      <td>0.0</td>\n",
       "      <td>0.0</td>\n",
       "      <td>0.0</td>\n",
       "    </tr>\n",
       "    <tr>\n",
       "      <th>StnPressure_1</th>\n",
       "      <td>0.0</td>\n",
       "      <td>0.0</td>\n",
       "      <td>0.0</td>\n",
       "      <td>0.0</td>\n",
       "      <td>0.0</td>\n",
       "      <td>0.0</td>\n",
       "      <td>0.0</td>\n",
       "      <td>0.0</td>\n",
       "      <td>0.0</td>\n",
       "      <td>0.0</td>\n",
       "      <td>...</td>\n",
       "      <td>0.0</td>\n",
       "      <td>0.0</td>\n",
       "      <td>0.0</td>\n",
       "      <td>0.0</td>\n",
       "      <td>0.0</td>\n",
       "      <td>0.0</td>\n",
       "      <td>0.0</td>\n",
       "      <td>0.0</td>\n",
       "      <td>0.0</td>\n",
       "      <td>2.0</td>\n",
       "    </tr>\n",
       "    <tr>\n",
       "      <th>AvgSpeed_1</th>\n",
       "      <td>0.0</td>\n",
       "      <td>0.0</td>\n",
       "      <td>0.0</td>\n",
       "      <td>0.0</td>\n",
       "      <td>0.0</td>\n",
       "      <td>0.0</td>\n",
       "      <td>0.0</td>\n",
       "      <td>0.0</td>\n",
       "      <td>0.0</td>\n",
       "      <td>0.0</td>\n",
       "      <td>...</td>\n",
       "      <td>17.0</td>\n",
       "      <td>14.0</td>\n",
       "      <td>17.0</td>\n",
       "      <td>16.0</td>\n",
       "      <td>0.0</td>\n",
       "      <td>0.0</td>\n",
       "      <td>0.0</td>\n",
       "      <td>0.0</td>\n",
       "      <td>0.0</td>\n",
       "      <td>0.0</td>\n",
       "    </tr>\n",
       "    <tr>\n",
       "      <th>Tavg_1</th>\n",
       "      <td>0.0</td>\n",
       "      <td>0.0</td>\n",
       "      <td>0.0</td>\n",
       "      <td>0.0</td>\n",
       "      <td>0.0</td>\n",
       "      <td>0.0</td>\n",
       "      <td>0.0</td>\n",
       "      <td>0.0</td>\n",
       "      <td>0.0</td>\n",
       "      <td>0.0</td>\n",
       "      <td>...</td>\n",
       "      <td>0.0</td>\n",
       "      <td>0.0</td>\n",
       "      <td>0.0</td>\n",
       "      <td>0.0</td>\n",
       "      <td>0.0</td>\n",
       "      <td>2.0</td>\n",
       "      <td>0.0</td>\n",
       "      <td>1.0</td>\n",
       "      <td>0.0</td>\n",
       "      <td>0.0</td>\n",
       "    </tr>\n",
       "    <tr>\n",
       "      <th>PrecipTotal_1</th>\n",
       "      <td>163.0</td>\n",
       "      <td>0.0</td>\n",
       "      <td>0.0</td>\n",
       "      <td>0.0</td>\n",
       "      <td>0.0</td>\n",
       "      <td>0.0</td>\n",
       "      <td>0.0</td>\n",
       "      <td>0.0</td>\n",
       "      <td>0.0</td>\n",
       "      <td>0.0</td>\n",
       "      <td>...</td>\n",
       "      <td>0.0</td>\n",
       "      <td>0.0</td>\n",
       "      <td>0.0</td>\n",
       "      <td>0.0</td>\n",
       "      <td>0.0</td>\n",
       "      <td>0.0</td>\n",
       "      <td>0.0</td>\n",
       "      <td>0.0</td>\n",
       "      <td>0.0</td>\n",
       "      <td>0.0</td>\n",
       "    </tr>\n",
       "    <tr>\n",
       "      <th>Cool_2</th>\n",
       "      <td>0.0</td>\n",
       "      <td>536.0</td>\n",
       "      <td>41.0</td>\n",
       "      <td>48.0</td>\n",
       "      <td>62.0</td>\n",
       "      <td>35.0</td>\n",
       "      <td>64.0</td>\n",
       "      <td>48.0</td>\n",
       "      <td>54.0</td>\n",
       "      <td>68.0</td>\n",
       "      <td>...</td>\n",
       "      <td>0.0</td>\n",
       "      <td>0.0</td>\n",
       "      <td>0.0</td>\n",
       "      <td>0.0</td>\n",
       "      <td>0.0</td>\n",
       "      <td>0.0</td>\n",
       "      <td>0.0</td>\n",
       "      <td>0.0</td>\n",
       "      <td>0.0</td>\n",
       "      <td>11.0</td>\n",
       "    </tr>\n",
       "    <tr>\n",
       "      <th>Tavg_2</th>\n",
       "      <td>0.0</td>\n",
       "      <td>0.0</td>\n",
       "      <td>0.0</td>\n",
       "      <td>0.0</td>\n",
       "      <td>0.0</td>\n",
       "      <td>0.0</td>\n",
       "      <td>0.0</td>\n",
       "      <td>0.0</td>\n",
       "      <td>0.0</td>\n",
       "      <td>0.0</td>\n",
       "      <td>...</td>\n",
       "      <td>0.0</td>\n",
       "      <td>0.0</td>\n",
       "      <td>0.0</td>\n",
       "      <td>0.0</td>\n",
       "      <td>2.0</td>\n",
       "      <td>2.0</td>\n",
       "      <td>1.0</td>\n",
       "      <td>0.0</td>\n",
       "      <td>1.0</td>\n",
       "      <td>11.0</td>\n",
       "    </tr>\n",
       "    <tr>\n",
       "      <th>SnowFall_2</th>\n",
       "      <td>0.0</td>\n",
       "      <td>0.0</td>\n",
       "      <td>0.0</td>\n",
       "      <td>0.0</td>\n",
       "      <td>0.0</td>\n",
       "      <td>0.0</td>\n",
       "      <td>0.0</td>\n",
       "      <td>0.0</td>\n",
       "      <td>0.0</td>\n",
       "      <td>0.0</td>\n",
       "      <td>...</td>\n",
       "      <td>0.0</td>\n",
       "      <td>0.0</td>\n",
       "      <td>0.0</td>\n",
       "      <td>0.0</td>\n",
       "      <td>0.0</td>\n",
       "      <td>0.0</td>\n",
       "      <td>0.0</td>\n",
       "      <td>0.0</td>\n",
       "      <td>0.0</td>\n",
       "      <td>1472.0</td>\n",
       "    </tr>\n",
       "    <tr>\n",
       "      <th>Sunrise_1</th>\n",
       "      <td>0.0</td>\n",
       "      <td>0.0</td>\n",
       "      <td>0.0</td>\n",
       "      <td>0.0</td>\n",
       "      <td>0.0</td>\n",
       "      <td>0.0</td>\n",
       "      <td>0.0</td>\n",
       "      <td>0.0</td>\n",
       "      <td>0.0</td>\n",
       "      <td>0.0</td>\n",
       "      <td>...</td>\n",
       "      <td>0.0</td>\n",
       "      <td>0.0</td>\n",
       "      <td>0.0</td>\n",
       "      <td>0.0</td>\n",
       "      <td>0.0</td>\n",
       "      <td>0.0</td>\n",
       "      <td>0.0</td>\n",
       "      <td>0.0</td>\n",
       "      <td>0.0</td>\n",
       "      <td>0.0</td>\n",
       "    </tr>\n",
       "    <tr>\n",
       "      <th>Depart_2</th>\n",
       "      <td>0.0</td>\n",
       "      <td>0.0</td>\n",
       "      <td>0.0</td>\n",
       "      <td>0.0</td>\n",
       "      <td>0.0</td>\n",
       "      <td>0.0</td>\n",
       "      <td>0.0</td>\n",
       "      <td>0.0</td>\n",
       "      <td>0.0</td>\n",
       "      <td>0.0</td>\n",
       "      <td>...</td>\n",
       "      <td>0.0</td>\n",
       "      <td>0.0</td>\n",
       "      <td>0.0</td>\n",
       "      <td>0.0</td>\n",
       "      <td>0.0</td>\n",
       "      <td>0.0</td>\n",
       "      <td>0.0</td>\n",
       "      <td>0.0</td>\n",
       "      <td>0.0</td>\n",
       "      <td>1472.0</td>\n",
       "    </tr>\n",
       "    <tr>\n",
       "      <th>Heat_2</th>\n",
       "      <td>0.0</td>\n",
       "      <td>0.0</td>\n",
       "      <td>0.0</td>\n",
       "      <td>0.0</td>\n",
       "      <td>0.0</td>\n",
       "      <td>0.0</td>\n",
       "      <td>0.0</td>\n",
       "      <td>0.0</td>\n",
       "      <td>0.0</td>\n",
       "      <td>0.0</td>\n",
       "      <td>...</td>\n",
       "      <td>0.0</td>\n",
       "      <td>0.0</td>\n",
       "      <td>0.0</td>\n",
       "      <td>0.0</td>\n",
       "      <td>0.0</td>\n",
       "      <td>0.0</td>\n",
       "      <td>0.0</td>\n",
       "      <td>0.0</td>\n",
       "      <td>0.0</td>\n",
       "      <td>11.0</td>\n",
       "    </tr>\n",
       "    <tr>\n",
       "      <th>WetBulb_1</th>\n",
       "      <td>0.0</td>\n",
       "      <td>0.0</td>\n",
       "      <td>0.0</td>\n",
       "      <td>0.0</td>\n",
       "      <td>0.0</td>\n",
       "      <td>0.0</td>\n",
       "      <td>0.0</td>\n",
       "      <td>0.0</td>\n",
       "      <td>0.0</td>\n",
       "      <td>0.0</td>\n",
       "      <td>...</td>\n",
       "      <td>0.0</td>\n",
       "      <td>0.0</td>\n",
       "      <td>0.0</td>\n",
       "      <td>0.0</td>\n",
       "      <td>0.0</td>\n",
       "      <td>0.0</td>\n",
       "      <td>0.0</td>\n",
       "      <td>0.0</td>\n",
       "      <td>0.0</td>\n",
       "      <td>3.0</td>\n",
       "    </tr>\n",
       "    <tr>\n",
       "      <th>Water1_1</th>\n",
       "      <td>0.0</td>\n",
       "      <td>0.0</td>\n",
       "      <td>0.0</td>\n",
       "      <td>0.0</td>\n",
       "      <td>0.0</td>\n",
       "      <td>0.0</td>\n",
       "      <td>0.0</td>\n",
       "      <td>0.0</td>\n",
       "      <td>0.0</td>\n",
       "      <td>0.0</td>\n",
       "      <td>...</td>\n",
       "      <td>0.0</td>\n",
       "      <td>0.0</td>\n",
       "      <td>0.0</td>\n",
       "      <td>0.0</td>\n",
       "      <td>0.0</td>\n",
       "      <td>0.0</td>\n",
       "      <td>0.0</td>\n",
       "      <td>0.0</td>\n",
       "      <td>0.0</td>\n",
       "      <td>1472.0</td>\n",
       "    </tr>\n",
       "    <tr>\n",
       "      <th>WetBulb_2</th>\n",
       "      <td>0.0</td>\n",
       "      <td>0.0</td>\n",
       "      <td>0.0</td>\n",
       "      <td>0.0</td>\n",
       "      <td>0.0</td>\n",
       "      <td>0.0</td>\n",
       "      <td>0.0</td>\n",
       "      <td>0.0</td>\n",
       "      <td>0.0</td>\n",
       "      <td>0.0</td>\n",
       "      <td>...</td>\n",
       "      <td>0.0</td>\n",
       "      <td>0.0</td>\n",
       "      <td>0.0</td>\n",
       "      <td>0.0</td>\n",
       "      <td>0.0</td>\n",
       "      <td>0.0</td>\n",
       "      <td>0.0</td>\n",
       "      <td>0.0</td>\n",
       "      <td>0.0</td>\n",
       "      <td>1.0</td>\n",
       "    </tr>\n",
       "    <tr>\n",
       "      <th>SeaLevel_1</th>\n",
       "      <td>0.0</td>\n",
       "      <td>0.0</td>\n",
       "      <td>0.0</td>\n",
       "      <td>0.0</td>\n",
       "      <td>0.0</td>\n",
       "      <td>0.0</td>\n",
       "      <td>0.0</td>\n",
       "      <td>0.0</td>\n",
       "      <td>0.0</td>\n",
       "      <td>0.0</td>\n",
       "      <td>...</td>\n",
       "      <td>0.0</td>\n",
       "      <td>0.0</td>\n",
       "      <td>0.0</td>\n",
       "      <td>0.0</td>\n",
       "      <td>0.0</td>\n",
       "      <td>0.0</td>\n",
       "      <td>0.0</td>\n",
       "      <td>0.0</td>\n",
       "      <td>0.0</td>\n",
       "      <td>5.0</td>\n",
       "    </tr>\n",
       "    <tr>\n",
       "      <th>Cool_1</th>\n",
       "      <td>0.0</td>\n",
       "      <td>611.0</td>\n",
       "      <td>52.0</td>\n",
       "      <td>41.0</td>\n",
       "      <td>37.0</td>\n",
       "      <td>68.0</td>\n",
       "      <td>53.0</td>\n",
       "      <td>61.0</td>\n",
       "      <td>50.0</td>\n",
       "      <td>70.0</td>\n",
       "      <td>...</td>\n",
       "      <td>0.0</td>\n",
       "      <td>0.0</td>\n",
       "      <td>0.0</td>\n",
       "      <td>0.0</td>\n",
       "      <td>0.0</td>\n",
       "      <td>0.0</td>\n",
       "      <td>0.0</td>\n",
       "      <td>0.0</td>\n",
       "      <td>0.0</td>\n",
       "      <td>0.0</td>\n",
       "    </tr>\n",
       "    <tr>\n",
       "      <th>AvgSpeed_2</th>\n",
       "      <td>0.0</td>\n",
       "      <td>0.0</td>\n",
       "      <td>0.0</td>\n",
       "      <td>0.0</td>\n",
       "      <td>0.0</td>\n",
       "      <td>0.0</td>\n",
       "      <td>0.0</td>\n",
       "      <td>0.0</td>\n",
       "      <td>0.0</td>\n",
       "      <td>0.0</td>\n",
       "      <td>...</td>\n",
       "      <td>17.0</td>\n",
       "      <td>12.0</td>\n",
       "      <td>7.0</td>\n",
       "      <td>16.0</td>\n",
       "      <td>0.0</td>\n",
       "      <td>0.0</td>\n",
       "      <td>0.0</td>\n",
       "      <td>0.0</td>\n",
       "      <td>0.0</td>\n",
       "      <td>3.0</td>\n",
       "    </tr>\n",
       "    <tr>\n",
       "      <th>Depth_1</th>\n",
       "      <td>0.0</td>\n",
       "      <td>0.0</td>\n",
       "      <td>0.0</td>\n",
       "      <td>0.0</td>\n",
       "      <td>0.0</td>\n",
       "      <td>0.0</td>\n",
       "      <td>0.0</td>\n",
       "      <td>0.0</td>\n",
       "      <td>0.0</td>\n",
       "      <td>0.0</td>\n",
       "      <td>...</td>\n",
       "      <td>0.0</td>\n",
       "      <td>0.0</td>\n",
       "      <td>0.0</td>\n",
       "      <td>0.0</td>\n",
       "      <td>0.0</td>\n",
       "      <td>0.0</td>\n",
       "      <td>0.0</td>\n",
       "      <td>0.0</td>\n",
       "      <td>0.0</td>\n",
       "      <td>0.0</td>\n",
       "    </tr>\n",
       "    <tr>\n",
       "      <th>Sunset_2</th>\n",
       "      <td>0.0</td>\n",
       "      <td>0.0</td>\n",
       "      <td>0.0</td>\n",
       "      <td>0.0</td>\n",
       "      <td>0.0</td>\n",
       "      <td>0.0</td>\n",
       "      <td>0.0</td>\n",
       "      <td>0.0</td>\n",
       "      <td>0.0</td>\n",
       "      <td>0.0</td>\n",
       "      <td>...</td>\n",
       "      <td>0.0</td>\n",
       "      <td>0.0</td>\n",
       "      <td>0.0</td>\n",
       "      <td>0.0</td>\n",
       "      <td>0.0</td>\n",
       "      <td>0.0</td>\n",
       "      <td>0.0</td>\n",
       "      <td>0.0</td>\n",
       "      <td>0.0</td>\n",
       "      <td>0.0</td>\n",
       "    </tr>\n",
       "    <tr>\n",
       "      <th>Sunrise_2</th>\n",
       "      <td>0.0</td>\n",
       "      <td>0.0</td>\n",
       "      <td>0.0</td>\n",
       "      <td>0.0</td>\n",
       "      <td>0.0</td>\n",
       "      <td>0.0</td>\n",
       "      <td>0.0</td>\n",
       "      <td>0.0</td>\n",
       "      <td>0.0</td>\n",
       "      <td>0.0</td>\n",
       "      <td>...</td>\n",
       "      <td>0.0</td>\n",
       "      <td>0.0</td>\n",
       "      <td>0.0</td>\n",
       "      <td>0.0</td>\n",
       "      <td>0.0</td>\n",
       "      <td>0.0</td>\n",
       "      <td>0.0</td>\n",
       "      <td>0.0</td>\n",
       "      <td>0.0</td>\n",
       "      <td>0.0</td>\n",
       "    </tr>\n",
       "    <tr>\n",
       "      <th>PrecipTotal_2</th>\n",
       "      <td>155.0</td>\n",
       "      <td>0.0</td>\n",
       "      <td>0.0</td>\n",
       "      <td>0.0</td>\n",
       "      <td>0.0</td>\n",
       "      <td>0.0</td>\n",
       "      <td>0.0</td>\n",
       "      <td>0.0</td>\n",
       "      <td>0.0</td>\n",
       "      <td>0.0</td>\n",
       "      <td>...</td>\n",
       "      <td>0.0</td>\n",
       "      <td>0.0</td>\n",
       "      <td>0.0</td>\n",
       "      <td>0.0</td>\n",
       "      <td>0.0</td>\n",
       "      <td>0.0</td>\n",
       "      <td>0.0</td>\n",
       "      <td>0.0</td>\n",
       "      <td>0.0</td>\n",
       "      <td>2.0</td>\n",
       "    </tr>\n",
       "    <tr>\n",
       "      <th>StnPressure_2</th>\n",
       "      <td>0.0</td>\n",
       "      <td>0.0</td>\n",
       "      <td>0.0</td>\n",
       "      <td>0.0</td>\n",
       "      <td>0.0</td>\n",
       "      <td>0.0</td>\n",
       "      <td>0.0</td>\n",
       "      <td>0.0</td>\n",
       "      <td>0.0</td>\n",
       "      <td>0.0</td>\n",
       "      <td>...</td>\n",
       "      <td>0.0</td>\n",
       "      <td>0.0</td>\n",
       "      <td>0.0</td>\n",
       "      <td>0.0</td>\n",
       "      <td>0.0</td>\n",
       "      <td>0.0</td>\n",
       "      <td>0.0</td>\n",
       "      <td>0.0</td>\n",
       "      <td>0.0</td>\n",
       "      <td>2.0</td>\n",
       "    </tr>\n",
       "    <tr>\n",
       "      <th>SeaLevel_2</th>\n",
       "      <td>0.0</td>\n",
       "      <td>0.0</td>\n",
       "      <td>0.0</td>\n",
       "      <td>0.0</td>\n",
       "      <td>0.0</td>\n",
       "      <td>0.0</td>\n",
       "      <td>0.0</td>\n",
       "      <td>0.0</td>\n",
       "      <td>0.0</td>\n",
       "      <td>0.0</td>\n",
       "      <td>...</td>\n",
       "      <td>0.0</td>\n",
       "      <td>0.0</td>\n",
       "      <td>0.0</td>\n",
       "      <td>0.0</td>\n",
       "      <td>0.0</td>\n",
       "      <td>0.0</td>\n",
       "      <td>0.0</td>\n",
       "      <td>0.0</td>\n",
       "      <td>0.0</td>\n",
       "      <td>4.0</td>\n",
       "    </tr>\n",
       "    <tr>\n",
       "      <th>Sunset_1</th>\n",
       "      <td>0.0</td>\n",
       "      <td>0.0</td>\n",
       "      <td>0.0</td>\n",
       "      <td>0.0</td>\n",
       "      <td>0.0</td>\n",
       "      <td>0.0</td>\n",
       "      <td>0.0</td>\n",
       "      <td>0.0</td>\n",
       "      <td>0.0</td>\n",
       "      <td>0.0</td>\n",
       "      <td>...</td>\n",
       "      <td>0.0</td>\n",
       "      <td>0.0</td>\n",
       "      <td>0.0</td>\n",
       "      <td>0.0</td>\n",
       "      <td>0.0</td>\n",
       "      <td>0.0</td>\n",
       "      <td>0.0</td>\n",
       "      <td>0.0</td>\n",
       "      <td>0.0</td>\n",
       "      <td>0.0</td>\n",
       "    </tr>\n",
       "    <tr>\n",
       "      <th>Heat_1</th>\n",
       "      <td>0.0</td>\n",
       "      <td>0.0</td>\n",
       "      <td>0.0</td>\n",
       "      <td>0.0</td>\n",
       "      <td>0.0</td>\n",
       "      <td>0.0</td>\n",
       "      <td>0.0</td>\n",
       "      <td>0.0</td>\n",
       "      <td>0.0</td>\n",
       "      <td>0.0</td>\n",
       "      <td>...</td>\n",
       "      <td>0.0</td>\n",
       "      <td>0.0</td>\n",
       "      <td>0.0</td>\n",
       "      <td>0.0</td>\n",
       "      <td>0.0</td>\n",
       "      <td>0.0</td>\n",
       "      <td>0.0</td>\n",
       "      <td>0.0</td>\n",
       "      <td>0.0</td>\n",
       "      <td>0.0</td>\n",
       "    </tr>\n",
       "    <tr>\n",
       "      <th>Depart_1</th>\n",
       "      <td>0.0</td>\n",
       "      <td>74.0</td>\n",
       "      <td>76.0</td>\n",
       "      <td>93.0</td>\n",
       "      <td>75.0</td>\n",
       "      <td>71.0</td>\n",
       "      <td>77.0</td>\n",
       "      <td>67.0</td>\n",
       "      <td>76.0</td>\n",
       "      <td>59.0</td>\n",
       "      <td>...</td>\n",
       "      <td>0.0</td>\n",
       "      <td>0.0</td>\n",
       "      <td>0.0</td>\n",
       "      <td>0.0</td>\n",
       "      <td>0.0</td>\n",
       "      <td>0.0</td>\n",
       "      <td>0.0</td>\n",
       "      <td>0.0</td>\n",
       "      <td>0.0</td>\n",
       "      <td>0.0</td>\n",
       "    </tr>\n",
       "    <tr>\n",
       "      <th>Depth_2</th>\n",
       "      <td>0.0</td>\n",
       "      <td>0.0</td>\n",
       "      <td>0.0</td>\n",
       "      <td>0.0</td>\n",
       "      <td>0.0</td>\n",
       "      <td>0.0</td>\n",
       "      <td>0.0</td>\n",
       "      <td>0.0</td>\n",
       "      <td>0.0</td>\n",
       "      <td>0.0</td>\n",
       "      <td>...</td>\n",
       "      <td>0.0</td>\n",
       "      <td>0.0</td>\n",
       "      <td>0.0</td>\n",
       "      <td>0.0</td>\n",
       "      <td>0.0</td>\n",
       "      <td>0.0</td>\n",
       "      <td>0.0</td>\n",
       "      <td>0.0</td>\n",
       "      <td>0.0</td>\n",
       "      <td>1472.0</td>\n",
       "    </tr>\n",
       "  </tbody>\n",
       "</table>\n",
       "<p>29 rows × 2353 columns</p>\n",
       "</div>"
      ],
      "text/plain": [
       "                   T      0     1     2     3     4     5     6     7     8  \\\n",
       "Water1_2         0.0    0.0   0.0   0.0   0.0   0.0   0.0   0.0   0.0   0.0   \n",
       "SnowFall_1      12.0    0.0   0.0   0.0   0.0   0.0   0.0   0.0   0.0   0.0   \n",
       "Date             0.0    0.0   0.0   0.0   0.0   0.0   0.0   0.0   0.0   0.0   \n",
       "StnPressure_1    0.0    0.0   0.0   0.0   0.0   0.0   0.0   0.0   0.0   0.0   \n",
       "AvgSpeed_1       0.0    0.0   0.0   0.0   0.0   0.0   0.0   0.0   0.0   0.0   \n",
       "Tavg_1           0.0    0.0   0.0   0.0   0.0   0.0   0.0   0.0   0.0   0.0   \n",
       "PrecipTotal_1  163.0    0.0   0.0   0.0   0.0   0.0   0.0   0.0   0.0   0.0   \n",
       "Cool_2           0.0  536.0  41.0  48.0  62.0  35.0  64.0  48.0  54.0  68.0   \n",
       "Tavg_2           0.0    0.0   0.0   0.0   0.0   0.0   0.0   0.0   0.0   0.0   \n",
       "SnowFall_2       0.0    0.0   0.0   0.0   0.0   0.0   0.0   0.0   0.0   0.0   \n",
       "Sunrise_1        0.0    0.0   0.0   0.0   0.0   0.0   0.0   0.0   0.0   0.0   \n",
       "Depart_2         0.0    0.0   0.0   0.0   0.0   0.0   0.0   0.0   0.0   0.0   \n",
       "Heat_2           0.0    0.0   0.0   0.0   0.0   0.0   0.0   0.0   0.0   0.0   \n",
       "WetBulb_1        0.0    0.0   0.0   0.0   0.0   0.0   0.0   0.0   0.0   0.0   \n",
       "Water1_1         0.0    0.0   0.0   0.0   0.0   0.0   0.0   0.0   0.0   0.0   \n",
       "WetBulb_2        0.0    0.0   0.0   0.0   0.0   0.0   0.0   0.0   0.0   0.0   \n",
       "SeaLevel_1       0.0    0.0   0.0   0.0   0.0   0.0   0.0   0.0   0.0   0.0   \n",
       "Cool_1           0.0  611.0  52.0  41.0  37.0  68.0  53.0  61.0  50.0  70.0   \n",
       "AvgSpeed_2       0.0    0.0   0.0   0.0   0.0   0.0   0.0   0.0   0.0   0.0   \n",
       "Depth_1          0.0    0.0   0.0   0.0   0.0   0.0   0.0   0.0   0.0   0.0   \n",
       "Sunset_2         0.0    0.0   0.0   0.0   0.0   0.0   0.0   0.0   0.0   0.0   \n",
       "Sunrise_2        0.0    0.0   0.0   0.0   0.0   0.0   0.0   0.0   0.0   0.0   \n",
       "PrecipTotal_2  155.0    0.0   0.0   0.0   0.0   0.0   0.0   0.0   0.0   0.0   \n",
       "StnPressure_2    0.0    0.0   0.0   0.0   0.0   0.0   0.0   0.0   0.0   0.0   \n",
       "SeaLevel_2       0.0    0.0   0.0   0.0   0.0   0.0   0.0   0.0   0.0   0.0   \n",
       "Sunset_1         0.0    0.0   0.0   0.0   0.0   0.0   0.0   0.0   0.0   0.0   \n",
       "Heat_1           0.0    0.0   0.0   0.0   0.0   0.0   0.0   0.0   0.0   0.0   \n",
       "Depart_1         0.0   74.0  76.0  93.0  75.0  71.0  77.0  67.0  76.0  59.0   \n",
       "Depth_2          0.0    0.0   0.0   0.0   0.0   0.0   0.0   0.0   0.0   0.0   \n",
       "\n",
       "               ...   9.6   9.7   9.8   9.9   90   91   92   93   94       M  \n",
       "Water1_2       ...   0.0   0.0   0.0   0.0  0.0  0.0  0.0  0.0  0.0  1472.0  \n",
       "SnowFall_1     ...   0.0   0.0   0.0   0.0  0.0  0.0  0.0  0.0  0.0     0.0  \n",
       "Date           ...   0.0   0.0   0.0   0.0  0.0  0.0  0.0  0.0  0.0     0.0  \n",
       "StnPressure_1  ...   0.0   0.0   0.0   0.0  0.0  0.0  0.0  0.0  0.0     2.0  \n",
       "AvgSpeed_1     ...  17.0  14.0  17.0  16.0  0.0  0.0  0.0  0.0  0.0     0.0  \n",
       "Tavg_1         ...   0.0   0.0   0.0   0.0  0.0  2.0  0.0  1.0  0.0     0.0  \n",
       "PrecipTotal_1  ...   0.0   0.0   0.0   0.0  0.0  0.0  0.0  0.0  0.0     0.0  \n",
       "Cool_2         ...   0.0   0.0   0.0   0.0  0.0  0.0  0.0  0.0  0.0    11.0  \n",
       "Tavg_2         ...   0.0   0.0   0.0   0.0  2.0  2.0  1.0  0.0  1.0    11.0  \n",
       "SnowFall_2     ...   0.0   0.0   0.0   0.0  0.0  0.0  0.0  0.0  0.0  1472.0  \n",
       "Sunrise_1      ...   0.0   0.0   0.0   0.0  0.0  0.0  0.0  0.0  0.0     0.0  \n",
       "Depart_2       ...   0.0   0.0   0.0   0.0  0.0  0.0  0.0  0.0  0.0  1472.0  \n",
       "Heat_2         ...   0.0   0.0   0.0   0.0  0.0  0.0  0.0  0.0  0.0    11.0  \n",
       "WetBulb_1      ...   0.0   0.0   0.0   0.0  0.0  0.0  0.0  0.0  0.0     3.0  \n",
       "Water1_1       ...   0.0   0.0   0.0   0.0  0.0  0.0  0.0  0.0  0.0  1472.0  \n",
       "WetBulb_2      ...   0.0   0.0   0.0   0.0  0.0  0.0  0.0  0.0  0.0     1.0  \n",
       "SeaLevel_1     ...   0.0   0.0   0.0   0.0  0.0  0.0  0.0  0.0  0.0     5.0  \n",
       "Cool_1         ...   0.0   0.0   0.0   0.0  0.0  0.0  0.0  0.0  0.0     0.0  \n",
       "AvgSpeed_2     ...  17.0  12.0   7.0  16.0  0.0  0.0  0.0  0.0  0.0     3.0  \n",
       "Depth_1        ...   0.0   0.0   0.0   0.0  0.0  0.0  0.0  0.0  0.0     0.0  \n",
       "Sunset_2       ...   0.0   0.0   0.0   0.0  0.0  0.0  0.0  0.0  0.0     0.0  \n",
       "Sunrise_2      ...   0.0   0.0   0.0   0.0  0.0  0.0  0.0  0.0  0.0     0.0  \n",
       "PrecipTotal_2  ...   0.0   0.0   0.0   0.0  0.0  0.0  0.0  0.0  0.0     2.0  \n",
       "StnPressure_2  ...   0.0   0.0   0.0   0.0  0.0  0.0  0.0  0.0  0.0     2.0  \n",
       "SeaLevel_2     ...   0.0   0.0   0.0   0.0  0.0  0.0  0.0  0.0  0.0     4.0  \n",
       "Sunset_1       ...   0.0   0.0   0.0   0.0  0.0  0.0  0.0  0.0  0.0     0.0  \n",
       "Heat_1         ...   0.0   0.0   0.0   0.0  0.0  0.0  0.0  0.0  0.0     0.0  \n",
       "Depart_1       ...   0.0   0.0   0.0   0.0  0.0  0.0  0.0  0.0  0.0     0.0  \n",
       "Depth_2        ...   0.0   0.0   0.0   0.0  0.0  0.0  0.0  0.0  0.0  1472.0  \n",
       "\n",
       "[29 rows x 2353 columns]"
      ]
     },
     "execution_count": 28,
     "metadata": {},
     "output_type": "execute_result"
    }
   ],
   "source": [
    "sus_vals=pd.DataFrame(get_value_counts(df_weather_2[suspicious_cols])).T.fillna(0)\n",
    "sus_vals"
   ]
  },
  {
   "cell_type": "code",
   "execution_count": 29,
   "id": "f1eac7ee",
   "metadata": {},
   "outputs": [
    {
     "data": {
      "text/plain": [
       "Index(['Water1_2', 'SnowFall_2', 'Depart_2', 'Water1_1', 'Depth_2'], dtype='object')"
      ]
     },
     "execution_count": 29,
     "metadata": {},
     "output_type": "execute_result"
    }
   ],
   "source": [
    "sus_vals[sus_vals['M']>1000].index"
   ]
  },
  {
   "cell_type": "code",
   "execution_count": 30,
   "id": "b655795d",
   "metadata": {},
   "outputs": [
    {
     "data": {
      "text/plain": [
       "Index(['Water1_2', 'StnPressure_1', 'Cool_2', 'Tavg_2', 'SnowFall_2',\n",
       "       'Depart_2', 'Heat_2', 'WetBulb_1', 'Water1_1', 'WetBulb_2',\n",
       "       'SeaLevel_1', 'AvgSpeed_2', 'PrecipTotal_2', 'StnPressure_2',\n",
       "       'SeaLevel_2', 'Depth_2'],\n",
       "      dtype='object')"
      ]
     },
     "execution_count": 30,
     "metadata": {},
     "output_type": "execute_result"
    }
   ],
   "source": [
    "sus_vals[sus_vals['M']>0].index"
   ]
  },
  {
   "cell_type": "code",
   "execution_count": 31,
   "id": "f49dde0b",
   "metadata": {},
   "outputs": [],
   "source": [
    "df_weather_3=df_weather_2.drop(['Depart_2', 'Water1_1', 'Depth_2', 'SnowFall_2', 'Water1_2'],axis=1)"
   ]
  },
  {
   "cell_type": "code",
   "execution_count": 32,
   "id": "e79f89fd",
   "metadata": {},
   "outputs": [
    {
     "data": {
      "text/plain": [
       "Date              0\n",
       "Tmax_1            0\n",
       "Tmin_1            0\n",
       "Tavg_1            0\n",
       "Depart_1          0\n",
       "DewPoint_1        0\n",
       "WetBulb_1         3\n",
       "Heat_1            0\n",
       "Cool_1            0\n",
       "Sunrise_1         0\n",
       "Sunset_1          0\n",
       "Depth_1           0\n",
       "SnowFall_1        0\n",
       "PrecipTotal_1     0\n",
       "StnPressure_1     2\n",
       "SeaLevel_1        5\n",
       "ResultSpeed_1     0\n",
       "ResultDir_1       0\n",
       "AvgSpeed_1        0\n",
       "Tmax_2            0\n",
       "Tmin_2            0\n",
       "Tavg_2           11\n",
       "DewPoint_2        0\n",
       "WetBulb_2         1\n",
       "Heat_2           11\n",
       "Cool_2           11\n",
       "Sunrise_2         0\n",
       "Sunset_2          0\n",
       "PrecipTotal_2     2\n",
       "StnPressure_2     2\n",
       "SeaLevel_2        4\n",
       "ResultSpeed_2     0\n",
       "ResultDir_2       0\n",
       "AvgSpeed_2        3\n",
       "dtype: int64"
      ]
     },
     "execution_count": 32,
     "metadata": {},
     "output_type": "execute_result"
    }
   ],
   "source": [
    "df_weather_3[df_weather_3=='M'].count(axis=0)"
   ]
  },
  {
   "cell_type": "code",
   "execution_count": 33,
   "id": "9e5295ca",
   "metadata": {},
   "outputs": [
    {
     "data": {
      "text/plain": [
       "Date                0\n",
       "Tmax_1              0\n",
       "Tmin_1              0\n",
       "Tavg_1              0\n",
       "Depart_1            0\n",
       "DewPoint_1          0\n",
       "WetBulb_1           0\n",
       "Heat_1              0\n",
       "Cool_1              0\n",
       "Sunrise_1           0\n",
       "Sunset_1            0\n",
       "Depth_1             0\n",
       "SnowFall_1          0\n",
       "PrecipTotal_1       0\n",
       "StnPressure_1       0\n",
       "SeaLevel_1          0\n",
       "ResultSpeed_1       0\n",
       "ResultDir_1         0\n",
       "AvgSpeed_1          0\n",
       "Tmax_2              0\n",
       "Tmin_2              0\n",
       "Tavg_2              0\n",
       "DewPoint_2          0\n",
       "WetBulb_2           0\n",
       "Heat_2              0\n",
       "Cool_2              0\n",
       "Sunrise_2        1472\n",
       "Sunset_2         1472\n",
       "PrecipTotal_2       0\n",
       "StnPressure_2       0\n",
       "SeaLevel_2          0\n",
       "ResultSpeed_2       0\n",
       "ResultDir_2         0\n",
       "AvgSpeed_2          0\n",
       "dtype: int64"
      ]
     },
     "execution_count": 33,
     "metadata": {},
     "output_type": "execute_result"
    }
   ],
   "source": [
    "df_weather_3[df_weather_3=='-'].count(axis=0)"
   ]
  },
  {
   "cell_type": "code",
   "execution_count": 34,
   "id": "5a6218d4",
   "metadata": {},
   "outputs": [
    {
     "data": {
      "text/plain": [
       "Date               0\n",
       "Tmax_1             0\n",
       "Tmin_1             0\n",
       "Tavg_1             0\n",
       "Depart_1           0\n",
       "DewPoint_1         0\n",
       "WetBulb_1          0\n",
       "Heat_1             0\n",
       "Cool_1             0\n",
       "Sunrise_1          0\n",
       "Sunset_1           0\n",
       "Depth_1            0\n",
       "SnowFall_1        12\n",
       "PrecipTotal_1    163\n",
       "StnPressure_1      0\n",
       "SeaLevel_1         0\n",
       "ResultSpeed_1      0\n",
       "ResultDir_1        0\n",
       "AvgSpeed_1         0\n",
       "Tmax_2             0\n",
       "Tmin_2             0\n",
       "Tavg_2             0\n",
       "DewPoint_2         0\n",
       "WetBulb_2          0\n",
       "Heat_2             0\n",
       "Cool_2             0\n",
       "Sunrise_2          0\n",
       "Sunset_2           0\n",
       "PrecipTotal_2    155\n",
       "StnPressure_2      0\n",
       "SeaLevel_2         0\n",
       "ResultSpeed_2      0\n",
       "ResultDir_2        0\n",
       "AvgSpeed_2         0\n",
       "dtype: int64"
      ]
     },
     "execution_count": 34,
     "metadata": {},
     "output_type": "execute_result"
    }
   ],
   "source": [
    "df_weather_3[df_weather_3=='  T'].count(axis=0)"
   ]
  },
  {
   "cell_type": "code",
   "execution_count": 35,
   "id": "fc3cd599",
   "metadata": {},
   "outputs": [
    {
     "data": {
      "text/html": [
       "<div>\n",
       "<style scoped>\n",
       "    .dataframe tbody tr th:only-of-type {\n",
       "        vertical-align: middle;\n",
       "    }\n",
       "\n",
       "    .dataframe tbody tr th {\n",
       "        vertical-align: top;\n",
       "    }\n",
       "\n",
       "    .dataframe thead th {\n",
       "        text-align: right;\n",
       "    }\n",
       "</style>\n",
       "<table border=\"1\" class=\"dataframe\">\n",
       "  <thead>\n",
       "    <tr style=\"text-align: right;\">\n",
       "      <th></th>\n",
       "      <th>T</th>\n",
       "      <th>0</th>\n",
       "      <th>1</th>\n",
       "      <th>2</th>\n",
       "      <th>3</th>\n",
       "      <th>4</th>\n",
       "      <th>5</th>\n",
       "      <th>6</th>\n",
       "      <th>7</th>\n",
       "      <th>8</th>\n",
       "      <th>...</th>\n",
       "      <th>9.6</th>\n",
       "      <th>9.7</th>\n",
       "      <th>9.8</th>\n",
       "      <th>9.9</th>\n",
       "      <th>90</th>\n",
       "      <th>91</th>\n",
       "      <th>92</th>\n",
       "      <th>93</th>\n",
       "      <th>94</th>\n",
       "      <th>M</th>\n",
       "    </tr>\n",
       "  </thead>\n",
       "  <tbody>\n",
       "    <tr>\n",
       "      <th>SnowFall_1</th>\n",
       "      <td>12.0</td>\n",
       "      <td>0.0</td>\n",
       "      <td>0.0</td>\n",
       "      <td>0.0</td>\n",
       "      <td>0.0</td>\n",
       "      <td>0.0</td>\n",
       "      <td>0.0</td>\n",
       "      <td>0.0</td>\n",
       "      <td>0.0</td>\n",
       "      <td>0.0</td>\n",
       "      <td>...</td>\n",
       "      <td>0.0</td>\n",
       "      <td>0.0</td>\n",
       "      <td>0.0</td>\n",
       "      <td>0.0</td>\n",
       "      <td>0.0</td>\n",
       "      <td>0.0</td>\n",
       "      <td>0.0</td>\n",
       "      <td>0.0</td>\n",
       "      <td>0.0</td>\n",
       "      <td>0.0</td>\n",
       "    </tr>\n",
       "    <tr>\n",
       "      <th>PrecipTotal_1</th>\n",
       "      <td>163.0</td>\n",
       "      <td>0.0</td>\n",
       "      <td>0.0</td>\n",
       "      <td>0.0</td>\n",
       "      <td>0.0</td>\n",
       "      <td>0.0</td>\n",
       "      <td>0.0</td>\n",
       "      <td>0.0</td>\n",
       "      <td>0.0</td>\n",
       "      <td>0.0</td>\n",
       "      <td>...</td>\n",
       "      <td>0.0</td>\n",
       "      <td>0.0</td>\n",
       "      <td>0.0</td>\n",
       "      <td>0.0</td>\n",
       "      <td>0.0</td>\n",
       "      <td>0.0</td>\n",
       "      <td>0.0</td>\n",
       "      <td>0.0</td>\n",
       "      <td>0.0</td>\n",
       "      <td>0.0</td>\n",
       "    </tr>\n",
       "    <tr>\n",
       "      <th>PrecipTotal_2</th>\n",
       "      <td>155.0</td>\n",
       "      <td>0.0</td>\n",
       "      <td>0.0</td>\n",
       "      <td>0.0</td>\n",
       "      <td>0.0</td>\n",
       "      <td>0.0</td>\n",
       "      <td>0.0</td>\n",
       "      <td>0.0</td>\n",
       "      <td>0.0</td>\n",
       "      <td>0.0</td>\n",
       "      <td>...</td>\n",
       "      <td>0.0</td>\n",
       "      <td>0.0</td>\n",
       "      <td>0.0</td>\n",
       "      <td>0.0</td>\n",
       "      <td>0.0</td>\n",
       "      <td>0.0</td>\n",
       "      <td>0.0</td>\n",
       "      <td>0.0</td>\n",
       "      <td>0.0</td>\n",
       "      <td>2.0</td>\n",
       "    </tr>\n",
       "  </tbody>\n",
       "</table>\n",
       "<p>3 rows × 2353 columns</p>\n",
       "</div>"
      ],
      "text/plain": [
       "                   T    0    1    2    3    4    5    6    7    8  ...  9.6  \\\n",
       "SnowFall_1      12.0  0.0  0.0  0.0  0.0  0.0  0.0  0.0  0.0  0.0  ...  0.0   \n",
       "PrecipTotal_1  163.0  0.0  0.0  0.0  0.0  0.0  0.0  0.0  0.0  0.0  ...  0.0   \n",
       "PrecipTotal_2  155.0  0.0  0.0  0.0  0.0  0.0  0.0  0.0  0.0  0.0  ...  0.0   \n",
       "\n",
       "               9.7  9.8  9.9   90   91   92   93   94    M  \n",
       "SnowFall_1     0.0  0.0  0.0  0.0  0.0  0.0  0.0  0.0  0.0  \n",
       "PrecipTotal_1  0.0  0.0  0.0  0.0  0.0  0.0  0.0  0.0  0.0  \n",
       "PrecipTotal_2  0.0  0.0  0.0  0.0  0.0  0.0  0.0  0.0  2.0  \n",
       "\n",
       "[3 rows x 2353 columns]"
      ]
     },
     "execution_count": 35,
     "metadata": {},
     "output_type": "execute_result"
    }
   ],
   "source": [
    "sus_vals[sus_vals['  T']>0]"
   ]
  },
  {
   "cell_type": "code",
   "execution_count": 36,
   "id": "36f2392c",
   "metadata": {},
   "outputs": [
    {
     "data": {
      "text/plain": [
       "Sunset_2     1472.0\n",
       "Sunrise_2    1472.0\n",
       "dtype: float64"
      ]
     },
     "execution_count": 36,
     "metadata": {},
     "output_type": "execute_result"
    }
   ],
   "source": [
    "sus_vals[sus_vals['-']>0].sum(axis=1)"
   ]
  },
  {
   "cell_type": "code",
   "execution_count": 37,
   "id": "b35caf46",
   "metadata": {},
   "outputs": [
    {
     "data": {
      "text/html": [
       "<div>\n",
       "<style scoped>\n",
       "    .dataframe tbody tr th:only-of-type {\n",
       "        vertical-align: middle;\n",
       "    }\n",
       "\n",
       "    .dataframe tbody tr th {\n",
       "        vertical-align: top;\n",
       "    }\n",
       "\n",
       "    .dataframe thead th {\n",
       "        text-align: right;\n",
       "    }\n",
       "</style>\n",
       "<table border=\"1\" class=\"dataframe\">\n",
       "  <thead>\n",
       "    <tr style=\"text-align: right;\">\n",
       "      <th></th>\n",
       "      <th>Date</th>\n",
       "      <th>Tmax_1</th>\n",
       "      <th>Tmin_1</th>\n",
       "      <th>Tavg_1</th>\n",
       "      <th>Depart_1</th>\n",
       "      <th>DewPoint_1</th>\n",
       "      <th>WetBulb_1</th>\n",
       "      <th>Heat_1</th>\n",
       "      <th>Cool_1</th>\n",
       "      <th>Sunrise_1</th>\n",
       "      <th>...</th>\n",
       "      <th>DewPoint_2</th>\n",
       "      <th>WetBulb_2</th>\n",
       "      <th>Heat_2</th>\n",
       "      <th>Cool_2</th>\n",
       "      <th>PrecipTotal_2</th>\n",
       "      <th>StnPressure_2</th>\n",
       "      <th>SeaLevel_2</th>\n",
       "      <th>ResultSpeed_2</th>\n",
       "      <th>ResultDir_2</th>\n",
       "      <th>AvgSpeed_2</th>\n",
       "    </tr>\n",
       "  </thead>\n",
       "  <tbody>\n",
       "    <tr>\n",
       "      <th>0</th>\n",
       "      <td>2007-05-01</td>\n",
       "      <td>83</td>\n",
       "      <td>50</td>\n",
       "      <td>67</td>\n",
       "      <td>14</td>\n",
       "      <td>51</td>\n",
       "      <td>56</td>\n",
       "      <td>0</td>\n",
       "      <td>2</td>\n",
       "      <td>0448</td>\n",
       "      <td>...</td>\n",
       "      <td>51</td>\n",
       "      <td>57</td>\n",
       "      <td>0</td>\n",
       "      <td>3</td>\n",
       "      <td>0.00</td>\n",
       "      <td>29.18</td>\n",
       "      <td>29.82</td>\n",
       "      <td>2.7</td>\n",
       "      <td>25</td>\n",
       "      <td>9.6</td>\n",
       "    </tr>\n",
       "    <tr>\n",
       "      <th>1</th>\n",
       "      <td>2007-05-02</td>\n",
       "      <td>59</td>\n",
       "      <td>42</td>\n",
       "      <td>51</td>\n",
       "      <td>-3</td>\n",
       "      <td>42</td>\n",
       "      <td>47</td>\n",
       "      <td>14</td>\n",
       "      <td>0</td>\n",
       "      <td>0447</td>\n",
       "      <td>...</td>\n",
       "      <td>42</td>\n",
       "      <td>47</td>\n",
       "      <td>13</td>\n",
       "      <td>0</td>\n",
       "      <td>0.00</td>\n",
       "      <td>29.44</td>\n",
       "      <td>30.08</td>\n",
       "      <td>13.3</td>\n",
       "      <td>2</td>\n",
       "      <td>13.4</td>\n",
       "    </tr>\n",
       "    <tr>\n",
       "      <th>2</th>\n",
       "      <td>2007-05-03</td>\n",
       "      <td>66</td>\n",
       "      <td>46</td>\n",
       "      <td>56</td>\n",
       "      <td>2</td>\n",
       "      <td>40</td>\n",
       "      <td>48</td>\n",
       "      <td>9</td>\n",
       "      <td>0</td>\n",
       "      <td>0446</td>\n",
       "      <td>...</td>\n",
       "      <td>40</td>\n",
       "      <td>50</td>\n",
       "      <td>7</td>\n",
       "      <td>0</td>\n",
       "      <td>0.00</td>\n",
       "      <td>29.46</td>\n",
       "      <td>30.12</td>\n",
       "      <td>12.9</td>\n",
       "      <td>6</td>\n",
       "      <td>13.2</td>\n",
       "    </tr>\n",
       "  </tbody>\n",
       "</table>\n",
       "<p>3 rows × 32 columns</p>\n",
       "</div>"
      ],
      "text/plain": [
       "         Date  Tmax_1  Tmin_1 Tavg_1 Depart_1  DewPoint_1 WetBulb_1 Heat_1  \\\n",
       "0  2007-05-01      83      50     67       14          51        56      0   \n",
       "1  2007-05-02      59      42     51       -3          42        47     14   \n",
       "2  2007-05-03      66      46     56        2          40        48      9   \n",
       "\n",
       "  Cool_1 Sunrise_1  ... DewPoint_2 WetBulb_2 Heat_2 Cool_2 PrecipTotal_2  \\\n",
       "0      2      0448  ...         51        57      0      3          0.00   \n",
       "1      0      0447  ...         42        47     13      0          0.00   \n",
       "2      0      0446  ...         40        50      7      0          0.00   \n",
       "\n",
       "  StnPressure_2  SeaLevel_2  ResultSpeed_2 ResultDir_2  AvgSpeed_2  \n",
       "0         29.18       29.82            2.7          25         9.6  \n",
       "1         29.44       30.08           13.3           2        13.4  \n",
       "2         29.46       30.12           12.9           6        13.2  \n",
       "\n",
       "[3 rows x 32 columns]"
      ]
     },
     "execution_count": 37,
     "metadata": {},
     "output_type": "execute_result"
    }
   ],
   "source": [
    "df_weather_4=df_weather_3.drop(['Sunset_2', 'Sunrise_2'],axis=1)\n",
    "df_weather_4.head(3)"
   ]
  },
  {
   "cell_type": "code",
   "execution_count": 38,
   "id": "1cd72f65",
   "metadata": {},
   "outputs": [
    {
     "data": {
      "text/plain": [
       "0.0    1459\n",
       "  T      12\n",
       "0.1       1\n",
       "Name: SnowFall_1, dtype: int64"
      ]
     },
     "execution_count": 38,
     "metadata": {},
     "output_type": "execute_result"
    }
   ],
   "source": [
    "df_weather_4['SnowFall_1'].value_counts()"
   ]
  },
  {
   "cell_type": "code",
   "execution_count": 39,
   "id": "f2adb6ab",
   "metadata": {},
   "outputs": [
    {
     "data": {
      "text/plain": [
       "0.0    1471\n",
       "0.1       1\n",
       "Name: SnowFall_1, dtype: int64"
      ]
     },
     "execution_count": 39,
     "metadata": {},
     "output_type": "execute_result"
    }
   ],
   "source": [
    "df_weather_4['SnowFall_1'].replace('  T',0, inplace=True)\n",
    "df_weather_4['SnowFall_1']=df_weather_4['SnowFall_1'].astype('float')\n",
    "df_weather_4['SnowFall_1'].value_counts()"
   ]
  },
  {
   "cell_type": "code",
   "execution_count": 40,
   "id": "0e414bf4",
   "metadata": {},
   "outputs": [
    {
     "data": {
      "text/plain": [
       "<AxesSubplot:>"
      ]
     },
     "execution_count": 40,
     "metadata": {},
     "output_type": "execute_result"
    },
    {
     "data": {
      "image/png": "[encoded data removed]",
      "text/plain": [
       "<Figure size 432x288 with 1 Axes>"
      ]
     },
     "metadata": {
      "needs_background": "light"
     },
     "output_type": "display_data"
    }
   ],
   "source": [
    "df_weather_4['PrecipTotal_2'].sort_values().head(400).hist(bins=5)"
   ]
  },
  {
   "cell_type": "code",
   "execution_count": 41,
   "id": "53d532f9",
   "metadata": {},
   "outputs": [
    {
     "data": {
      "text/plain": [
       "0.1432167300380228"
      ]
     },
     "execution_count": 41,
     "metadata": {},
     "output_type": "execute_result"
    }
   ],
   "source": [
    "dropT=df_weather_4['PrecipTotal_2'][~df_weather_4['PrecipTotal_2'].isin(['  T','M'])].astype('float').mean()\n",
    "dropT"
   ]
  },
  {
   "cell_type": "code",
   "execution_count": 42,
   "id": "7bdf3dd0",
   "metadata": {},
   "outputs": [
    {
     "data": {
      "text/plain": [
       "count    1472.000000\n",
       "mean        0.143217\n",
       "std         0.360634\n",
       "min         0.000000\n",
       "25%         0.000000\n",
       "50%         0.000000\n",
       "75%         0.143217\n",
       "max         4.730000\n",
       "Name: PrecipTotal_2, dtype: float64"
      ]
     },
     "execution_count": 42,
     "metadata": {},
     "output_type": "execute_result"
    }
   ],
   "source": [
    "df_weather_4['PrecipTotal_2'].replace(['  T','M'],dropT, inplace=True)\n",
    "df_weather_4['PrecipTotal_2']=df_weather_4['PrecipTotal_2'].astype('float')\n",
    "df_weather_4['PrecipTotal_2'].describe()"
   ]
  },
  {
   "cell_type": "code",
   "execution_count": 43,
   "id": "aca5862c",
   "metadata": {},
   "outputs": [
    {
     "data": {
      "text/plain": [
       "count    1472.000000\n",
       "mean        0.151291\n",
       "std         0.418379\n",
       "min         0.000000\n",
       "25%         0.000000\n",
       "50%         0.000000\n",
       "75%         0.151291\n",
       "max         6.860000\n",
       "Name: PrecipTotal_1, dtype: float64"
      ]
     },
     "execution_count": 43,
     "metadata": {},
     "output_type": "execute_result"
    }
   ],
   "source": [
    "dropT2=df_weather_4['PrecipTotal_1'][~df_weather_4['PrecipTotal_1'].isin(['  T','M'])].astype('float').mean()\n",
    "df_weather_4['PrecipTotal_1'].replace(['  T','M'],dropT2, inplace=True)\n",
    "df_weather_4['PrecipTotal_1']=df_weather_4['PrecipTotal_1'].astype('float')\n",
    "df_weather_4['PrecipTotal_1'].describe()"
   ]
  },
  {
   "cell_type": "code",
   "execution_count": 44,
   "id": "bab8aa86",
   "metadata": {},
   "outputs": [
    {
     "data": {
      "text/plain": [
       "Date             0\n",
       "Tmax_1           0\n",
       "Tmin_1           0\n",
       "Tavg_1           0\n",
       "Depart_1         0\n",
       "DewPoint_1       0\n",
       "WetBulb_1        0\n",
       "Heat_1           0\n",
       "Cool_1           0\n",
       "Sunrise_1        0\n",
       "Sunset_1         0\n",
       "Depth_1          0\n",
       "SnowFall_1       0\n",
       "PrecipTotal_1    0\n",
       "StnPressure_1    0\n",
       "SeaLevel_1       0\n",
       "ResultSpeed_1    0\n",
       "ResultDir_1      0\n",
       "AvgSpeed_1       0\n",
       "Tmax_2           0\n",
       "Tmin_2           0\n",
       "Tavg_2           0\n",
       "DewPoint_2       0\n",
       "WetBulb_2        0\n",
       "Heat_2           0\n",
       "Cool_2           0\n",
       "PrecipTotal_2    0\n",
       "StnPressure_2    0\n",
       "SeaLevel_2       0\n",
       "ResultSpeed_2    0\n",
       "ResultDir_2      0\n",
       "AvgSpeed_2       0\n",
       "dtype: int64"
      ]
     },
     "execution_count": 44,
     "metadata": {},
     "output_type": "execute_result"
    }
   ],
   "source": [
    "df_weather_4[df_weather_4=='  T'].count(axis=0)"
   ]
  },
  {
   "cell_type": "code",
   "execution_count": 45,
   "id": "7d4342d1",
   "metadata": {},
   "outputs": [
    {
     "data": {
      "text/plain": [
       "Date             0\n",
       "Tmax_1           0\n",
       "Tmin_1           0\n",
       "Tavg_1           0\n",
       "Depart_1         0\n",
       "DewPoint_1       0\n",
       "WetBulb_1        0\n",
       "Heat_1           0\n",
       "Cool_1           0\n",
       "Sunrise_1        0\n",
       "Sunset_1         0\n",
       "Depth_1          0\n",
       "SnowFall_1       0\n",
       "PrecipTotal_1    0\n",
       "StnPressure_1    0\n",
       "SeaLevel_1       0\n",
       "ResultSpeed_1    0\n",
       "ResultDir_1      0\n",
       "AvgSpeed_1       0\n",
       "Tmax_2           0\n",
       "Tmin_2           0\n",
       "Tavg_2           0\n",
       "DewPoint_2       0\n",
       "WetBulb_2        0\n",
       "Heat_2           0\n",
       "Cool_2           0\n",
       "PrecipTotal_2    0\n",
       "StnPressure_2    0\n",
       "SeaLevel_2       0\n",
       "ResultSpeed_2    0\n",
       "ResultDir_2      0\n",
       "AvgSpeed_2       0\n",
       "dtype: int64"
      ]
     },
     "execution_count": 45,
     "metadata": {},
     "output_type": "execute_result"
    }
   ],
   "source": [
    "df_weather_4[df_weather_4=='-'].count(axis=0)"
   ]
  },
  {
   "cell_type": "code",
   "execution_count": 46,
   "id": "02206ae4",
   "metadata": {},
   "outputs": [
    {
     "data": {
      "text/plain": [
       "Date              0\n",
       "Tmax_1            0\n",
       "Tmin_1            0\n",
       "Tavg_1            0\n",
       "Depart_1          0\n",
       "DewPoint_1        0\n",
       "WetBulb_1         3\n",
       "Heat_1            0\n",
       "Cool_1            0\n",
       "Sunrise_1         0\n",
       "Sunset_1          0\n",
       "Depth_1           0\n",
       "SnowFall_1        0\n",
       "PrecipTotal_1     0\n",
       "StnPressure_1     2\n",
       "SeaLevel_1        5\n",
       "ResultSpeed_1     0\n",
       "ResultDir_1       0\n",
       "AvgSpeed_1        0\n",
       "Tmax_2            0\n",
       "Tmin_2            0\n",
       "Tavg_2           11\n",
       "DewPoint_2        0\n",
       "WetBulb_2         1\n",
       "Heat_2           11\n",
       "Cool_2           11\n",
       "PrecipTotal_2     0\n",
       "StnPressure_2     2\n",
       "SeaLevel_2        4\n",
       "ResultSpeed_2     0\n",
       "ResultDir_2       0\n",
       "AvgSpeed_2        3\n",
       "dtype: int64"
      ]
     },
     "execution_count": 46,
     "metadata": {},
     "output_type": "execute_result"
    }
   ],
   "source": [
    "df_weather_4[df_weather_4=='M'].count(axis=0)"
   ]
  },
  {
   "cell_type": "code",
   "execution_count": 47,
   "id": "357eef84",
   "metadata": {},
   "outputs": [
    {
     "data": {
      "text/plain": [
       "60.0"
      ]
     },
     "execution_count": 47,
     "metadata": {},
     "output_type": "execute_result"
    },
    {
     "data": {
      "image/png": "[encoded data removed]",
      "text/plain": [
       "<Figure size 432x288 with 1 Axes>"
      ]
     },
     "metadata": {
      "needs_background": "light"
     },
     "output_type": "display_data"
    }
   ],
   "source": [
    "df_weather_4['WetBulb_1'].sort_values().astype('str').hist()\n",
    "df_weather_4['WetBulb_1'][df_weather_4['WetBulb_1']!='M'].astype('float').mean()\n",
    "df_weather_4['WetBulb_1'][df_weather_4['WetBulb_1']!='M'].astype('float').median()"
   ]
  },
  {
   "cell_type": "code",
   "execution_count": 48,
   "id": "78d93afd",
   "metadata": {},
   "outputs": [],
   "source": [
    "df_weather_4['WetBulb_1']=df_weather_4['WetBulb_1'].replace('M',df_weather_4['WetBulb_1'][df_weather_4['WetBulb_1']!='M'].astype('float').mean())"
   ]
  },
  {
   "cell_type": "code",
   "execution_count": 49,
   "id": "703d99cd",
   "metadata": {},
   "outputs": [
    {
     "data": {
      "text/plain": [
       "Date             0\n",
       "Tmax_1           0\n",
       "Tmin_1           0\n",
       "Tavg_1           0\n",
       "Depart_1         0\n",
       "DewPoint_1       0\n",
       "WetBulb_1        0\n",
       "Heat_1           0\n",
       "Cool_1           0\n",
       "Sunrise_1        0\n",
       "Sunset_1         0\n",
       "Depth_1          0\n",
       "SnowFall_1       0\n",
       "PrecipTotal_1    0\n",
       "StnPressure_1    0\n",
       "SeaLevel_1       0\n",
       "ResultSpeed_1    0\n",
       "ResultDir_1      0\n",
       "AvgSpeed_1       0\n",
       "Tmax_2           0\n",
       "Tmin_2           0\n",
       "Tavg_2           0\n",
       "DewPoint_2       0\n",
       "WetBulb_2        0\n",
       "Heat_2           0\n",
       "Cool_2           0\n",
       "PrecipTotal_2    0\n",
       "StnPressure_2    0\n",
       "SeaLevel_2       0\n",
       "ResultSpeed_2    0\n",
       "ResultDir_2      0\n",
       "AvgSpeed_2       0\n",
       "dtype: int64"
      ]
     },
     "execution_count": 49,
     "metadata": {},
     "output_type": "execute_result"
    }
   ],
   "source": [
    "for col in ['StnPressure_1','SeaLevel_1','Tavg_2','WetBulb_2','Heat_2','Cool_2','StnPressure_2','SeaLevel_2','AvgSpeed_2']:\n",
    "    df_weather_4[col]=df_weather_4[col].replace('M',df_weather_4[col][df_weather_4[col]!='M'].astype('float').mean())\n",
    "#\n",
    "df_weather_4[df_weather_4=='M'].count()"
   ]
  },
  {
   "cell_type": "code",
   "execution_count": 50,
   "id": "5ed31d19",
   "metadata": {},
   "outputs": [
    {
     "data": {
      "text/html": [
       "<div>\n",
       "<style scoped>\n",
       "    .dataframe tbody tr th:only-of-type {\n",
       "        vertical-align: middle;\n",
       "    }\n",
       "\n",
       "    .dataframe tbody tr th {\n",
       "        vertical-align: top;\n",
       "    }\n",
       "\n",
       "    .dataframe thead th {\n",
       "        text-align: right;\n",
       "    }\n",
       "</style>\n",
       "<table border=\"1\" class=\"dataframe\">\n",
       "  <thead>\n",
       "    <tr style=\"text-align: right;\">\n",
       "      <th></th>\n",
       "      <th>Tmax_1</th>\n",
       "      <th>Tmin_1</th>\n",
       "      <th>DewPoint_1</th>\n",
       "      <th>SnowFall_1</th>\n",
       "      <th>PrecipTotal_1</th>\n",
       "      <th>ResultSpeed_1</th>\n",
       "      <th>ResultDir_1</th>\n",
       "      <th>Tmax_2</th>\n",
       "      <th>Tmin_2</th>\n",
       "      <th>DewPoint_2</th>\n",
       "      <th>PrecipTotal_2</th>\n",
       "      <th>ResultSpeed_2</th>\n",
       "      <th>ResultDir_2</th>\n",
       "    </tr>\n",
       "  </thead>\n",
       "  <tbody>\n",
       "    <tr>\n",
       "      <th>count</th>\n",
       "      <td>1472.00000</td>\n",
       "      <td>1472.000000</td>\n",
       "      <td>1472.000000</td>\n",
       "      <td>1472.000000</td>\n",
       "      <td>1472.000000</td>\n",
       "      <td>1472.000000</td>\n",
       "      <td>1472.000000</td>\n",
       "      <td>1472.000000</td>\n",
       "      <td>1472.000000</td>\n",
       "      <td>1472.000000</td>\n",
       "      <td>1472.000000</td>\n",
       "      <td>1472.000000</td>\n",
       "      <td>1472.00000</td>\n",
       "    </tr>\n",
       "    <tr>\n",
       "      <th>mean</th>\n",
       "      <td>75.97894</td>\n",
       "      <td>56.730978</td>\n",
       "      <td>53.377717</td>\n",
       "      <td>0.000068</td>\n",
       "      <td>0.151291</td>\n",
       "      <td>6.987092</td>\n",
       "      <td>17.656250</td>\n",
       "      <td>76.353261</td>\n",
       "      <td>58.889946</td>\n",
       "      <td>53.538043</td>\n",
       "      <td>0.143217</td>\n",
       "      <td>6.934239</td>\n",
       "      <td>17.33356</td>\n",
       "    </tr>\n",
       "    <tr>\n",
       "      <th>std</th>\n",
       "      <td>11.50315</td>\n",
       "      <td>10.347907</td>\n",
       "      <td>10.670263</td>\n",
       "      <td>0.002606</td>\n",
       "      <td>0.418379</td>\n",
       "      <td>3.586353</td>\n",
       "      <td>10.222077</td>\n",
       "      <td>11.421482</td>\n",
       "      <td>10.306855</td>\n",
       "      <td>10.683121</td>\n",
       "      <td>0.360634</td>\n",
       "      <td>3.589725</td>\n",
       "      <td>9.90345</td>\n",
       "    </tr>\n",
       "    <tr>\n",
       "      <th>min</th>\n",
       "      <td>42.00000</td>\n",
       "      <td>29.000000</td>\n",
       "      <td>22.000000</td>\n",
       "      <td>0.000000</td>\n",
       "      <td>0.000000</td>\n",
       "      <td>0.100000</td>\n",
       "      <td>1.000000</td>\n",
       "      <td>41.000000</td>\n",
       "      <td>29.000000</td>\n",
       "      <td>23.000000</td>\n",
       "      <td>0.000000</td>\n",
       "      <td>0.300000</td>\n",
       "      <td>1.00000</td>\n",
       "    </tr>\n",
       "    <tr>\n",
       "      <th>25%</th>\n",
       "      <td>68.00000</td>\n",
       "      <td>49.000000</td>\n",
       "      <td>46.000000</td>\n",
       "      <td>0.000000</td>\n",
       "      <td>0.000000</td>\n",
       "      <td>4.400000</td>\n",
       "      <td>7.000000</td>\n",
       "      <td>69.000000</td>\n",
       "      <td>51.000000</td>\n",
       "      <td>46.000000</td>\n",
       "      <td>0.000000</td>\n",
       "      <td>4.275000</td>\n",
       "      <td>8.00000</td>\n",
       "    </tr>\n",
       "    <tr>\n",
       "      <th>50%</th>\n",
       "      <td>78.00000</td>\n",
       "      <td>58.000000</td>\n",
       "      <td>54.000000</td>\n",
       "      <td>0.000000</td>\n",
       "      <td>0.000000</td>\n",
       "      <td>6.400000</td>\n",
       "      <td>19.500000</td>\n",
       "      <td>78.000000</td>\n",
       "      <td>60.000000</td>\n",
       "      <td>55.000000</td>\n",
       "      <td>0.000000</td>\n",
       "      <td>6.500000</td>\n",
       "      <td>19.00000</td>\n",
       "    </tr>\n",
       "    <tr>\n",
       "      <th>75%</th>\n",
       "      <td>85.00000</td>\n",
       "      <td>65.000000</td>\n",
       "      <td>61.250000</td>\n",
       "      <td>0.000000</td>\n",
       "      <td>0.151291</td>\n",
       "      <td>9.100000</td>\n",
       "      <td>26.000000</td>\n",
       "      <td>85.000000</td>\n",
       "      <td>67.000000</td>\n",
       "      <td>62.000000</td>\n",
       "      <td>0.143217</td>\n",
       "      <td>9.225000</td>\n",
       "      <td>24.00000</td>\n",
       "    </tr>\n",
       "    <tr>\n",
       "      <th>max</th>\n",
       "      <td>103.00000</td>\n",
       "      <td>82.000000</td>\n",
       "      <td>75.000000</td>\n",
       "      <td>0.100000</td>\n",
       "      <td>6.860000</td>\n",
       "      <td>24.100000</td>\n",
       "      <td>36.000000</td>\n",
       "      <td>104.000000</td>\n",
       "      <td>83.000000</td>\n",
       "      <td>74.000000</td>\n",
       "      <td>4.730000</td>\n",
       "      <td>21.700000</td>\n",
       "      <td>36.00000</td>\n",
       "    </tr>\n",
       "  </tbody>\n",
       "</table>\n",
       "</div>"
      ],
      "text/plain": [
       "           Tmax_1       Tmin_1   DewPoint_1   SnowFall_1  PrecipTotal_1  \\\n",
       "count  1472.00000  1472.000000  1472.000000  1472.000000    1472.000000   \n",
       "mean     75.97894    56.730978    53.377717     0.000068       0.151291   \n",
       "std      11.50315    10.347907    10.670263     0.002606       0.418379   \n",
       "min      42.00000    29.000000    22.000000     0.000000       0.000000   \n",
       "25%      68.00000    49.000000    46.000000     0.000000       0.000000   \n",
       "50%      78.00000    58.000000    54.000000     0.000000       0.000000   \n",
       "75%      85.00000    65.000000    61.250000     0.000000       0.151291   \n",
       "max     103.00000    82.000000    75.000000     0.100000       6.860000   \n",
       "\n",
       "       ResultSpeed_1  ResultDir_1       Tmax_2       Tmin_2   DewPoint_2  \\\n",
       "count    1472.000000  1472.000000  1472.000000  1472.000000  1472.000000   \n",
       "mean        6.987092    17.656250    76.353261    58.889946    53.538043   \n",
       "std         3.586353    10.222077    11.421482    10.306855    10.683121   \n",
       "min         0.100000     1.000000    41.000000    29.000000    23.000000   \n",
       "25%         4.400000     7.000000    69.000000    51.000000    46.000000   \n",
       "50%         6.400000    19.500000    78.000000    60.000000    55.000000   \n",
       "75%         9.100000    26.000000    85.000000    67.000000    62.000000   \n",
       "max        24.100000    36.000000   104.000000    83.000000    74.000000   \n",
       "\n",
       "       PrecipTotal_2  ResultSpeed_2  ResultDir_2  \n",
       "count    1472.000000    1472.000000   1472.00000  \n",
       "mean        0.143217       6.934239     17.33356  \n",
       "std         0.360634       3.589725      9.90345  \n",
       "min         0.000000       0.300000      1.00000  \n",
       "25%         0.000000       4.275000      8.00000  \n",
       "50%         0.000000       6.500000     19.00000  \n",
       "75%         0.143217       9.225000     24.00000  \n",
       "max         4.730000      21.700000     36.00000  "
      ]
     },
     "execution_count": 50,
     "metadata": {},
     "output_type": "execute_result"
    }
   ],
   "source": [
    "df_weather_4.describe()"
   ]
  },
  {
   "cell_type": "code",
   "execution_count": 51,
   "id": "da733e51",
   "metadata": {},
   "outputs": [],
   "source": [
    "# define a function to convert data frame to int or float\n",
    "def converter_num(df):\n",
    "    for col in df.columns:\n",
    "        if col !='Date':\n",
    "            try:\n",
    "                df[col]=df[col].astype('int')\n",
    "            except:\n",
    "                df[col]=df[col].astype('float')\n",
    "    return(df)"
   ]
  },
  {
   "cell_type": "code",
   "execution_count": 52,
   "id": "94d1430e",
   "metadata": {},
   "outputs": [],
   "source": [
    "# Convert the data frame variable to integer\n",
    "df_weather_4=converter_num(df_weather_4)"
   ]
  },
  {
   "cell_type": "code",
   "execution_count": 53,
   "id": "bedeef3e",
   "metadata": {},
   "outputs": [
    {
     "name": "stdout",
     "output_type": "stream",
     "text": [
      "<class 'pandas.core.frame.DataFrame'>\n",
      "Int64Index: 1472 entries, 0 to 1471\n",
      "Data columns (total 32 columns):\n",
      " #   Column         Non-Null Count  Dtype  \n",
      "---  ------         --------------  -----  \n",
      " 0   Date           1472 non-null   object \n",
      " 1   Tmax_1         1472 non-null   int32  \n",
      " 2   Tmin_1         1472 non-null   int32  \n",
      " 3   Tavg_1         1472 non-null   int32  \n",
      " 4   Depart_1       1472 non-null   int32  \n",
      " 5   DewPoint_1     1472 non-null   int32  \n",
      " 6   WetBulb_1      1472 non-null   int32  \n",
      " 7   Heat_1         1472 non-null   int32  \n",
      " 8   Cool_1         1472 non-null   int32  \n",
      " 9   Sunrise_1      1472 non-null   int32  \n",
      " 10  Sunset_1       1472 non-null   int32  \n",
      " 11  Depth_1        1472 non-null   int32  \n",
      " 12  SnowFall_1     1472 non-null   int32  \n",
      " 13  PrecipTotal_1  1472 non-null   int32  \n",
      " 14  StnPressure_1  1472 non-null   float64\n",
      " 15  SeaLevel_1     1472 non-null   float64\n",
      " 16  ResultSpeed_1  1472 non-null   int32  \n",
      " 17  ResultDir_1    1472 non-null   int32  \n",
      " 18  AvgSpeed_1     1472 non-null   float64\n",
      " 19  Tmax_2         1472 non-null   int32  \n",
      " 20  Tmin_2         1472 non-null   int32  \n",
      " 21  Tavg_2         1472 non-null   int32  \n",
      " 22  DewPoint_2     1472 non-null   int32  \n",
      " 23  WetBulb_2      1472 non-null   int32  \n",
      " 24  Heat_2         1472 non-null   int32  \n",
      " 25  Cool_2         1472 non-null   int32  \n",
      " 26  PrecipTotal_2  1472 non-null   int32  \n",
      " 27  StnPressure_2  1472 non-null   float64\n",
      " 28  SeaLevel_2     1472 non-null   float64\n",
      " 29  ResultSpeed_2  1472 non-null   int32  \n",
      " 30  ResultDir_2    1472 non-null   int32  \n",
      " 31  AvgSpeed_2     1472 non-null   float64\n",
      "dtypes: float64(6), int32(25), object(1)\n",
      "memory usage: 235.8+ KB\n"
     ]
    }
   ],
   "source": [
    "df_weather_4.info()"
   ]
  },
  {
   "cell_type": "markdown",
   "id": "83ad55c8",
   "metadata": {},
   "source": [
    "   <b>Now wheather dataset (df_weather_4) is ready to be considered in next steps</b> <br>\n",
    "   <b>In this step I'll apply the split/modeling to the training dataset </b>"
   ]
  },
  {
   "cell_type": "code",
   "execution_count": 54,
   "id": "8de5973b",
   "metadata": {},
   "outputs": [
    {
     "data": {
      "text/html": [
       "<div>\n",
       "<style scoped>\n",
       "    .dataframe tbody tr th:only-of-type {\n",
       "        vertical-align: middle;\n",
       "    }\n",
       "\n",
       "    .dataframe tbody tr th {\n",
       "        vertical-align: top;\n",
       "    }\n",
       "\n",
       "    .dataframe thead th {\n",
       "        text-align: right;\n",
       "    }\n",
       "</style>\n",
       "<table border=\"1\" class=\"dataframe\">\n",
       "  <thead>\n",
       "    <tr style=\"text-align: right;\">\n",
       "      <th></th>\n",
       "      <th>Date</th>\n",
       "      <th>Address</th>\n",
       "      <th>Species</th>\n",
       "      <th>Block</th>\n",
       "      <th>Street</th>\n",
       "      <th>Trap</th>\n",
       "      <th>AddressNumberAndStreet</th>\n",
       "      <th>Latitude</th>\n",
       "      <th>Longitude</th>\n",
       "      <th>AddressAccuracy</th>\n",
       "      <th>NumMosquitos</th>\n",
       "      <th>WnvPresent</th>\n",
       "    </tr>\n",
       "  </thead>\n",
       "  <tbody>\n",
       "    <tr>\n",
       "      <th>0</th>\n",
       "      <td>2007-05-29</td>\n",
       "      <td>4100 North Oak Park Avenue, Chicago, IL 60634,...</td>\n",
       "      <td>CULEX PIPIENS/RESTUANS</td>\n",
       "      <td>41</td>\n",
       "      <td>N OAK PARK AVE</td>\n",
       "      <td>T002</td>\n",
       "      <td>4100  N OAK PARK AVE, Chicago, IL</td>\n",
       "      <td>41.954690</td>\n",
       "      <td>-87.800991</td>\n",
       "      <td>9</td>\n",
       "      <td>1</td>\n",
       "      <td>0</td>\n",
       "    </tr>\n",
       "    <tr>\n",
       "      <th>1</th>\n",
       "      <td>2007-05-29</td>\n",
       "      <td>4100 North Oak Park Avenue, Chicago, IL 60634,...</td>\n",
       "      <td>CULEX RESTUANS</td>\n",
       "      <td>41</td>\n",
       "      <td>N OAK PARK AVE</td>\n",
       "      <td>T002</td>\n",
       "      <td>4100  N OAK PARK AVE, Chicago, IL</td>\n",
       "      <td>41.954690</td>\n",
       "      <td>-87.800991</td>\n",
       "      <td>9</td>\n",
       "      <td>1</td>\n",
       "      <td>0</td>\n",
       "    </tr>\n",
       "    <tr>\n",
       "      <th>2</th>\n",
       "      <td>2007-05-29</td>\n",
       "      <td>6200 North Mandell Avenue, Chicago, IL 60646, USA</td>\n",
       "      <td>CULEX RESTUANS</td>\n",
       "      <td>62</td>\n",
       "      <td>N MANDELL AVE</td>\n",
       "      <td>T007</td>\n",
       "      <td>6200  N MANDELL AVE, Chicago, IL</td>\n",
       "      <td>41.994991</td>\n",
       "      <td>-87.769279</td>\n",
       "      <td>9</td>\n",
       "      <td>1</td>\n",
       "      <td>0</td>\n",
       "    </tr>\n",
       "  </tbody>\n",
       "</table>\n",
       "</div>"
      ],
      "text/plain": [
       "         Date                                            Address  \\\n",
       "0  2007-05-29  4100 North Oak Park Avenue, Chicago, IL 60634,...   \n",
       "1  2007-05-29  4100 North Oak Park Avenue, Chicago, IL 60634,...   \n",
       "2  2007-05-29  6200 North Mandell Avenue, Chicago, IL 60646, USA   \n",
       "\n",
       "                  Species  Block           Street  Trap  \\\n",
       "0  CULEX PIPIENS/RESTUANS     41   N OAK PARK AVE  T002   \n",
       "1          CULEX RESTUANS     41   N OAK PARK AVE  T002   \n",
       "2          CULEX RESTUANS     62    N MANDELL AVE  T007   \n",
       "\n",
       "              AddressNumberAndStreet   Latitude  Longitude  AddressAccuracy  \\\n",
       "0  4100  N OAK PARK AVE, Chicago, IL  41.954690 -87.800991                9   \n",
       "1  4100  N OAK PARK AVE, Chicago, IL  41.954690 -87.800991                9   \n",
       "2   6200  N MANDELL AVE, Chicago, IL  41.994991 -87.769279                9   \n",
       "\n",
       "   NumMosquitos  WnvPresent  \n",
       "0             1           0  \n",
       "1             1           0  \n",
       "2             1           0  "
      ]
     },
     "execution_count": 54,
     "metadata": {},
     "output_type": "execute_result"
    }
   ],
   "source": [
    "df_train.head(3)"
   ]
  },
  {
   "cell_type": "code",
   "execution_count": 55,
   "id": "b824fbed",
   "metadata": {},
   "outputs": [
    {
     "data": {
      "text/plain": [
       "Index(['Date', 'Address', 'Species', 'Block', 'Street', 'Trap',\n",
       "       'AddressNumberAndStreet', 'Latitude', 'Longitude', 'AddressAccuracy',\n",
       "       'NumMosquitos', 'WnvPresent'],\n",
       "      dtype='object')"
      ]
     },
     "execution_count": 55,
     "metadata": {},
     "output_type": "execute_result"
    }
   ],
   "source": [
    "df_train.columns"
   ]
  },
  {
   "cell_type": "code",
   "execution_count": 56,
   "id": "af55beae",
   "metadata": {},
   "outputs": [],
   "source": [
    "# check out the unique values of each column in data frame\n",
    "def unique_checker(df):\n",
    "    uniques={}\n",
    "    for col in df.columns:\n",
    "        uniques[col]=df[col].unique()\n",
    "    return(uniques)"
   ]
  },
  {
   "cell_type": "code",
   "execution_count": 57,
   "id": "82b5e724",
   "metadata": {},
   "outputs": [],
   "source": [
    "# Eliminate excessive data\n",
    "df_train_1=df_train.drop(['Address', 'AddressNumberAndStreet', 'WnvPresent', 'NumMosquitos','Street', 'AddressAccuracy','Block'], axis = 1)"
   ]
  },
  {
   "cell_type": "code",
   "execution_count": 58,
   "id": "b6a9e5e1",
   "metadata": {},
   "outputs": [
    {
     "data": {
      "text/plain": [
       "Index(['Date', 'Species', 'Trap', 'Latitude', 'Longitude'], dtype='object')"
      ]
     },
     "execution_count": 58,
     "metadata": {},
     "output_type": "execute_result"
    }
   ],
   "source": [
    "# Check the columns of df_train_1; They seem to be useful for predicting the outbreak\n",
    "df_train_1.columns"
   ]
  },
  {
   "cell_type": "code",
   "execution_count": 59,
   "id": "60d4ae2c",
   "metadata": {},
   "outputs": [],
   "source": [
    "uniq_train=unique_checker(df_train_1)\n",
    "#uniq_train"
   ]
  },
  {
   "cell_type": "code",
   "execution_count": 60,
   "id": "5e38e92e",
   "metadata": {},
   "outputs": [],
   "source": [
    "#merge the training data with weather data\n",
    "df_train_2=df_train_1.merge(df_weather_4,on='Date')"
   ]
  },
  {
   "cell_type": "code",
   "execution_count": 61,
   "id": "b961170a",
   "metadata": {},
   "outputs": [],
   "source": [
    "#Converting the Date column to Datetime format, to extract the month and day \n",
    "import datetime\n",
    "df_train_2['Month'] = pd.to_datetime(df_train_2['Date']).dt.month\n",
    "df_train_2['Day'] = pd.to_datetime(df_train_2['Date']).dt.day\n",
    "df_train_3=df_train_2.drop('Date',axis=1)"
   ]
  },
  {
   "cell_type": "code",
   "execution_count": 62,
   "id": "b6e5f043",
   "metadata": {},
   "outputs": [
    {
     "name": "stdout",
     "output_type": "stream",
     "text": [
      "<class 'pandas.core.frame.DataFrame'>\n",
      "Int64Index: 10506 entries, 0 to 10505\n",
      "Data columns (total 37 columns):\n",
      " #   Column         Non-Null Count  Dtype  \n",
      "---  ------         --------------  -----  \n",
      " 0   Species        10506 non-null  object \n",
      " 1   Trap           10506 non-null  object \n",
      " 2   Latitude       10506 non-null  float64\n",
      " 3   Longitude      10506 non-null  float64\n",
      " 4   Tmax_1         10506 non-null  int32  \n",
      " 5   Tmin_1         10506 non-null  int32  \n",
      " 6   Tavg_1         10506 non-null  int32  \n",
      " 7   Depart_1       10506 non-null  int32  \n",
      " 8   DewPoint_1     10506 non-null  int32  \n",
      " 9   WetBulb_1      10506 non-null  int32  \n",
      " 10  Heat_1         10506 non-null  int32  \n",
      " 11  Cool_1         10506 non-null  int32  \n",
      " 12  Sunrise_1      10506 non-null  int32  \n",
      " 13  Sunset_1       10506 non-null  int32  \n",
      " 14  Depth_1        10506 non-null  int32  \n",
      " 15  SnowFall_1     10506 non-null  int32  \n",
      " 16  PrecipTotal_1  10506 non-null  int32  \n",
      " 17  StnPressure_1  10506 non-null  float64\n",
      " 18  SeaLevel_1     10506 non-null  float64\n",
      " 19  ResultSpeed_1  10506 non-null  int32  \n",
      " 20  ResultDir_1    10506 non-null  int32  \n",
      " 21  AvgSpeed_1     10506 non-null  float64\n",
      " 22  Tmax_2         10506 non-null  int32  \n",
      " 23  Tmin_2         10506 non-null  int32  \n",
      " 24  Tavg_2         10506 non-null  int32  \n",
      " 25  DewPoint_2     10506 non-null  int32  \n",
      " 26  WetBulb_2      10506 non-null  int32  \n",
      " 27  Heat_2         10506 non-null  int32  \n",
      " 28  Cool_2         10506 non-null  int32  \n",
      " 29  PrecipTotal_2  10506 non-null  int32  \n",
      " 30  StnPressure_2  10506 non-null  float64\n",
      " 31  SeaLevel_2     10506 non-null  float64\n",
      " 32  ResultSpeed_2  10506 non-null  int32  \n",
      " 33  ResultDir_2    10506 non-null  int32  \n",
      " 34  AvgSpeed_2     10506 non-null  float64\n",
      " 35  Month          10506 non-null  int64  \n",
      " 36  Day            10506 non-null  int64  \n",
      "dtypes: float64(8), int32(25), int64(2), object(2)\n",
      "memory usage: 2.0+ MB\n"
     ]
    }
   ],
   "source": [
    "# Checking the data frame to convert the categorical columns to dummies and the rest to numeric\n",
    "df_train_3.info()\n",
    "df_train_4=pd.get_dummies(df_train_3, columns=['Species','Trap'])\n",
    "#df_train_4['Latitude']=df_train_4['Latitude'].astype('int')\n",
    "#df_train_4['Longitude']=df_train_4['Longitude'].astype('int')"
   ]
  },
  {
   "cell_type": "code",
   "execution_count": 63,
   "id": "6329c121",
   "metadata": {},
   "outputs": [
    {
     "name": "stdout",
     "output_type": "stream",
     "text": [
      "<class 'pandas.core.frame.DataFrame'>\n",
      "Int64Index: 10506 entries, 0 to 10505\n",
      "Columns: 178 entries, Latitude to Trap_T903\n",
      "dtypes: float64(8), int32(25), int64(2), uint8(143)\n",
      "memory usage: 3.3 MB\n"
     ]
    }
   ],
   "source": [
    "df_train_4.info()"
   ]
  },
  {
   "cell_type": "markdown",
   "id": "cf9eb552",
   "metadata": {},
   "source": [
    "<h3> #Visualizing some data from df_train_5<h3>"
   ]
  },
  {
   "cell_type": "code",
   "execution_count": 64,
   "id": "4733f08e",
   "metadata": {},
   "outputs": [
    {
     "data": {
      "text/html": [
       "<div>\n",
       "<style scoped>\n",
       "    .dataframe tbody tr th:only-of-type {\n",
       "        vertical-align: middle;\n",
       "    }\n",
       "\n",
       "    .dataframe tbody tr th {\n",
       "        vertical-align: top;\n",
       "    }\n",
       "\n",
       "    .dataframe thead th {\n",
       "        text-align: right;\n",
       "    }\n",
       "</style>\n",
       "<table border=\"1\" class=\"dataframe\">\n",
       "  <thead>\n",
       "    <tr style=\"text-align: right;\">\n",
       "      <th></th>\n",
       "      <th>Date</th>\n",
       "      <th>Latitude</th>\n",
       "      <th>Longitude</th>\n",
       "    </tr>\n",
       "  </thead>\n",
       "  <tbody>\n",
       "    <tr>\n",
       "      <th>0</th>\n",
       "      <td>2011-08-29</td>\n",
       "      <td>42.391623</td>\n",
       "      <td>-88.089163</td>\n",
       "    </tr>\n",
       "    <tr>\n",
       "      <th>1</th>\n",
       "      <td>2011-08-29</td>\n",
       "      <td>42.391348</td>\n",
       "      <td>-88.089163</td>\n",
       "    </tr>\n",
       "    <tr>\n",
       "      <th>2</th>\n",
       "      <td>2011-08-29</td>\n",
       "      <td>42.391022</td>\n",
       "      <td>-88.089157</td>\n",
       "    </tr>\n",
       "    <tr>\n",
       "      <th>3</th>\n",
       "      <td>2011-08-29</td>\n",
       "      <td>42.390637</td>\n",
       "      <td>-88.089158</td>\n",
       "    </tr>\n",
       "    <tr>\n",
       "      <th>4</th>\n",
       "      <td>2011-08-29</td>\n",
       "      <td>42.390410</td>\n",
       "      <td>-88.088858</td>\n",
       "    </tr>\n",
       "  </tbody>\n",
       "</table>\n",
       "</div>"
      ],
      "text/plain": [
       "         Date   Latitude  Longitude\n",
       "0  2011-08-29  42.391623 -88.089163\n",
       "1  2011-08-29  42.391348 -88.089163\n",
       "2  2011-08-29  42.391022 -88.089157\n",
       "3  2011-08-29  42.390637 -88.089158\n",
       "4  2011-08-29  42.390410 -88.088858"
      ]
     },
     "execution_count": 64,
     "metadata": {},
     "output_type": "execute_result"
    }
   ],
   "source": [
    "df_spray.head()"
   ]
  },
  {
   "cell_type": "code",
   "execution_count": 65,
   "id": "ca2820ff",
   "metadata": {},
   "outputs": [],
   "source": [
    "df_spray['Year']=pd.to_datetime(df_spray['Date']).dt.year\n",
    "df_spray['Month']=pd.to_datetime(df_spray['Date']).dt.month\n",
    "df_spray['Day']=pd.to_datetime(df_spray['Date']).dt.day\n",
    "df_spray['WnvPresent']=df_train['WnvPresent']"
   ]
  },
  {
   "cell_type": "code",
   "execution_count": 66,
   "id": "d9817ccb",
   "metadata": {},
   "outputs": [
    {
     "name": "stderr",
     "output_type": "stream",
     "text": [
      "C:\\Users\\Shaqayeq\\anaconda3\\lib\\site-packages\\seaborn\\_decorators.py:36: FutureWarning: Pass the following variables as keyword args: x, y. From version 0.12, the only valid positional argument will be `data`, and passing other arguments without an explicit keyword will result in an error or misinterpretation.\n",
      "  warnings.warn(\n",
      "C:\\Users\\Shaqayeq\\anaconda3\\lib\\site-packages\\seaborn\\_decorators.py:36: FutureWarning: Pass the following variables as keyword args: x, y. From version 0.12, the only valid positional argument will be `data`, and passing other arguments without an explicit keyword will result in an error or misinterpretation.\n",
      "  warnings.warn(\n"
     ]
    },
    {
     "data": {
      "text/plain": [
       "[(41.5, 42.2), (-87.9, -87.5)]"
      ]
     },
     "execution_count": 66,
     "metadata": {},
     "output_type": "execute_result"
    },
    {
     "data": {
      "image/png": "[encoded data removed]",
      "text/plain": [
       "<Figure size 576x360 with 2 Axes>"
      ]
     },
     "metadata": {
      "needs_background": "light"
     },
     "output_type": "display_data"
    }
   ],
   "source": [
    "fig, axes = plt.subplots(1,2,figsize=(8,5))\n",
    "fig1=sns.scatterplot(df_spray['Latitude'],df_spray['Longitude'],hue=df_spray['Year'],ax=axes[0])\n",
    "fig1.set_title('Spray map')\n",
    "fig2=sns.scatterplot(df_spray['Latitude'],df_spray['Longitude'],hue=df_spray['WnvPresent'],ax=axes[1])\n",
    "fig2.set_title('Virus presence map')\n",
    "fig1.set(xlim=(41.5,42.2),ylim=(-87.9,-87.5))\n",
    "fig2.set(xlim=(41.5,42.2),ylim=(-87.9,-87.5))"
   ]
  },
  {
   "cell_type": "markdown",
   "id": "1c6c590f",
   "metadata": {},
   "source": [
    "Some few sprayed area showed the presence of visrus, but there is no meaningful relation between \"Spraying pesticide\" and presence of viruses visually!"
   ]
  },
  {
   "cell_type": "markdown",
   "id": "13e9eb74",
   "metadata": {},
   "source": [
    "<h3>df_train_4 is ready to be applied in ML training<h3>"
   ]
  },
  {
   "cell_type": "code",
   "execution_count": 67,
   "id": "d1f869b0",
   "metadata": {},
   "outputs": [],
   "source": [
    "X_training=df_train_4\n",
    "y_training=df_train['WnvPresent']"
   ]
  },
  {
   "cell_type": "code",
   "execution_count": 68,
   "id": "5e0f6c32",
   "metadata": {},
   "outputs": [
    {
     "data": {
      "text/plain": [
       "count    10506.000000\n",
       "mean         0.052446\n",
       "std          0.222936\n",
       "min          0.000000\n",
       "25%          0.000000\n",
       "50%          0.000000\n",
       "75%          0.000000\n",
       "max          1.000000\n",
       "Name: WnvPresent, dtype: float64"
      ]
     },
     "execution_count": 68,
     "metadata": {},
     "output_type": "execute_result"
    }
   ],
   "source": [
    "# Check the y series of training set\n",
    "y_training.describe()"
   ]
  },
  {
   "cell_type": "code",
   "execution_count": 69,
   "id": "71ce41e6",
   "metadata": {},
   "outputs": [
    {
     "data": {
      "text/plain": [
       "0    9955\n",
       "1     551\n",
       "Name: WnvPresent, dtype: int64"
      ]
     },
     "execution_count": 69,
     "metadata": {},
     "output_type": "execute_result"
    }
   ],
   "source": [
    "y_training.value_counts()"
   ]
  },
  {
   "cell_type": "code",
   "execution_count": 70,
   "id": "8319350d",
   "metadata": {},
   "outputs": [
    {
     "data": {
      "text/plain": [
       "(10506, 178)"
      ]
     },
     "execution_count": 70,
     "metadata": {},
     "output_type": "execute_result"
    }
   ],
   "source": [
    "X_training.shape"
   ]
  },
  {
   "cell_type": "code",
   "execution_count": 71,
   "id": "4b9e2649",
   "metadata": {},
   "outputs": [
    {
     "data": {
      "text/plain": [
       "(10506,)"
      ]
     },
     "execution_count": 71,
     "metadata": {},
     "output_type": "execute_result"
    }
   ],
   "source": [
    "y_training.shape"
   ]
  },
  {
   "cell_type": "code",
   "execution_count": 72,
   "id": "c063af84",
   "metadata": {},
   "outputs": [
    {
     "data": {
      "text/plain": [
       "0        41.954690\n",
       "1        41.954690\n",
       "2        41.994991\n",
       "3        41.974089\n",
       "4        41.974089\n",
       "           ...    \n",
       "10501    41.763733\n",
       "10502    41.987280\n",
       "10503    41.912563\n",
       "10504    42.009876\n",
       "10505    41.776428\n",
       "Name: Latitude, Length: 10506, dtype: float64"
      ]
     },
     "execution_count": 72,
     "metadata": {},
     "output_type": "execute_result"
    }
   ],
   "source": [
    "X_training['Latitude']"
   ]
  },
  {
   "cell_type": "code",
   "execution_count": 73,
   "id": "c8b6fa30",
   "metadata": {},
   "outputs": [
    {
     "name": "stderr",
     "output_type": "stream",
     "text": [
      "C:\\Users\\Shaqayeq\\anaconda3\\lib\\site-packages\\seaborn\\_decorators.py:36: FutureWarning: Pass the following variables as keyword args: x, y. From version 0.12, the only valid positional argument will be `data`, and passing other arguments without an explicit keyword will result in an error or misinterpretation.\n",
      "  warnings.warn(\n"
     ]
    },
    {
     "data": {
      "text/plain": [
       "<AxesSubplot:xlabel='Latitude', ylabel='Longitude'>"
      ]
     },
     "execution_count": 73,
     "metadata": {},
     "output_type": "execute_result"
    },
    {
     "data": {
      "image/png": "[encoded data removed]",
      "text/plain": [
       "<Figure size 432x288 with 1 Axes>"
      ]
     },
     "metadata": {
      "needs_background": "light"
     },
     "output_type": "display_data"
    }
   ],
   "source": [
    "sns.scatterplot(X_training['Latitude'],X_training['Longitude'],hue=y_training)"
   ]
  },
  {
   "cell_type": "markdown",
   "id": "eb3da1c6",
   "metadata": {},
   "source": [
    "<h2> # Model Training<h2>"
   ]
  },
  {
   "cell_type": "code",
   "execution_count": 74,
   "id": "8233d303",
   "metadata": {},
   "outputs": [],
   "source": [
    "from sklearn.model_selection import train_test_split\n",
    "X_train, X_test, y_train, y_test = train_test_split(X_training, y_training, test_size=0.2, random_state=1234)"
   ]
  },
  {
   "cell_type": "code",
   "execution_count": 75,
   "id": "dd3285a7",
   "metadata": {},
   "outputs": [
    {
     "data": {
      "text/plain": [
       "(8404, 178)"
      ]
     },
     "execution_count": 75,
     "metadata": {},
     "output_type": "execute_result"
    }
   ],
   "source": [
    "X_train.shape"
   ]
  },
  {
   "cell_type": "code",
   "execution_count": 76,
   "id": "5b4c9deb",
   "metadata": {},
   "outputs": [
    {
     "data": {
      "text/plain": [
       "(2102, 178)"
      ]
     },
     "execution_count": 76,
     "metadata": {},
     "output_type": "execute_result"
    }
   ],
   "source": [
    "X_test.shape"
   ]
  },
  {
   "cell_type": "code",
   "execution_count": 77,
   "id": "7a37ead3",
   "metadata": {},
   "outputs": [
    {
     "data": {
      "text/plain": [
       "(8404,)"
      ]
     },
     "execution_count": 77,
     "metadata": {},
     "output_type": "execute_result"
    }
   ],
   "source": [
    "y_train.shape"
   ]
  },
  {
   "cell_type": "code",
   "execution_count": 78,
   "id": "ba46b18c",
   "metadata": {},
   "outputs": [
    {
     "data": {
      "text/plain": [
       "(2102,)"
      ]
     },
     "execution_count": 78,
     "metadata": {},
     "output_type": "execute_result"
    }
   ],
   "source": [
    "y_test.shape"
   ]
  },
  {
   "cell_type": "code",
   "execution_count": 79,
   "id": "1207ef69",
   "metadata": {},
   "outputs": [],
   "source": [
    "# Importing the performance evaluaters for classification algorithm\n",
    "from sklearn.metrics import confusion_matrix, classification_report"
   ]
  },
  {
   "cell_type": "code",
   "execution_count": 80,
   "id": "2e6af644",
   "metadata": {},
   "outputs": [],
   "source": [
    "clf = ensemble.RandomForestClassifier(n_jobs=-1, n_estimators=1000, min_samples_split=1.0)"
   ]
  },
  {
   "cell_type": "code",
   "execution_count": 81,
   "id": "4c8437dc",
   "metadata": {},
   "outputs": [
    {
     "data": {
      "text/plain": [
       "RandomForestClassifier(min_samples_split=1.0, n_estimators=1000, n_jobs=-1)"
      ]
     },
     "execution_count": 81,
     "metadata": {},
     "output_type": "execute_result"
    }
   ],
   "source": [
    "clf.fit(X_train,y_train)"
   ]
  },
  {
   "cell_type": "markdown",
   "id": "78adcfca",
   "metadata": {},
   "source": [
    "<h2># Evaluating the model<h2>"
   ]
  },
  {
   "cell_type": "code",
   "execution_count": 82,
   "id": "665bb98b",
   "metadata": {},
   "outputs": [],
   "source": [
    "y_predict=clf.predict(X_test)"
   ]
  },
  {
   "cell_type": "code",
   "execution_count": 83,
   "id": "200b7727",
   "metadata": {},
   "outputs": [],
   "source": [
    "cm=confusion_matrix(y_test,y_predict)"
   ]
  },
  {
   "cell_type": "code",
   "execution_count": 84,
   "id": "e32571c3",
   "metadata": {},
   "outputs": [
    {
     "data": {
      "text/plain": [
       "<AxesSubplot:>"
      ]
     },
     "execution_count": 84,
     "metadata": {},
     "output_type": "execute_result"
    },
    {
     "data": {
      "image/png": "[encoded data removed]",
      "text/plain": [
       "<Figure size 432x288 with 2 Axes>"
      ]
     },
     "metadata": {
      "needs_background": "light"
     },
     "output_type": "display_data"
    }
   ],
   "source": [
    "sns.heatmap(cm, annot=True)"
   ]
  },
  {
   "cell_type": "code",
   "execution_count": 85,
   "id": "dcb86b9f",
   "metadata": {},
   "outputs": [
    {
     "name": "stdout",
     "output_type": "stream",
     "text": [
      "              precision    recall  f1-score   support\n",
      "\n",
      "           0       0.95      1.00      0.97      1989\n",
      "           1       0.00      0.00      0.00       113\n",
      "\n",
      "    accuracy                           0.95      2102\n",
      "   macro avg       0.47      0.50      0.49      2102\n",
      "weighted avg       0.90      0.95      0.92      2102\n",
      "\n"
     ]
    },
    {
     "name": "stderr",
     "output_type": "stream",
     "text": [
      "C:\\Users\\Shaqayeq\\anaconda3\\lib\\site-packages\\sklearn\\metrics\\_classification.py:1248: UndefinedMetricWarning: Precision and F-score are ill-defined and being set to 0.0 in labels with no predicted samples. Use `zero_division` parameter to control this behavior.\n",
      "  _warn_prf(average, modifier, msg_start, len(result))\n",
      "C:\\Users\\Shaqayeq\\anaconda3\\lib\\site-packages\\sklearn\\metrics\\_classification.py:1248: UndefinedMetricWarning: Precision and F-score are ill-defined and being set to 0.0 in labels with no predicted samples. Use `zero_division` parameter to control this behavior.\n",
      "  _warn_prf(average, modifier, msg_start, len(result))\n",
      "C:\\Users\\Shaqayeq\\anaconda3\\lib\\site-packages\\sklearn\\metrics\\_classification.py:1248: UndefinedMetricWarning: Precision and F-score are ill-defined and being set to 0.0 in labels with no predicted samples. Use `zero_division` parameter to control this behavior.\n",
      "  _warn_prf(average, modifier, msg_start, len(result))\n"
     ]
    }
   ],
   "source": [
    "print(classification_report(y_test,y_predict))"
   ]
  },
  {
   "cell_type": "markdown",
   "id": "760930ee",
   "metadata": {},
   "source": [
    "The traing evaluation seems suspicous! Let's check the distribution of data"
   ]
  },
  {
   "cell_type": "code",
   "execution_count": 86,
   "id": "75e2282b",
   "metadata": {},
   "outputs": [
    {
     "name": "stderr",
     "output_type": "stream",
     "text": [
      "C:\\Users\\Shaqayeq\\anaconda3\\lib\\site-packages\\seaborn\\_decorators.py:36: FutureWarning: Pass the following variable as a keyword arg: x. From version 0.12, the only valid positional argument will be `data`, and passing other arguments without an explicit keyword will result in an error or misinterpretation.\n",
      "  warnings.warn(\n"
     ]
    },
    {
     "data": {
      "text/plain": [
       "Text(0.5, 1.0, 'Data distribution')"
      ]
     },
     "execution_count": 86,
     "metadata": {},
     "output_type": "execute_result"
    },
    {
     "data": {
      "image/png": "[encoded data removed]",
      "text/plain": [
       "<Figure size 432x288 with 1 Axes>"
      ]
     },
     "metadata": {
      "needs_background": "light"
     },
     "output_type": "display_data"
    }
   ],
   "source": [
    "pic=sns.countplot(y_training)\n",
    "pic.set_xlabel('Virus observed')\n",
    "pic.set_title('Data distribution')"
   ]
  },
  {
   "cell_type": "markdown",
   "id": "f802a02c",
   "metadata": {},
   "source": [
    "<h2># Warning! imbalanced data<h2>\n",
    "<p>To handel the classification problem with imbalanced data, a suitable metric has to be selected, an appropriate algorithm must be applied and Hyperparameter Tuning should be performed.<p>"
   ]
  },
  {
   "cell_type": "markdown",
   "id": "57340008",
   "metadata": {},
   "source": [
    "<img src='https://machinelearningmastery.com/wp-content/uploads/2019/12/How-to-Choose-a-Metric-for-Imbalanced-Classification-latest.png' width=\"800\" height=\"1100\">"
   ]
  },
  {
   "cell_type": "code",
   "execution_count": 87,
   "id": "e3edf1cd",
   "metadata": {},
   "outputs": [],
   "source": [
    "# We are gonna use Balanced Bagging Classifier\n",
    "from imblearn.ensemble import BalancedBaggingClassifier\n",
    "from sklearn.tree import DecisionTreeClassifier\n",
    "#Create an instance\n",
    "classifier = BalancedBaggingClassifier(base_estimator=DecisionTreeClassifier(),\n",
    "                                sampling_strategy='not majority',\n",
    "                                replacement=False,\n",
    "                                random_state=42)\n",
    "classifier.fit(X_train, y_train)\n",
    "preds = classifier.predict(X_test)"
   ]
  },
  {
   "cell_type": "code",
   "execution_count": 88,
   "id": "eb054971",
   "metadata": {},
   "outputs": [],
   "source": [
    "cm=confusion_matrix(y_test,preds)"
   ]
  },
  {
   "cell_type": "code",
   "execution_count": 89,
   "id": "54382881",
   "metadata": {},
   "outputs": [
    {
     "data": {
      "text/plain": [
       "<AxesSubplot:>"
      ]
     },
     "execution_count": 89,
     "metadata": {},
     "output_type": "execute_result"
    },
    {
     "data": {
      "image/png": "[encoded data removed]",
      "text/plain": [
       "<Figure size 432x288 with 2 Axes>"
      ]
     },
     "metadata": {
      "needs_background": "light"
     },
     "output_type": "display_data"
    }
   ],
   "source": [
    "sns.heatmap(cm, annot=True)"
   ]
  },
  {
   "cell_type": "code",
   "execution_count": 90,
   "id": "c9669728",
   "metadata": {},
   "outputs": [
    {
     "name": "stdout",
     "output_type": "stream",
     "text": [
      "              precision    recall  f1-score   support\n",
      "\n",
      "           0       0.95      0.98      0.97      1989\n",
      "           1       0.30      0.12      0.18       113\n",
      "\n",
      "    accuracy                           0.94      2102\n",
      "   macro avg       0.62      0.55      0.57      2102\n",
      "weighted avg       0.92      0.94      0.92      2102\n",
      "\n"
     ]
    }
   ],
   "source": [
    "print(classification_report(y_test,preds))"
   ]
  },
  {
   "cell_type": "markdown",
   "id": "9ced1eb3",
   "metadata": {},
   "source": [
    "Synthetic Minority Oversampling Technique or SMOTE: "
   ]
  },
  {
   "cell_type": "code",
   "execution_count": 91,
   "id": "69063ec1",
   "metadata": {},
   "outputs": [],
   "source": [
    "from imblearn.over_sampling import SMOTE\n",
    "# Resampling the minority class. The strategy can be changed as required.\n",
    "sm = SMOTE(sampling_strategy='minority', random_state=42)\n",
    "# Fit the model to generate the data.\n",
    "oversampled_X, oversampled_Y = sm.fit_sample(X_training, y_training)"
   ]
  },
  {
   "cell_type": "code",
   "execution_count": 92,
   "id": "ddc2e5b8",
   "metadata": {},
   "outputs": [
    {
     "name": "stderr",
     "output_type": "stream",
     "text": [
      "C:\\Users\\Shaqayeq\\anaconda3\\lib\\site-packages\\seaborn\\_decorators.py:36: FutureWarning: Pass the following variable as a keyword arg: x. From version 0.12, the only valid positional argument will be `data`, and passing other arguments without an explicit keyword will result in an error or misinterpretation.\n",
      "  warnings.warn(\n"
     ]
    },
    {
     "data": {
      "text/plain": [
       "<AxesSubplot:xlabel='WnvPresent', ylabel='count'>"
      ]
     },
     "execution_count": 92,
     "metadata": {},
     "output_type": "execute_result"
    },
    {
     "data": {
      "image/png": "[encoded data removed]",
      "text/plain": [
       "<Figure size 432x288 with 1 Axes>"
      ]
     },
     "metadata": {
      "needs_background": "light"
     },
     "output_type": "display_data"
    }
   ],
   "source": [
    "sns.countplot(oversampled_Y)"
   ]
  },
  {
   "cell_type": "code",
   "execution_count": 93,
   "id": "362bcc2f",
   "metadata": {},
   "outputs": [],
   "source": [
    "X_train_1, X_test_1, y_train_1, y_test_1 = train_test_split(oversampled_X, oversampled_Y, test_size=0.2, random_state=1234)"
   ]
  },
  {
   "cell_type": "code",
   "execution_count": 94,
   "id": "021a7ddf",
   "metadata": {},
   "outputs": [
    {
     "data": {
      "text/plain": [
       "RandomForestClassifier(min_samples_split=1.0, n_estimators=1000, n_jobs=-1)"
      ]
     },
     "execution_count": 94,
     "metadata": {},
     "output_type": "execute_result"
    }
   ],
   "source": [
    "clf.fit(X_train_1,y_train_1)"
   ]
  },
  {
   "cell_type": "code",
   "execution_count": 95,
   "id": "fc952898",
   "metadata": {},
   "outputs": [],
   "source": [
    "y_pred1=clf.predict(X_test_1)"
   ]
  },
  {
   "cell_type": "code",
   "execution_count": 96,
   "id": "69c45658",
   "metadata": {},
   "outputs": [],
   "source": [
    "cm=confusion_matrix(y_test_1,y_pred1)"
   ]
  },
  {
   "cell_type": "code",
   "execution_count": 97,
   "id": "04e1bda1",
   "metadata": {},
   "outputs": [
    {
     "data": {
      "text/plain": [
       "<AxesSubplot:>"
      ]
     },
     "execution_count": 97,
     "metadata": {},
     "output_type": "execute_result"
    },
    {
     "data": {
      "image/png": "[encoded data removed]",
      "text/plain": [
       "<Figure size 432x288 with 2 Axes>"
      ]
     },
     "metadata": {
      "needs_background": "light"
     },
     "output_type": "display_data"
    }
   ],
   "source": [
    "sns.heatmap(cm, annot=True)"
   ]
  },
  {
   "cell_type": "markdown",
   "id": "e615c87b",
   "metadata": {},
   "source": [
    "<h2>Way too wrong! Let's try another way of handling the imbalance: Resampling <h2>"
   ]
  },
  {
   "cell_type": "code",
   "execution_count": 98,
   "id": "0e68cd58",
   "metadata": {},
   "outputs": [],
   "source": [
    "from sklearn.utils import resample\n",
    "#create two different dataframe of majority and minority class\n",
    "y_training_1=pd.DataFrame(y_training)\n",
    "df_train_resampled=pd.concat([X_training,y_training_1],axis=1)\n",
    "df_majority = df_train_resampled[(df_train['WnvPresent']==0)] \n",
    "df_minority = df_train_resampled[(df_train['WnvPresent']==1)] \n",
    "# upsample minority class\n",
    "df_minority_upsampled = resample(df_minority, \n",
    "                                 replace=True,    # sample with replacement\n",
    "                                 n_samples= 6000, # to match majority class\n",
    "                                 random_state=42)  # reproducible results\n",
    "# Combine majority class with upsampled minority class\n",
    "df_upsampled = pd.concat([df_minority_upsampled, df_majority])\n",
    "X_resampled=df_upsampled.drop('WnvPresent',axis=1)\n",
    "y_resampled=df_upsampled['WnvPresent']"
   ]
  },
  {
   "cell_type": "code",
   "execution_count": 99,
   "id": "4c98fca2",
   "metadata": {},
   "outputs": [
    {
     "name": "stderr",
     "output_type": "stream",
     "text": [
      "C:\\Users\\Shaqayeq\\anaconda3\\lib\\site-packages\\seaborn\\_decorators.py:36: FutureWarning: Pass the following variable as a keyword arg: x. From version 0.12, the only valid positional argument will be `data`, and passing other arguments without an explicit keyword will result in an error or misinterpretation.\n",
      "  warnings.warn(\n"
     ]
    },
    {
     "data": {
      "text/plain": [
       "<AxesSubplot:xlabel='WnvPresent', ylabel='count'>"
      ]
     },
     "execution_count": 99,
     "metadata": {},
     "output_type": "execute_result"
    },
    {
     "data": {
      "image/png": "[encoded data removed]",
      "text/plain": [
       "<Figure size 432x288 with 1 Axes>"
      ]
     },
     "metadata": {
      "needs_background": "light"
     },
     "output_type": "display_data"
    }
   ],
   "source": [
    "# Check the distribution of variables\n",
    "sns.countplot(y_resampled)"
   ]
  },
  {
   "cell_type": "code",
   "execution_count": 100,
   "id": "e757b063",
   "metadata": {},
   "outputs": [],
   "source": [
    "# Split the data\n",
    "X_train_rs, X_test_rs, y_train_rs, y_test_rs = train_test_split(X_resampled, y_resampled, test_size=0.2, random_state=1234)"
   ]
  },
  {
   "cell_type": "code",
   "execution_count": 101,
   "id": "77544c79",
   "metadata": {},
   "outputs": [
    {
     "data": {
      "text/plain": [
       "RandomForestClassifier(min_samples_split=1.0, n_estimators=1000, n_jobs=-1)"
      ]
     },
     "execution_count": 101,
     "metadata": {},
     "output_type": "execute_result"
    }
   ],
   "source": [
    "clf.fit(X_train_rs,y_train_rs)"
   ]
  },
  {
   "cell_type": "code",
   "execution_count": 102,
   "id": "d556a7ac",
   "metadata": {},
   "outputs": [],
   "source": [
    "y_pred_rs=clf.predict(X_test_rs)"
   ]
  },
  {
   "cell_type": "code",
   "execution_count": 103,
   "id": "9c0789a5",
   "metadata": {},
   "outputs": [],
   "source": [
    "cm=confusion_matrix(y_test_rs,y_pred_rs)"
   ]
  },
  {
   "cell_type": "code",
   "execution_count": 104,
   "id": "393f64dc",
   "metadata": {},
   "outputs": [
    {
     "data": {
      "text/plain": [
       "<AxesSubplot:>"
      ]
     },
     "execution_count": 104,
     "metadata": {},
     "output_type": "execute_result"
    },
    {
     "data": {
      "image/png": "[encoded data removed]",
      "text/plain": [
       "<Figure size 432x288 with 2 Axes>"
      ]
     },
     "metadata": {
      "needs_background": "light"
     },
     "output_type": "display_data"
    }
   ],
   "source": [
    "sns.heatmap(cm, annot=True)"
   ]
  },
  {
   "cell_type": "code",
   "execution_count": 105,
   "id": "4be7b870",
   "metadata": {},
   "outputs": [
    {
     "name": "stdout",
     "output_type": "stream",
     "text": [
      "              precision    recall  f1-score   support\n",
      "\n",
      "           0       0.62      1.00      0.77      1978\n",
      "           1       0.00      0.00      0.00      1213\n",
      "\n",
      "    accuracy                           0.62      3191\n",
      "   macro avg       0.31      0.50      0.38      3191\n",
      "weighted avg       0.38      0.62      0.47      3191\n",
      "\n"
     ]
    },
    {
     "name": "stderr",
     "output_type": "stream",
     "text": [
      "C:\\Users\\Shaqayeq\\anaconda3\\lib\\site-packages\\sklearn\\metrics\\_classification.py:1248: UndefinedMetricWarning: Precision and F-score are ill-defined and being set to 0.0 in labels with no predicted samples. Use `zero_division` parameter to control this behavior.\n",
      "  _warn_prf(average, modifier, msg_start, len(result))\n",
      "C:\\Users\\Shaqayeq\\anaconda3\\lib\\site-packages\\sklearn\\metrics\\_classification.py:1248: UndefinedMetricWarning: Precision and F-score are ill-defined and being set to 0.0 in labels with no predicted samples. Use `zero_division` parameter to control this behavior.\n",
      "  _warn_prf(average, modifier, msg_start, len(result))\n",
      "C:\\Users\\Shaqayeq\\anaconda3\\lib\\site-packages\\sklearn\\metrics\\_classification.py:1248: UndefinedMetricWarning: Precision and F-score are ill-defined and being set to 0.0 in labels with no predicted samples. Use `zero_division` parameter to control this behavior.\n",
      "  _warn_prf(average, modifier, msg_start, len(result))\n"
     ]
    }
   ],
   "source": [
    "print(classification_report(y_test_rs,y_pred_rs))"
   ]
  },
  {
   "cell_type": "markdown",
   "id": "2d62c7bd",
   "metadata": {},
   "source": [
    "<h2>Nope! The performance is not satisfactory! "
   ]
  },
  {
   "cell_type": "code",
   "execution_count": 106,
   "id": "6d94b5b1",
   "metadata": {
    "scrolled": true
   },
   "outputs": [
    {
     "name": "stdout",
     "output_type": "stream",
     "text": [
      "              precision    recall  f1-score   support\n",
      "\n",
      "           0       0.95      1.00      0.97      2489\n",
      "           1       0.00      0.00      0.00       138\n",
      "\n",
      "    accuracy                           0.95      2627\n",
      "   macro avg       0.47      0.50      0.49      2627\n",
      "weighted avg       0.90      0.95      0.92      2627\n",
      "\n"
     ]
    },
    {
     "name": "stderr",
     "output_type": "stream",
     "text": [
      "C:\\Users\\Shaqayeq\\anaconda3\\lib\\site-packages\\sklearn\\linear_model\\_logistic.py:763: ConvergenceWarning: lbfgs failed to converge (status=1):\n",
      "STOP: TOTAL NO. of ITERATIONS REACHED LIMIT.\n",
      "\n",
      "Increase the number of iterations (max_iter) or scale the data as shown in:\n",
      "    https://scikit-learn.org/stable/modules/preprocessing.html\n",
      "Please also refer to the documentation for alternative solver options:\n",
      "    https://scikit-learn.org/stable/modules/linear_model.html#logistic-regression\n",
      "  n_iter_i = _check_optimize_result(\n",
      "C:\\Users\\Shaqayeq\\anaconda3\\lib\\site-packages\\sklearn\\metrics\\_classification.py:1248: UndefinedMetricWarning: Precision and F-score are ill-defined and being set to 0.0 in labels with no predicted samples. Use `zero_division` parameter to control this behavior.\n",
      "  _warn_prf(average, modifier, msg_start, len(result))\n",
      "C:\\Users\\Shaqayeq\\anaconda3\\lib\\site-packages\\sklearn\\metrics\\_classification.py:1248: UndefinedMetricWarning: Precision and F-score are ill-defined and being set to 0.0 in labels with no predicted samples. Use `zero_division` parameter to control this behavior.\n",
      "  _warn_prf(average, modifier, msg_start, len(result))\n",
      "C:\\Users\\Shaqayeq\\anaconda3\\lib\\site-packages\\sklearn\\metrics\\_classification.py:1248: UndefinedMetricWarning: Precision and F-score are ill-defined and being set to 0.0 in labels with no predicted samples. Use `zero_division` parameter to control this behavior.\n",
      "  _warn_prf(average, modifier, msg_start, len(result))\n"
     ]
    }
   ],
   "source": [
    "# Checking the performance of logistic regression\n",
    "from sklearn.linear_model import LogisticRegression\n",
    "X_train_lr, X_test_lr, y_train_lr, y_test_lr = train_test_split(\n",
    "    X_training, y_training, stratify=y_training, random_state=0)\n",
    "\n",
    "lr = LogisticRegression().fit(X_train_lr, y_train_lr)\n",
    "y_pred_lr = lr.predict(X_test_lr)\n",
    "\n",
    "print(classification_report(y_test_lr, y_pred_lr))\n"
   ]
  },
  {
   "cell_type": "code",
   "execution_count": 107,
   "id": "cd30093c",
   "metadata": {},
   "outputs": [
    {
     "data": {
      "text/plain": [
       "<AxesSubplot:>"
      ]
     },
     "execution_count": 107,
     "metadata": {},
     "output_type": "execute_result"
    },
    {
     "data": {
      "image/png": "[encoded data removed]",
      "text/plain": [
       "<Figure size 432x288 with 2 Axes>"
      ]
     },
     "metadata": {
      "needs_background": "light"
     },
     "output_type": "display_data"
    }
   ],
   "source": [
    "cm=confusion_matrix(y_test_lr, y_pred_lr)\n",
    "sns.heatmap(cm, annot=True)"
   ]
  },
  {
   "cell_type": "code",
   "execution_count": 108,
   "id": "7d15d58c",
   "metadata": {},
   "outputs": [],
   "source": [
    "# Trying Undersampling\n",
    "from imblearn.under_sampling import RandomUnderSampler\n",
    "# define undersample strategy\n",
    "undersample = RandomUnderSampler(sampling_strategy='majority')\n",
    "# fit and apply the transform\n",
    "X_over, y_over = undersample.fit_resample(X_training, y_training)"
   ]
  },
  {
   "cell_type": "code",
   "execution_count": 109,
   "id": "9656f044",
   "metadata": {},
   "outputs": [
    {
     "data": {
      "text/plain": [
       "(1102, 178)"
      ]
     },
     "execution_count": 109,
     "metadata": {},
     "output_type": "execute_result"
    }
   ],
   "source": [
    "X_over.shape"
   ]
  },
  {
   "cell_type": "code",
   "execution_count": 110,
   "id": "49df9dcb",
   "metadata": {},
   "outputs": [
    {
     "data": {
      "text/plain": [
       "(1102,)"
      ]
     },
     "execution_count": 110,
     "metadata": {},
     "output_type": "execute_result"
    }
   ],
   "source": [
    "y_over.shape"
   ]
  },
  {
   "cell_type": "code",
   "execution_count": 111,
   "id": "2b9449c1",
   "metadata": {},
   "outputs": [
    {
     "data": {
      "text/plain": [
       "RandomForestClassifier(min_samples_split=1.0, n_estimators=1000, n_jobs=-1)"
      ]
     },
     "execution_count": 111,
     "metadata": {},
     "output_type": "execute_result"
    }
   ],
   "source": [
    "# Split the data\n",
    "X_train_os, X_test_os, y_train_os, y_test_os = train_test_split(X_over, y_over, test_size=0.2, random_state=1234)\n",
    "clf.fit(X_train_os,y_train_os)"
   ]
  },
  {
   "cell_type": "code",
   "execution_count": 112,
   "id": "1e8b307b",
   "metadata": {},
   "outputs": [],
   "source": [
    "y_pred_os=clf.predict(X_test_os)"
   ]
  },
  {
   "cell_type": "code",
   "execution_count": 113,
   "id": "abd97bc8",
   "metadata": {},
   "outputs": [
    {
     "data": {
      "text/plain": [
       "<AxesSubplot:>"
      ]
     },
     "execution_count": 113,
     "metadata": {},
     "output_type": "execute_result"
    },
    {
     "data": {
      "image/png": "[encoded data removed]",
      "text/plain": [
       "<Figure size 432x288 with 2 Axes>"
      ]
     },
     "metadata": {
      "needs_background": "light"
     },
     "output_type": "display_data"
    }
   ],
   "source": [
    "cm=confusion_matrix(y_test_os, y_pred_os)\n",
    "sns.heatmap(cm, annot=True)"
   ]
  },
  {
   "cell_type": "code",
   "execution_count": 114,
   "id": "07642b29",
   "metadata": {},
   "outputs": [
    {
     "name": "stdout",
     "output_type": "stream",
     "text": [
      "<class 'pandas.core.frame.DataFrame'>\n",
      "Int64Index: 10506 entries, 0 to 10505\n",
      "Data columns (total 37 columns):\n",
      " #   Column         Non-Null Count  Dtype  \n",
      "---  ------         --------------  -----  \n",
      " 0   Species        10506 non-null  object \n",
      " 1   Trap           10506 non-null  object \n",
      " 2   Latitude       10506 non-null  float64\n",
      " 3   Longitude      10506 non-null  float64\n",
      " 4   Tmax_1         10506 non-null  int32  \n",
      " 5   Tmin_1         10506 non-null  int32  \n",
      " 6   Tavg_1         10506 non-null  int32  \n",
      " 7   Depart_1       10506 non-null  int32  \n",
      " 8   DewPoint_1     10506 non-null  int32  \n",
      " 9   WetBulb_1      10506 non-null  int32  \n",
      " 10  Heat_1         10506 non-null  int32  \n",
      " 11  Cool_1         10506 non-null  int32  \n",
      " 12  Sunrise_1      10506 non-null  int32  \n",
      " 13  Sunset_1       10506 non-null  int32  \n",
      " 14  Depth_1        10506 non-null  int32  \n",
      " 15  SnowFall_1     10506 non-null  int32  \n",
      " 16  PrecipTotal_1  10506 non-null  int32  \n",
      " 17  StnPressure_1  10506 non-null  float64\n",
      " 18  SeaLevel_1     10506 non-null  float64\n",
      " 19  ResultSpeed_1  10506 non-null  int32  \n",
      " 20  ResultDir_1    10506 non-null  int32  \n",
      " 21  AvgSpeed_1     10506 non-null  float64\n",
      " 22  Tmax_2         10506 non-null  int32  \n",
      " 23  Tmin_2         10506 non-null  int32  \n",
      " 24  Tavg_2         10506 non-null  int32  \n",
      " 25  DewPoint_2     10506 non-null  int32  \n",
      " 26  WetBulb_2      10506 non-null  int32  \n",
      " 27  Heat_2         10506 non-null  int32  \n",
      " 28  Cool_2         10506 non-null  int32  \n",
      " 29  PrecipTotal_2  10506 non-null  int32  \n",
      " 30  StnPressure_2  10506 non-null  float64\n",
      " 31  SeaLevel_2     10506 non-null  float64\n",
      " 32  ResultSpeed_2  10506 non-null  int32  \n",
      " 33  ResultDir_2    10506 non-null  int32  \n",
      " 34  AvgSpeed_2     10506 non-null  float64\n",
      " 35  Month          10506 non-null  int64  \n",
      " 36  Day            10506 non-null  int64  \n",
      "dtypes: float64(8), int32(25), int64(2), object(2)\n",
      "memory usage: 2.0+ MB\n"
     ]
    }
   ],
   "source": [
    "# Keep the Latitude and longitude and Trap\n",
    "df_train_3.info()\n",
    "\n",
    "#df_train_4=pd.get_dummies(df_train_3, columns=['Species','Street','Trap'])\n",
    "#df_train_4['Latitude']=df_train_4['Latitude'].astype('int')\n",
    "#df_train_4['Longitude']=df_train_4['Longitude'].astype('int')"
   ]
  },
  {
   "cell_type": "code",
   "execution_count": 115,
   "id": "c371db3d",
   "metadata": {},
   "outputs": [
    {
     "data": {
      "text/plain": [
       "<AxesSubplot:xlabel='Tmin_1', ylabel='Tmax_1'>"
      ]
     },
     "execution_count": 115,
     "metadata": {},
     "output_type": "execute_result"
    },
    {
     "data": {
      "image/png": "[encoded data removed]",
      "text/plain": [
       "<Figure size 432x288 with 1 Axes>"
      ]
     },
     "metadata": {
      "needs_background": "light"
     },
     "output_type": "display_data"
    }
   ],
   "source": [
    "sns.scatterplot(x='Tmin_1',y='Tmax_1',data=df_train_3,hue=y_training)"
   ]
  },
  {
   "cell_type": "code",
   "execution_count": null,
   "id": "58a2bc5e",
   "metadata": {},
   "outputs": [],
   "source": []
  },
  {
   "cell_type": "code",
   "execution_count": null,
   "id": "fa985f5d",
   "metadata": {},
   "outputs": [],
   "source": []
  },
  {
   "cell_type": "code",
   "execution_count": null,
   "id": "d4ee5d47",
   "metadata": {},
   "outputs": [],
   "source": []
  },
  {
   "cell_type": "code",
   "execution_count": 119,
   "id": "3a533899",
   "metadata": {},
   "outputs": [],
   "source": [
    "focused_region=X_training\n",
    "focused_region['Y']=y_training"
   ]
  },
  {
   "cell_type": "code",
   "execution_count": 126,
   "id": "2420ffba",
   "metadata": {},
   "outputs": [],
   "source": [
    "# Now we eliminate the regions that have never shown the presence of Virus. This will help to have balanced data\n",
    "lat_min=focused_region[focused_region['Y']==1]['Latitude'].min()\n",
    "lat_max=focused_region[focused_region['Y']==1]['Latitude'].max()\n",
    "long_min=focused_region[focused_region['Y']==1]['Longitude'].min()\n",
    "long_max=focused_region[focused_region['Y']==1]['Longitude'].max()"
   ]
  },
  {
   "cell_type": "code",
   "execution_count": 137,
   "id": "422be435",
   "metadata": {},
   "outputs": [
    {
     "name": "stderr",
     "output_type": "stream",
     "text": [
      "C:\\Users\\Shaqayeq\\AppData\\Local\\Temp/ipykernel_9748/916737106.py:1: FutureWarning: Boolean inputs to the `inclusive` argument are deprecated infavour of `both` or `neither`.\n",
      "  shorten_region=focused_region[focused_region['Latitude'].between(lat_min, lat_max, inclusive=True) & focused_region['Longitude'].between(long_min, long_max, inclusive=True)]\n"
     ]
    }
   ],
   "source": [
    "shorten_region=focused_region[focused_region['Latitude'].between(lat_min, lat_max, inclusive=True) & focused_region['Longitude'].between(long_min, long_max, inclusive=True)]"
   ]
  },
  {
   "cell_type": "code",
   "execution_count": 138,
   "id": "030e9fdb",
   "metadata": {},
   "outputs": [
    {
     "data": {
      "text/plain": [
       "(10437, 179)"
      ]
     },
     "execution_count": 138,
     "metadata": {},
     "output_type": "execute_result"
    }
   ],
   "source": [
    "shorten_region.shape"
   ]
  },
  {
   "cell_type": "code",
   "execution_count": 139,
   "id": "3ed6c338",
   "metadata": {},
   "outputs": [
    {
     "data": {
      "text/plain": [
       "41.644612"
      ]
     },
     "execution_count": 139,
     "metadata": {},
     "output_type": "execute_result"
    }
   ],
   "source": [
    "X_training['Latitude'].min()"
   ]
  },
  {
   "cell_type": "code",
   "execution_count": 141,
   "id": "1cd70226",
   "metadata": {},
   "outputs": [
    {
     "data": {
      "text/plain": [
       "41.644612"
      ]
     },
     "execution_count": 141,
     "metadata": {},
     "output_type": "execute_result"
    }
   ],
   "source": [
    "lat_min"
   ]
  },
  {
   "cell_type": "code",
   "execution_count": 143,
   "id": "8e0e0cf2",
   "metadata": {},
   "outputs": [],
   "source": [
    "from imblearn.under_sampling import TomekLinks\n",
    "\n",
    "tl = TomekLinks()\n",
    "\n",
    "# fit predictor and target variable\n",
    "x_tl, y_tl = tl.fit_resample(X_training, y_training)"
   ]
  },
  {
   "cell_type": "code",
   "execution_count": 148,
   "id": "74e76447",
   "metadata": {},
   "outputs": [
    {
     "data": {
      "text/plain": [
       "((10452, 179), (10452,))"
      ]
     },
     "execution_count": 148,
     "metadata": {},
     "output_type": "execute_result"
    }
   ],
   "source": [
    "x_tl.shape, y_tl.shape"
   ]
  },
  {
   "cell_type": "code",
   "execution_count": 151,
   "id": "9ae6c719",
   "metadata": {},
   "outputs": [
    {
     "name": "stderr",
     "output_type": "stream",
     "text": [
      "C:\\Users\\Shaqayeq\\anaconda3\\lib\\site-packages\\seaborn\\_decorators.py:36: FutureWarning: Pass the following variable as a keyword arg: x. From version 0.12, the only valid positional argument will be `data`, and passing other arguments without an explicit keyword will result in an error or misinterpretation.\n",
      "  warnings.warn(\n"
     ]
    },
    {
     "data": {
      "text/plain": [
       "<AxesSubplot:xlabel='WnvPresent', ylabel='count'>"
      ]
     },
     "execution_count": 151,
     "metadata": {},
     "output_type": "execute_result"
    },
    {
     "data": {
      "image/png": "[encoded data removed]",
      "text/plain": [
       "<Figure size 432x288 with 1 Axes>"
      ]
     },
     "metadata": {
      "needs_background": "light"
     },
     "output_type": "display_data"
    }
   ],
   "source": [
    "sns.countplot(y_tl)"
   ]
  },
  {
   "cell_type": "code",
   "execution_count": null,
   "id": "8eb7431c",
   "metadata": {},
   "outputs": [],
   "source": []
  }
 ],
 "metadata": {
  "kernelspec": {
   "display_name": "Python 3 (ipykernel)",
   "language": "python",
   "name": "python3"
  },
  "language_info": {
   "codemirror_mode": {
    "name": "ipython",
    "version": 3
   },
   "file_extension": ".py",
   "mimetype": "text/x-python",
   "name": "python",
   "nbconvert_exporter": "python",
   "pygments_lexer": "ipython3",
   "version": "3.9.7"
  }
 },
 "nbformat": 4,
 "nbformat_minor": 5
}
