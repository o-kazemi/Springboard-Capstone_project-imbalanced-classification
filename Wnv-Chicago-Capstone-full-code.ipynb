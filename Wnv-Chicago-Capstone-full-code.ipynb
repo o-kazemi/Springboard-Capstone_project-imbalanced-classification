{
 "cells": [
  {
   "cell_type": "code",
   "execution_count": 472,
   "id": "f2249650",
   "metadata": {},
   "outputs": [],
   "source": [
    "# import libraries\n",
    "import numpy as np\n",
    "import scipy.stats as stats\n",
    "import seaborn as sns\n",
    "import matplotlib.pyplot as plt\n",
    "import pandas as pd\n",
    "from matplotlib.image import imread\n",
    "from sklearn import ensemble, preprocessing\n",
    "%matplotlib inline\n",
    "# Import baseline\n",
    "from sklearn.pipeline import make_pipeline, Pipeline\n",
    "from sklearn.metrics import accuracy_score, confusion_matrix, roc_auc_score, classification_report\n",
    "from sklearn.linear_model import LogisticRegression\n",
    "from sklearn.model_selection import GridSearchCV, train_test_split, cross_val_score, RandomizedSearchCV\n",
    "from sklearn.neighbors import KNeighborsClassifier, KernelDensity\n",
    "from sklearn import svm, linear_model, datasets\n",
    "from sklearn.preprocessing import StandardScaler, PolynomialFeatures\n",
    "from sklearn.tree import DecisionTreeClassifier\n",
    "from sklearn.ensemble import RandomForestClassifier, ExtraTreesClassifier\n",
    "from sklearn.naive_bayes import MultinomialNB, BernoulliNB, GaussianNB\n",
    "from sklearn.ensemble import AdaBoostClassifier, GradientBoostingClassifier\n",
    "from sklearn.impute import SimpleImputer\n",
    "from sklearn.decomposition import PCA\n",
    "from sklearn.svm import SVC"
   ]
  },
  {
   "cell_type": "markdown",
   "id": "63ae4d5f",
   "metadata": {},
   "source": [
    "# Importing Datasets"
   ]
  },
  {
   "cell_type": "code",
   "execution_count": 319,
   "id": "675f83da",
   "metadata": {},
   "outputs": [],
   "source": [
    "Train=pd.read_csv('data/train.csv')\n",
    "Test=pd.read_csv('data/test.csv')\n",
    "Spray=pd.read_csv('data/spray.csv')\n",
    "Weather=pd.read_csv('data/weather.csv')"
   ]
  },
  {
   "cell_type": "markdown",
   "id": "6d54aaf8",
   "metadata": {},
   "source": [
    "# Data Wrangling and EDA"
   ]
  },
  {
   "cell_type": "markdown",
   "id": "3ec9b205",
   "metadata": {},
   "source": [
    "<h3>Train dataset:"
   ]
  },
  {
   "cell_type": "code",
   "execution_count": 320,
   "id": "ef32c53b",
   "metadata": {},
   "outputs": [
    {
     "data": {
      "text/html": [
       "<div>\n",
       "<style scoped>\n",
       "    .dataframe tbody tr th:only-of-type {\n",
       "        vertical-align: middle;\n",
       "    }\n",
       "\n",
       "    .dataframe tbody tr th {\n",
       "        vertical-align: top;\n",
       "    }\n",
       "\n",
       "    .dataframe thead th {\n",
       "        text-align: right;\n",
       "    }\n",
       "</style>\n",
       "<table border=\"1\" class=\"dataframe\">\n",
       "  <thead>\n",
       "    <tr style=\"text-align: right;\">\n",
       "      <th></th>\n",
       "      <th>Date</th>\n",
       "      <th>Address</th>\n",
       "      <th>Species</th>\n",
       "      <th>Block</th>\n",
       "      <th>Street</th>\n",
       "      <th>Trap</th>\n",
       "      <th>AddressNumberAndStreet</th>\n",
       "      <th>Latitude</th>\n",
       "      <th>Longitude</th>\n",
       "      <th>AddressAccuracy</th>\n",
       "      <th>NumMosquitos</th>\n",
       "      <th>WnvPresent</th>\n",
       "    </tr>\n",
       "  </thead>\n",
       "  <tbody>\n",
       "    <tr>\n",
       "      <th>0</th>\n",
       "      <td>2007-05-29</td>\n",
       "      <td>4100 North Oak Park Avenue, Chicago, IL 60634,...</td>\n",
       "      <td>CULEX PIPIENS/RESTUANS</td>\n",
       "      <td>41</td>\n",
       "      <td>N OAK PARK AVE</td>\n",
       "      <td>T002</td>\n",
       "      <td>4100  N OAK PARK AVE, Chicago, IL</td>\n",
       "      <td>41.954690</td>\n",
       "      <td>-87.800991</td>\n",
       "      <td>9</td>\n",
       "      <td>1</td>\n",
       "      <td>0</td>\n",
       "    </tr>\n",
       "    <tr>\n",
       "      <th>1</th>\n",
       "      <td>2007-05-29</td>\n",
       "      <td>4100 North Oak Park Avenue, Chicago, IL 60634,...</td>\n",
       "      <td>CULEX RESTUANS</td>\n",
       "      <td>41</td>\n",
       "      <td>N OAK PARK AVE</td>\n",
       "      <td>T002</td>\n",
       "      <td>4100  N OAK PARK AVE, Chicago, IL</td>\n",
       "      <td>41.954690</td>\n",
       "      <td>-87.800991</td>\n",
       "      <td>9</td>\n",
       "      <td>1</td>\n",
       "      <td>0</td>\n",
       "    </tr>\n",
       "    <tr>\n",
       "      <th>2</th>\n",
       "      <td>2007-05-29</td>\n",
       "      <td>6200 North Mandell Avenue, Chicago, IL 60646, USA</td>\n",
       "      <td>CULEX RESTUANS</td>\n",
       "      <td>62</td>\n",
       "      <td>N MANDELL AVE</td>\n",
       "      <td>T007</td>\n",
       "      <td>6200  N MANDELL AVE, Chicago, IL</td>\n",
       "      <td>41.994991</td>\n",
       "      <td>-87.769279</td>\n",
       "      <td>9</td>\n",
       "      <td>1</td>\n",
       "      <td>0</td>\n",
       "    </tr>\n",
       "    <tr>\n",
       "      <th>3</th>\n",
       "      <td>2007-05-29</td>\n",
       "      <td>7900 West Foster Avenue, Chicago, IL 60656, USA</td>\n",
       "      <td>CULEX PIPIENS/RESTUANS</td>\n",
       "      <td>79</td>\n",
       "      <td>W FOSTER AVE</td>\n",
       "      <td>T015</td>\n",
       "      <td>7900  W FOSTER AVE, Chicago, IL</td>\n",
       "      <td>41.974089</td>\n",
       "      <td>-87.824812</td>\n",
       "      <td>8</td>\n",
       "      <td>1</td>\n",
       "      <td>0</td>\n",
       "    </tr>\n",
       "    <tr>\n",
       "      <th>4</th>\n",
       "      <td>2007-05-29</td>\n",
       "      <td>7900 West Foster Avenue, Chicago, IL 60656, USA</td>\n",
       "      <td>CULEX RESTUANS</td>\n",
       "      <td>79</td>\n",
       "      <td>W FOSTER AVE</td>\n",
       "      <td>T015</td>\n",
       "      <td>7900  W FOSTER AVE, Chicago, IL</td>\n",
       "      <td>41.974089</td>\n",
       "      <td>-87.824812</td>\n",
       "      <td>8</td>\n",
       "      <td>4</td>\n",
       "      <td>0</td>\n",
       "    </tr>\n",
       "  </tbody>\n",
       "</table>\n",
       "</div>"
      ],
      "text/plain": [
       "         Date                                            Address  \\\n",
       "0  2007-05-29  4100 North Oak Park Avenue, Chicago, IL 60634,...   \n",
       "1  2007-05-29  4100 North Oak Park Avenue, Chicago, IL 60634,...   \n",
       "2  2007-05-29  6200 North Mandell Avenue, Chicago, IL 60646, USA   \n",
       "3  2007-05-29    7900 West Foster Avenue, Chicago, IL 60656, USA   \n",
       "4  2007-05-29    7900 West Foster Avenue, Chicago, IL 60656, USA   \n",
       "\n",
       "                  Species  Block           Street  Trap  \\\n",
       "0  CULEX PIPIENS/RESTUANS     41   N OAK PARK AVE  T002   \n",
       "1          CULEX RESTUANS     41   N OAK PARK AVE  T002   \n",
       "2          CULEX RESTUANS     62    N MANDELL AVE  T007   \n",
       "3  CULEX PIPIENS/RESTUANS     79     W FOSTER AVE  T015   \n",
       "4          CULEX RESTUANS     79     W FOSTER AVE  T015   \n",
       "\n",
       "              AddressNumberAndStreet   Latitude  Longitude  AddressAccuracy  \\\n",
       "0  4100  N OAK PARK AVE, Chicago, IL  41.954690 -87.800991                9   \n",
       "1  4100  N OAK PARK AVE, Chicago, IL  41.954690 -87.800991                9   \n",
       "2   6200  N MANDELL AVE, Chicago, IL  41.994991 -87.769279                9   \n",
       "3    7900  W FOSTER AVE, Chicago, IL  41.974089 -87.824812                8   \n",
       "4    7900  W FOSTER AVE, Chicago, IL  41.974089 -87.824812                8   \n",
       "\n",
       "   NumMosquitos  WnvPresent  \n",
       "0             1           0  \n",
       "1             1           0  \n",
       "2             1           0  \n",
       "3             1           0  \n",
       "4             4           0  "
      ]
     },
     "execution_count": 320,
     "metadata": {},
     "output_type": "execute_result"
    }
   ],
   "source": [
    "Train.head()"
   ]
  },
  {
   "cell_type": "code",
   "execution_count": 321,
   "id": "708e923e",
   "metadata": {},
   "outputs": [
    {
     "name": "stdout",
     "output_type": "stream",
     "text": [
      "<class 'pandas.core.frame.DataFrame'>\n",
      "RangeIndex: 10506 entries, 0 to 10505\n",
      "Data columns (total 12 columns):\n",
      " #   Column                  Non-Null Count  Dtype  \n",
      "---  ------                  --------------  -----  \n",
      " 0   Date                    10506 non-null  object \n",
      " 1   Address                 10506 non-null  object \n",
      " 2   Species                 10506 non-null  object \n",
      " 3   Block                   10506 non-null  int64  \n",
      " 4   Street                  10506 non-null  object \n",
      " 5   Trap                    10506 non-null  object \n",
      " 6   AddressNumberAndStreet  10506 non-null  object \n",
      " 7   Latitude                10506 non-null  float64\n",
      " 8   Longitude               10506 non-null  float64\n",
      " 9   AddressAccuracy         10506 non-null  int64  \n",
      " 10  NumMosquitos            10506 non-null  int64  \n",
      " 11  WnvPresent              10506 non-null  int64  \n",
      "dtypes: float64(2), int64(4), object(6)\n",
      "memory usage: 985.1+ KB\n"
     ]
    }
   ],
   "source": [
    "Train.info()"
   ]
  },
  {
   "cell_type": "markdown",
   "id": "14b6906c",
   "metadata": {},
   "source": [
    "<h3>Step 1. <br>Street, address, block, AddressNumberAndStreet and AddressAccuracy should be removed"
   ]
  },
  {
   "cell_type": "code",
   "execution_count": 322,
   "id": "7b88d2d2",
   "metadata": {},
   "outputs": [],
   "source": [
    "Train.drop(['Street', 'Address', 'Block', 'AddressNumberAndStreet', 'AddressAccuracy'],axis=1,inplace=True)"
   ]
  },
  {
   "cell_type": "markdown",
   "id": "13db09e7",
   "metadata": {},
   "source": [
    "<h3>Step2.<br>Convert the date to Datetime object"
   ]
  },
  {
   "cell_type": "code",
   "execution_count": 323,
   "id": "148cb126",
   "metadata": {},
   "outputs": [],
   "source": [
    "def date_fixer(df):\n",
    "    df['Date']=pd.to_datetime(df['Date'])\n",
    "    df['Year']=df.Date.dt.year\n",
    "    df['Month']=df.Date.dt.month\n",
    "    df['Day']=df.Date.dt.day"
   ]
  },
  {
   "cell_type": "code",
   "execution_count": 324,
   "id": "60768973",
   "metadata": {},
   "outputs": [],
   "source": [
    "date_fixer(Train)"
   ]
  },
  {
   "cell_type": "code",
   "execution_count": 325,
   "id": "e31a3212",
   "metadata": {},
   "outputs": [
    {
     "data": {
      "text/html": [
       "<div>\n",
       "<style scoped>\n",
       "    .dataframe tbody tr th:only-of-type {\n",
       "        vertical-align: middle;\n",
       "    }\n",
       "\n",
       "    .dataframe tbody tr th {\n",
       "        vertical-align: top;\n",
       "    }\n",
       "\n",
       "    .dataframe thead th {\n",
       "        text-align: right;\n",
       "    }\n",
       "</style>\n",
       "<table border=\"1\" class=\"dataframe\">\n",
       "  <thead>\n",
       "    <tr style=\"text-align: right;\">\n",
       "      <th></th>\n",
       "      <th>Date</th>\n",
       "      <th>Species</th>\n",
       "      <th>Trap</th>\n",
       "      <th>Latitude</th>\n",
       "      <th>Longitude</th>\n",
       "      <th>NumMosquitos</th>\n",
       "      <th>WnvPresent</th>\n",
       "      <th>Year</th>\n",
       "      <th>Month</th>\n",
       "      <th>Day</th>\n",
       "    </tr>\n",
       "  </thead>\n",
       "  <tbody>\n",
       "    <tr>\n",
       "      <th>0</th>\n",
       "      <td>2007-05-29</td>\n",
       "      <td>CULEX PIPIENS/RESTUANS</td>\n",
       "      <td>T002</td>\n",
       "      <td>41.954690</td>\n",
       "      <td>-87.800991</td>\n",
       "      <td>1</td>\n",
       "      <td>0</td>\n",
       "      <td>2007</td>\n",
       "      <td>5</td>\n",
       "      <td>29</td>\n",
       "    </tr>\n",
       "    <tr>\n",
       "      <th>1</th>\n",
       "      <td>2007-05-29</td>\n",
       "      <td>CULEX RESTUANS</td>\n",
       "      <td>T002</td>\n",
       "      <td>41.954690</td>\n",
       "      <td>-87.800991</td>\n",
       "      <td>1</td>\n",
       "      <td>0</td>\n",
       "      <td>2007</td>\n",
       "      <td>5</td>\n",
       "      <td>29</td>\n",
       "    </tr>\n",
       "    <tr>\n",
       "      <th>2</th>\n",
       "      <td>2007-05-29</td>\n",
       "      <td>CULEX RESTUANS</td>\n",
       "      <td>T007</td>\n",
       "      <td>41.994991</td>\n",
       "      <td>-87.769279</td>\n",
       "      <td>1</td>\n",
       "      <td>0</td>\n",
       "      <td>2007</td>\n",
       "      <td>5</td>\n",
       "      <td>29</td>\n",
       "    </tr>\n",
       "    <tr>\n",
       "      <th>3</th>\n",
       "      <td>2007-05-29</td>\n",
       "      <td>CULEX PIPIENS/RESTUANS</td>\n",
       "      <td>T015</td>\n",
       "      <td>41.974089</td>\n",
       "      <td>-87.824812</td>\n",
       "      <td>1</td>\n",
       "      <td>0</td>\n",
       "      <td>2007</td>\n",
       "      <td>5</td>\n",
       "      <td>29</td>\n",
       "    </tr>\n",
       "    <tr>\n",
       "      <th>4</th>\n",
       "      <td>2007-05-29</td>\n",
       "      <td>CULEX RESTUANS</td>\n",
       "      <td>T015</td>\n",
       "      <td>41.974089</td>\n",
       "      <td>-87.824812</td>\n",
       "      <td>4</td>\n",
       "      <td>0</td>\n",
       "      <td>2007</td>\n",
       "      <td>5</td>\n",
       "      <td>29</td>\n",
       "    </tr>\n",
       "  </tbody>\n",
       "</table>\n",
       "</div>"
      ],
      "text/plain": [
       "        Date                 Species  Trap   Latitude  Longitude  \\\n",
       "0 2007-05-29  CULEX PIPIENS/RESTUANS  T002  41.954690 -87.800991   \n",
       "1 2007-05-29          CULEX RESTUANS  T002  41.954690 -87.800991   \n",
       "2 2007-05-29          CULEX RESTUANS  T007  41.994991 -87.769279   \n",
       "3 2007-05-29  CULEX PIPIENS/RESTUANS  T015  41.974089 -87.824812   \n",
       "4 2007-05-29          CULEX RESTUANS  T015  41.974089 -87.824812   \n",
       "\n",
       "   NumMosquitos  WnvPresent  Year  Month  Day  \n",
       "0             1           0  2007      5   29  \n",
       "1             1           0  2007      5   29  \n",
       "2             1           0  2007      5   29  \n",
       "3             1           0  2007      5   29  \n",
       "4             4           0  2007      5   29  "
      ]
     },
     "execution_count": 325,
     "metadata": {},
     "output_type": "execute_result"
    }
   ],
   "source": [
    "Train.head()"
   ]
  },
  {
   "cell_type": "markdown",
   "id": "9b4a08e3",
   "metadata": {},
   "source": [
    "<h3>The target is to find the correlation between different columns and WnvPresent:"
   ]
  },
  {
   "cell_type": "code",
   "execution_count": 326,
   "id": "739761e9",
   "metadata": {},
   "outputs": [
    {
     "data": {
      "text/plain": [
       "CULEX PIPIENS/RESTUANS    4752\n",
       "CULEX RESTUANS            2740\n",
       "CULEX PIPIENS             2699\n",
       "CULEX TERRITANS            222\n",
       "CULEX SALINARIUS            86\n",
       "CULEX TARSALIS               6\n",
       "CULEX ERRATICUS              1\n",
       "Name: Species, dtype: int64"
      ]
     },
     "execution_count": 326,
     "metadata": {},
     "output_type": "execute_result"
    }
   ],
   "source": [
    "Train.Species.value_counts()"
   ]
  },
  {
   "cell_type": "markdown",
   "id": "789c4030",
   "metadata": {},
   "source": [
    "<h3>Step 3.<br>PIPIENS/RESTUANS, which the most popular category in dataset, contains RESTUANS \"OR\" PIPIENS, so it is better to replace PIPIENS and RESTUANS columns with PIPIENS/RESTUANS"
   ]
  },
  {
   "cell_type": "code",
   "execution_count": 327,
   "id": "2949d988",
   "metadata": {},
   "outputs": [],
   "source": [
    "Train.Species.replace(['CULEX RESTUANS','CULEX PIPIENS'],'CULEX PIPIENS/RESTUANS', inplace=True)"
   ]
  },
  {
   "cell_type": "code",
   "execution_count": 328,
   "id": "a41ce5b4",
   "metadata": {},
   "outputs": [
    {
     "data": {
      "text/plain": [
       "[Text(0, 0, 'CULEX ERRATICUS'),\n",
       " Text(1, 0, 'CULEX PIPIENS/RESTUANS'),\n",
       " Text(2, 0, 'CULEX SALINARIUS'),\n",
       " Text(3, 0, 'CULEX TARSALIS'),\n",
       " Text(4, 0, 'CULEX TERRITANS')]"
      ]
     },
     "execution_count": 328,
     "metadata": {},
     "output_type": "execute_result"
    },
    {
     "data": {
      "image/png": "[encoded data removed]",
      "text/plain": [
       "<Figure size 576x576 with 1 Axes>"
      ]
     },
     "metadata": {
      "needs_background": "light"
     },
     "output_type": "display_data"
    }
   ],
   "source": [
    "temp=Train.groupby('Species').count()\n",
    "temp.head(3)\n",
    "fig,ax=plt.subplots(figsize=(8,8))\n",
    "sns.barplot(x=temp.index,y=temp.WnvPresent)\n",
    "ax.set_xticklabels(temp.index,rotation=90)"
   ]
  },
  {
   "cell_type": "markdown",
   "id": "9deee7f3",
   "metadata": {},
   "source": [
    "<h4>PIPIENS/RESTUANS are the most probable types of species for being infected<br> Step. 4:<br>I will add a column wich contains \"1\" for these species, and \"0\" for the rest"
   ]
  },
  {
   "cell_type": "code",
   "execution_count": 329,
   "id": "328b348d",
   "metadata": {},
   "outputs": [],
   "source": [
    "for n,v in enumerate(Train.Species):\n",
    "    if v=='CULEX PIPIENS/RESTUANS':\n",
    "        Train.loc[n,'MP_Species']=1\n",
    "    else:\n",
    "        Train.loc[n,'MP_Species']=0\n",
    "            "
   ]
  },
  {
   "cell_type": "code",
   "execution_count": 330,
   "id": "9493343b",
   "metadata": {},
   "outputs": [
    {
     "data": {
      "text/plain": [
       "1.0    10191\n",
       "0.0      315\n",
       "Name: MP_Species, dtype: int64"
      ]
     },
     "execution_count": 330,
     "metadata": {},
     "output_type": "execute_result"
    }
   ],
   "source": [
    "Train.MP_Species.value_counts()"
   ]
  },
  {
   "cell_type": "markdown",
   "id": "c5cae629",
   "metadata": {},
   "source": [
    "<h3>For investigating the traps, I will add a column including location data of each trap<br>Step. 5:"
   ]
  },
  {
   "cell_type": "code",
   "execution_count": 331,
   "id": "22e0a44f",
   "metadata": {},
   "outputs": [],
   "source": [
    "Train['Location']=list(zip(Train['Longitude'],Train['Latitude']))"
   ]
  },
  {
   "cell_type": "code",
   "execution_count": 332,
   "id": "19a910ae",
   "metadata": {},
   "outputs": [
    {
     "data": {
      "text/plain": [
       "<seaborn.axisgrid.FacetGrid at 0x1309f929670>"
      ]
     },
     "execution_count": 332,
     "metadata": {},
     "output_type": "execute_result"
    },
    {
     "data": {
      "image/png": "[encoded data removed]",
      "text/plain": [
       "<Figure size 427.625x360 with 1 Axes>"
      ]
     },
     "metadata": {
      "needs_background": "light"
     },
     "output_type": "display_data"
    }
   ],
   "source": [
    "sns.lmplot(x='Latitude',y='Longitude',data=Train,hue='WnvPresent',fit_reg=False)"
   ]
  },
  {
   "cell_type": "code",
   "execution_count": 333,
   "id": "7ad88c78",
   "metadata": {},
   "outputs": [],
   "source": [
    "temp=Train.groupby('Trap').count().reset_index().head(20).sort_values(by='WnvPresent',ascending=False)\n",
    "temp.head()\n",
    "MP_Trap=list(temp.Trap)"
   ]
  },
  {
   "cell_type": "code",
   "execution_count": 334,
   "id": "1df15e05",
   "metadata": {},
   "outputs": [
    {
     "data": {
      "text/plain": [
       "<module 'matplotlib.pyplot' from 'C:\\\\Users\\\\Shaqayeq\\\\anaconda3\\\\lib\\\\site-packages\\\\matplotlib\\\\pyplot.py'>"
      ]
     },
     "execution_count": 334,
     "metadata": {},
     "output_type": "execute_result"
    },
    {
     "data": {
      "image/png": "[encoded data removed]",
      "text/plain": [
       "<Figure size 1080x720 with 1 Axes>"
      ]
     },
     "metadata": {
      "needs_background": "light"
     },
     "output_type": "display_data"
    }
   ],
   "source": [
    "plt.figure(figsize=(15,10))\n",
    "sns.scatterplot(x='Trap',y='WnvPresent',size='NumMosquitos',data=temp)\n",
    "plt"
   ]
  },
  {
   "cell_type": "markdown",
   "id": "ada70818",
   "metadata": {},
   "source": [
    "## The first 20 Traps, show the most number of traped mosquitos and most number of the reported infection, obviously there is a linear correlation between number of traped mosquitos and amount of infection! "
   ]
  },
  {
   "cell_type": "markdown",
   "id": "d409b483",
   "metadata": {},
   "source": [
    "### Step. 6:<br>Let's check the location of those traps! Beacuse the huge amount of mosquitos in those traps could be because of environmental situation around those traps, such as polution or i.e. number of trash cans in those regions"
   ]
  },
  {
   "cell_type": "code",
   "execution_count": 335,
   "id": "ac51faf6",
   "metadata": {},
   "outputs": [],
   "source": [
    "# Adding a column to Train dataset, MP_Trap, equal to 1 for those first 20 traps, and 0 for the rest\n",
    "Train['MP_Trap']=Train.Trap.isin(MP_Trap).astype('int')"
   ]
  },
  {
   "cell_type": "code",
   "execution_count": 336,
   "id": "bab3b21a",
   "metadata": {},
   "outputs": [
    {
     "data": {
      "text/plain": [
       "<matplotlib.patches.Circle at 0x130a06c57c0>"
      ]
     },
     "execution_count": 336,
     "metadata": {},
     "output_type": "execute_result"
    },
    {
     "data": {
      "image/png": "[encoded data removed]",
      "text/plain": [
       "<Figure size 432x288 with 1 Axes>"
      ]
     },
     "metadata": {
      "needs_background": "light"
     },
     "output_type": "display_data"
    }
   ],
   "source": [
    "#Check the location of Traps:\n",
    "ax=sns.scatterplot(y=\"Latitude\",x=\"Longitude\",hue='MP_Trap',data=Train)\n",
    "circle=plt.Circle(xy=(-87.8,41.95),radius=0.08,color='red',fill=False)\n",
    "ax.add_patch(circle)"
   ]
  },
  {
   "cell_type": "markdown",
   "id": "891a0bdc",
   "metadata": {},
   "source": [
    "The Traps, with most insident of mosquitos and also infection, are located in the region showed by red circle. That could be because of the weather condition in that region, or environmental polution. By the way, I have added a column to Train dataset to give those traps a weight"
   ]
  },
  {
   "cell_type": "markdown",
   "id": "f606efe1",
   "metadata": {},
   "source": [
    "### Step 7.<br>Checking the presense of virus in various months of the year"
   ]
  },
  {
   "cell_type": "code",
   "execution_count": 337,
   "id": "883bc952",
   "metadata": {},
   "outputs": [
    {
     "data": {
      "text/html": [
       "<div>\n",
       "<style scoped>\n",
       "    .dataframe tbody tr th:only-of-type {\n",
       "        vertical-align: middle;\n",
       "    }\n",
       "\n",
       "    .dataframe tbody tr th {\n",
       "        vertical-align: top;\n",
       "    }\n",
       "\n",
       "    .dataframe thead th {\n",
       "        text-align: right;\n",
       "    }\n",
       "</style>\n",
       "<table border=\"1\" class=\"dataframe\">\n",
       "  <thead>\n",
       "    <tr style=\"text-align: right;\">\n",
       "      <th></th>\n",
       "      <th>Month</th>\n",
       "      <th>Day</th>\n",
       "      <th>Date</th>\n",
       "      <th>Species</th>\n",
       "      <th>Trap</th>\n",
       "      <th>Latitude</th>\n",
       "      <th>Longitude</th>\n",
       "      <th>NumMosquitos</th>\n",
       "      <th>WnvPresent</th>\n",
       "      <th>Year</th>\n",
       "      <th>MP_Species</th>\n",
       "      <th>Location</th>\n",
       "      <th>MP_Trap</th>\n",
       "    </tr>\n",
       "  </thead>\n",
       "  <tbody>\n",
       "    <tr>\n",
       "      <th>0</th>\n",
       "      <td>8</td>\n",
       "      <td>1</td>\n",
       "      <td>737</td>\n",
       "      <td>737</td>\n",
       "      <td>737</td>\n",
       "      <td>737</td>\n",
       "      <td>737</td>\n",
       "      <td>737</td>\n",
       "      <td>737</td>\n",
       "      <td>737</td>\n",
       "      <td>737</td>\n",
       "      <td>737</td>\n",
       "      <td>737</td>\n",
       "    </tr>\n",
       "    <tr>\n",
       "      <th>1</th>\n",
       "      <td>8</td>\n",
       "      <td>15</td>\n",
       "      <td>433</td>\n",
       "      <td>433</td>\n",
       "      <td>433</td>\n",
       "      <td>433</td>\n",
       "      <td>433</td>\n",
       "      <td>433</td>\n",
       "      <td>433</td>\n",
       "      <td>433</td>\n",
       "      <td>433</td>\n",
       "      <td>433</td>\n",
       "      <td>433</td>\n",
       "    </tr>\n",
       "    <tr>\n",
       "      <th>2</th>\n",
       "      <td>7</td>\n",
       "      <td>25</td>\n",
       "      <td>424</td>\n",
       "      <td>424</td>\n",
       "      <td>424</td>\n",
       "      <td>424</td>\n",
       "      <td>424</td>\n",
       "      <td>424</td>\n",
       "      <td>424</td>\n",
       "      <td>424</td>\n",
       "      <td>424</td>\n",
       "      <td>424</td>\n",
       "      <td>424</td>\n",
       "    </tr>\n",
       "    <tr>\n",
       "      <th>3</th>\n",
       "      <td>9</td>\n",
       "      <td>12</td>\n",
       "      <td>412</td>\n",
       "      <td>412</td>\n",
       "      <td>412</td>\n",
       "      <td>412</td>\n",
       "      <td>412</td>\n",
       "      <td>412</td>\n",
       "      <td>412</td>\n",
       "      <td>412</td>\n",
       "      <td>412</td>\n",
       "      <td>412</td>\n",
       "      <td>412</td>\n",
       "    </tr>\n",
       "    <tr>\n",
       "      <th>4</th>\n",
       "      <td>8</td>\n",
       "      <td>7</td>\n",
       "      <td>315</td>\n",
       "      <td>315</td>\n",
       "      <td>315</td>\n",
       "      <td>315</td>\n",
       "      <td>315</td>\n",
       "      <td>315</td>\n",
       "      <td>315</td>\n",
       "      <td>315</td>\n",
       "      <td>315</td>\n",
       "      <td>315</td>\n",
       "      <td>315</td>\n",
       "    </tr>\n",
       "  </tbody>\n",
       "</table>\n",
       "</div>"
      ],
      "text/plain": [
       "   Month  Day  Date  Species  Trap  Latitude  Longitude  NumMosquitos  \\\n",
       "0      8    1   737      737   737       737        737           737   \n",
       "1      8   15   433      433   433       433        433           433   \n",
       "2      7   25   424      424   424       424        424           424   \n",
       "3      9   12   412      412   412       412        412           412   \n",
       "4      8    7   315      315   315       315        315           315   \n",
       "\n",
       "   WnvPresent  Year  MP_Species  Location  MP_Trap  \n",
       "0         737   737         737       737      737  \n",
       "1         433   433         433       433      433  \n",
       "2         424   424         424       424      424  \n",
       "3         412   412         412       412      412  \n",
       "4         315   315         315       315      315  "
      ]
     },
     "execution_count": 337,
     "metadata": {},
     "output_type": "execute_result"
    }
   ],
   "source": [
    "prob_date=Train.groupby(['Month','Day']).count().sort_values(by='WnvPresent',ascending=False).reset_index()\n",
    "prob_date.head()"
   ]
  },
  {
   "cell_type": "code",
   "execution_count": 338,
   "id": "1b08a50e",
   "metadata": {},
   "outputs": [
    {
     "data": {
      "text/plain": [
       "<AxesSubplot:xlabel='Month', ylabel='WnvPresent'>"
      ]
     },
     "execution_count": 338,
     "metadata": {},
     "output_type": "execute_result"
    },
    {
     "data": {
      "image/png": "[encoded data removed]",
      "text/plain": [
       "<Figure size 1080x504 with 1 Axes>"
      ]
     },
     "metadata": {
      "needs_background": "light"
     },
     "output_type": "display_data"
    }
   ],
   "source": [
    "plt.figure(figsize=(15,7))\n",
    "sns.barplot(x='Month',y='WnvPresent',data=prob_date)"
   ]
  },
  {
   "cell_type": "code",
   "execution_count": 339,
   "id": "1334ab61",
   "metadata": {},
   "outputs": [
    {
     "data": {
      "text/plain": [
       "0        0\n",
       "1        0\n",
       "2        0\n",
       "3        0\n",
       "4        0\n",
       "        ..\n",
       "10501    1\n",
       "10502    1\n",
       "10503    1\n",
       "10504    1\n",
       "10505    1\n",
       "Name: MP_month, Length: 10506, dtype: int32"
      ]
     },
     "execution_count": 339,
     "metadata": {},
     "output_type": "execute_result"
    }
   ],
   "source": [
    "Train['MP_month']=Train['Month'].isin([6,7,8,9,10]).astype('int')\n",
    "Train['MP_month']"
   ]
  },
  {
   "cell_type": "code",
   "execution_count": 340,
   "id": "445f5d4b",
   "metadata": {},
   "outputs": [
    {
     "name": "stdout",
     "output_type": "stream",
     "text": [
      "<class 'pandas.core.frame.DataFrame'>\n",
      "RangeIndex: 10506 entries, 0 to 10505\n",
      "Data columns (total 14 columns):\n",
      " #   Column        Non-Null Count  Dtype         \n",
      "---  ------        --------------  -----         \n",
      " 0   Date          10506 non-null  datetime64[ns]\n",
      " 1   Species       10506 non-null  object        \n",
      " 2   Trap          10506 non-null  object        \n",
      " 3   Latitude      10506 non-null  float64       \n",
      " 4   Longitude     10506 non-null  float64       \n",
      " 5   NumMosquitos  10506 non-null  int64         \n",
      " 6   WnvPresent    10506 non-null  int64         \n",
      " 7   Year          10506 non-null  int64         \n",
      " 8   Month         10506 non-null  int64         \n",
      " 9   Day           10506 non-null  int64         \n",
      " 10  MP_Species    10506 non-null  float64       \n",
      " 11  Location      10506 non-null  object        \n",
      " 12  MP_Trap       10506 non-null  int32         \n",
      " 13  MP_month      10506 non-null  int32         \n",
      "dtypes: datetime64[ns](1), float64(3), int32(2), int64(5), object(3)\n",
      "memory usage: 1.0+ MB\n"
     ]
    }
   ],
   "source": [
    "Train.info()"
   ]
  },
  {
   "cell_type": "markdown",
   "id": "2411c858",
   "metadata": {},
   "source": [
    "# Check the Test dataset and and compare it with Train:"
   ]
  },
  {
   "cell_type": "code",
   "execution_count": 341,
   "id": "527f4995",
   "metadata": {},
   "outputs": [
    {
     "data": {
      "text/html": [
       "<div>\n",
       "<style scoped>\n",
       "    .dataframe tbody tr th:only-of-type {\n",
       "        vertical-align: middle;\n",
       "    }\n",
       "\n",
       "    .dataframe tbody tr th {\n",
       "        vertical-align: top;\n",
       "    }\n",
       "\n",
       "    .dataframe thead th {\n",
       "        text-align: right;\n",
       "    }\n",
       "</style>\n",
       "<table border=\"1\" class=\"dataframe\">\n",
       "  <thead>\n",
       "    <tr style=\"text-align: right;\">\n",
       "      <th></th>\n",
       "      <th>Id</th>\n",
       "      <th>Date</th>\n",
       "      <th>Address</th>\n",
       "      <th>Species</th>\n",
       "      <th>Block</th>\n",
       "      <th>Street</th>\n",
       "      <th>Trap</th>\n",
       "      <th>AddressNumberAndStreet</th>\n",
       "      <th>Latitude</th>\n",
       "      <th>Longitude</th>\n",
       "      <th>AddressAccuracy</th>\n",
       "    </tr>\n",
       "  </thead>\n",
       "  <tbody>\n",
       "    <tr>\n",
       "      <th>0</th>\n",
       "      <td>1</td>\n",
       "      <td>2008-06-11</td>\n",
       "      <td>4100 North Oak Park Avenue, Chicago, IL 60634,...</td>\n",
       "      <td>CULEX PIPIENS/RESTUANS</td>\n",
       "      <td>41</td>\n",
       "      <td>N OAK PARK AVE</td>\n",
       "      <td>T002</td>\n",
       "      <td>4100  N OAK PARK AVE, Chicago, IL</td>\n",
       "      <td>41.95469</td>\n",
       "      <td>-87.800991</td>\n",
       "      <td>9</td>\n",
       "    </tr>\n",
       "    <tr>\n",
       "      <th>1</th>\n",
       "      <td>2</td>\n",
       "      <td>2008-06-11</td>\n",
       "      <td>4100 North Oak Park Avenue, Chicago, IL 60634,...</td>\n",
       "      <td>CULEX RESTUANS</td>\n",
       "      <td>41</td>\n",
       "      <td>N OAK PARK AVE</td>\n",
       "      <td>T002</td>\n",
       "      <td>4100  N OAK PARK AVE, Chicago, IL</td>\n",
       "      <td>41.95469</td>\n",
       "      <td>-87.800991</td>\n",
       "      <td>9</td>\n",
       "    </tr>\n",
       "    <tr>\n",
       "      <th>2</th>\n",
       "      <td>3</td>\n",
       "      <td>2008-06-11</td>\n",
       "      <td>4100 North Oak Park Avenue, Chicago, IL 60634,...</td>\n",
       "      <td>CULEX PIPIENS</td>\n",
       "      <td>41</td>\n",
       "      <td>N OAK PARK AVE</td>\n",
       "      <td>T002</td>\n",
       "      <td>4100  N OAK PARK AVE, Chicago, IL</td>\n",
       "      <td>41.95469</td>\n",
       "      <td>-87.800991</td>\n",
       "      <td>9</td>\n",
       "    </tr>\n",
       "    <tr>\n",
       "      <th>3</th>\n",
       "      <td>4</td>\n",
       "      <td>2008-06-11</td>\n",
       "      <td>4100 North Oak Park Avenue, Chicago, IL 60634,...</td>\n",
       "      <td>CULEX SALINARIUS</td>\n",
       "      <td>41</td>\n",
       "      <td>N OAK PARK AVE</td>\n",
       "      <td>T002</td>\n",
       "      <td>4100  N OAK PARK AVE, Chicago, IL</td>\n",
       "      <td>41.95469</td>\n",
       "      <td>-87.800991</td>\n",
       "      <td>9</td>\n",
       "    </tr>\n",
       "    <tr>\n",
       "      <th>4</th>\n",
       "      <td>5</td>\n",
       "      <td>2008-06-11</td>\n",
       "      <td>4100 North Oak Park Avenue, Chicago, IL 60634,...</td>\n",
       "      <td>CULEX TERRITANS</td>\n",
       "      <td>41</td>\n",
       "      <td>N OAK PARK AVE</td>\n",
       "      <td>T002</td>\n",
       "      <td>4100  N OAK PARK AVE, Chicago, IL</td>\n",
       "      <td>41.95469</td>\n",
       "      <td>-87.800991</td>\n",
       "      <td>9</td>\n",
       "    </tr>\n",
       "  </tbody>\n",
       "</table>\n",
       "</div>"
      ],
      "text/plain": [
       "   Id        Date                                            Address  \\\n",
       "0   1  2008-06-11  4100 North Oak Park Avenue, Chicago, IL 60634,...   \n",
       "1   2  2008-06-11  4100 North Oak Park Avenue, Chicago, IL 60634,...   \n",
       "2   3  2008-06-11  4100 North Oak Park Avenue, Chicago, IL 60634,...   \n",
       "3   4  2008-06-11  4100 North Oak Park Avenue, Chicago, IL 60634,...   \n",
       "4   5  2008-06-11  4100 North Oak Park Avenue, Chicago, IL 60634,...   \n",
       "\n",
       "                  Species  Block           Street  Trap  \\\n",
       "0  CULEX PIPIENS/RESTUANS     41   N OAK PARK AVE  T002   \n",
       "1          CULEX RESTUANS     41   N OAK PARK AVE  T002   \n",
       "2           CULEX PIPIENS     41   N OAK PARK AVE  T002   \n",
       "3        CULEX SALINARIUS     41   N OAK PARK AVE  T002   \n",
       "4         CULEX TERRITANS     41   N OAK PARK AVE  T002   \n",
       "\n",
       "              AddressNumberAndStreet  Latitude  Longitude  AddressAccuracy  \n",
       "0  4100  N OAK PARK AVE, Chicago, IL  41.95469 -87.800991                9  \n",
       "1  4100  N OAK PARK AVE, Chicago, IL  41.95469 -87.800991                9  \n",
       "2  4100  N OAK PARK AVE, Chicago, IL  41.95469 -87.800991                9  \n",
       "3  4100  N OAK PARK AVE, Chicago, IL  41.95469 -87.800991                9  \n",
       "4  4100  N OAK PARK AVE, Chicago, IL  41.95469 -87.800991                9  "
      ]
     },
     "execution_count": 341,
     "metadata": {},
     "output_type": "execute_result"
    }
   ],
   "source": [
    "Test.head()"
   ]
  },
  {
   "cell_type": "code",
   "execution_count": 342,
   "id": "908494fe",
   "metadata": {},
   "outputs": [
    {
     "data": {
      "text/plain": [
       "{'Address',\n",
       " 'AddressAccuracy',\n",
       " 'AddressNumberAndStreet',\n",
       " 'Block',\n",
       " 'Id',\n",
       " 'Street'}"
      ]
     },
     "execution_count": 342,
     "metadata": {},
     "output_type": "execute_result"
    }
   ],
   "source": [
    "# Control the different columns:\n",
    "set(Test.columns)-set(Train.columns)"
   ]
  },
  {
   "cell_type": "markdown",
   "id": "af2b603c",
   "metadata": {},
   "source": [
    "<h3> Step 1. <br>Street, address, block, AddressNumberAndStreet, Id and AddressAccuracy should be removed"
   ]
  },
  {
   "cell_type": "code",
   "execution_count": 343,
   "id": "69768b44",
   "metadata": {},
   "outputs": [],
   "source": [
    "Test.drop(['Address','AddressAccuracy','AddressNumberAndStreet','Block','Id','Street'],axis=1,inplace=True)"
   ]
  },
  {
   "cell_type": "code",
   "execution_count": 344,
   "id": "ec196617",
   "metadata": {},
   "outputs": [
    {
     "name": "stdout",
     "output_type": "stream",
     "text": [
      "<class 'pandas.core.frame.DataFrame'>\n",
      "RangeIndex: 116293 entries, 0 to 116292\n",
      "Data columns (total 5 columns):\n",
      " #   Column     Non-Null Count   Dtype  \n",
      "---  ------     --------------   -----  \n",
      " 0   Date       116293 non-null  object \n",
      " 1   Species    116293 non-null  object \n",
      " 2   Trap       116293 non-null  object \n",
      " 3   Latitude   116293 non-null  float64\n",
      " 4   Longitude  116293 non-null  float64\n",
      "dtypes: float64(2), object(3)\n",
      "memory usage: 4.4+ MB\n"
     ]
    }
   ],
   "source": [
    "Test.info()"
   ]
  },
  {
   "cell_type": "markdown",
   "id": "6caee71b",
   "metadata": {},
   "source": [
    "<h3>Step2.<br>Convert the date to Datetime object"
   ]
  },
  {
   "cell_type": "code",
   "execution_count": 345,
   "id": "d956e163",
   "metadata": {},
   "outputs": [],
   "source": [
    "date_fixer(Test)"
   ]
  },
  {
   "cell_type": "markdown",
   "id": "8fd80ea1",
   "metadata": {},
   "source": [
    "<h3>Step 3: fixing the Species"
   ]
  },
  {
   "cell_type": "code",
   "execution_count": 346,
   "id": "60aff003",
   "metadata": {},
   "outputs": [
    {
     "data": {
      "text/plain": [
       "array(['CULEX PIPIENS/RESTUANS', 'CULEX RESTUANS', 'CULEX PIPIENS',\n",
       "       'CULEX SALINARIUS', 'CULEX TERRITANS', 'CULEX TARSALIS',\n",
       "       'UNSPECIFIED CULEX', 'CULEX ERRATICUS'], dtype=object)"
      ]
     },
     "execution_count": 346,
     "metadata": {},
     "output_type": "execute_result"
    }
   ],
   "source": [
    "Test.Species.unique()"
   ]
  },
  {
   "cell_type": "code",
   "execution_count": 347,
   "id": "c9f94adc",
   "metadata": {},
   "outputs": [],
   "source": [
    "Test.Species.replace(['CULEX RESTUANS','CULEX PIPIENS'],'CULEX PIPIENS/RESTUANS', inplace=True)"
   ]
  },
  {
   "cell_type": "code",
   "execution_count": 348,
   "id": "62355f6a",
   "metadata": {},
   "outputs": [
    {
     "data": {
      "text/plain": [
       "{'UNSPECIFIED CULEX'}"
      ]
     },
     "execution_count": 348,
     "metadata": {},
     "output_type": "execute_result"
    }
   ],
   "source": [
    "set(Test.Species.unique())-set(Train.Species.unique())"
   ]
  },
  {
   "cell_type": "markdown",
   "id": "7c668d93",
   "metadata": {},
   "source": [
    "There is a virus type named UNSPECIFIED in Test dataset, which can not be predicted fro Train dataset, but since the outbreak case is very important, and treatment cost is much higher than spraying cost, I will replace them with the type which is most probable to be infectious "
   ]
  },
  {
   "cell_type": "code",
   "execution_count": 349,
   "id": "eb599540",
   "metadata": {},
   "outputs": [],
   "source": [
    "Test.Species.replace(['UNSPECIFIED CULEX'],'CULEX PIPIENS/RESTUANS', inplace=True)"
   ]
  },
  {
   "cell_type": "code",
   "execution_count": 350,
   "id": "30173ec7",
   "metadata": {},
   "outputs": [
    {
     "data": {
      "text/plain": [
       "['T128A',\n",
       " 'T200B',\n",
       " 'T218B',\n",
       " 'T002A',\n",
       " 'T234',\n",
       " 'T090A',\n",
       " 'T002B',\n",
       " 'T200A',\n",
       " 'T090B',\n",
       " 'T218A',\n",
       " 'T090C',\n",
       " 'T218C',\n",
       " 'T065A']"
      ]
     },
     "execution_count": 350,
     "metadata": {},
     "output_type": "execute_result"
    }
   ],
   "source": [
    "list(set(Test.Trap.unique())-set(Train.Trap.unique()))\n"
   ]
  },
  {
   "cell_type": "code",
   "execution_count": 351,
   "id": "24e8da61",
   "metadata": {},
   "outputs": [],
   "source": [
    "Test = Test[Test.Trap != 'T234']"
   ]
  },
  {
   "cell_type": "code",
   "execution_count": 352,
   "id": "9850f054",
   "metadata": {},
   "outputs": [],
   "source": [
    "Test.Trap.replace({'T218B':'T218','T090C':'T090','T128A':'T128','T002B':'T002','T065A':'T065','T090B':'T090','T218A':'T218','T200B':'T200','T002A':'T002','T218C':'T218','T090A':'T090','T200A':'T200'},inplace=True)"
   ]
  },
  {
   "cell_type": "markdown",
   "id": "6db5df5f",
   "metadata": {},
   "source": [
    "<h2>Alert"
   ]
  },
  {
   "cell_type": "markdown",
   "id": "09f28325",
   "metadata": {},
   "source": [
    "#There is one trap in test set that does not exist in train set,let's add this trap to train datset:\n",
    "Train.head()"
   ]
  },
  {
   "cell_type": "markdown",
   "id": "3aeb9d93",
   "metadata": {},
   "source": [
    "## Spray dataset"
   ]
  },
  {
   "cell_type": "code",
   "execution_count": 353,
   "id": "bb894b8c",
   "metadata": {},
   "outputs": [
    {
     "name": "stdout",
     "output_type": "stream",
     "text": [
      "<class 'pandas.core.frame.DataFrame'>\n",
      "RangeIndex: 14835 entries, 0 to 14834\n",
      "Data columns (total 4 columns):\n",
      " #   Column     Non-Null Count  Dtype  \n",
      "---  ------     --------------  -----  \n",
      " 0   Date       14835 non-null  object \n",
      " 1   Time       14251 non-null  object \n",
      " 2   Latitude   14835 non-null  float64\n",
      " 3   Longitude  14835 non-null  float64\n",
      "dtypes: float64(2), object(2)\n",
      "memory usage: 463.7+ KB\n"
     ]
    }
   ],
   "source": [
    "Spray.info()"
   ]
  },
  {
   "cell_type": "code",
   "execution_count": 354,
   "id": "e6774397",
   "metadata": {},
   "outputs": [
    {
     "data": {
      "text/plain": [
       "Date           0\n",
       "Time         584\n",
       "Latitude       0\n",
       "Longitude      0\n",
       "dtype: int64"
      ]
     },
     "execution_count": 354,
     "metadata": {},
     "output_type": "execute_result"
    }
   ],
   "source": [
    "Spray.isna().sum()"
   ]
  },
  {
   "cell_type": "code",
   "execution_count": 355,
   "id": "3162b8a1",
   "metadata": {},
   "outputs": [
    {
     "data": {
      "text/html": [
       "<div>\n",
       "<style scoped>\n",
       "    .dataframe tbody tr th:only-of-type {\n",
       "        vertical-align: middle;\n",
       "    }\n",
       "\n",
       "    .dataframe tbody tr th {\n",
       "        vertical-align: top;\n",
       "    }\n",
       "\n",
       "    .dataframe thead th {\n",
       "        text-align: right;\n",
       "    }\n",
       "</style>\n",
       "<table border=\"1\" class=\"dataframe\">\n",
       "  <thead>\n",
       "    <tr style=\"text-align: right;\">\n",
       "      <th></th>\n",
       "      <th>Date</th>\n",
       "      <th>Latitude</th>\n",
       "      <th>Longitude</th>\n",
       "    </tr>\n",
       "  </thead>\n",
       "  <tbody>\n",
       "    <tr>\n",
       "      <th>0</th>\n",
       "      <td>2011-08-29</td>\n",
       "      <td>42.391623</td>\n",
       "      <td>-88.089163</td>\n",
       "    </tr>\n",
       "    <tr>\n",
       "      <th>1</th>\n",
       "      <td>2011-08-29</td>\n",
       "      <td>42.391348</td>\n",
       "      <td>-88.089163</td>\n",
       "    </tr>\n",
       "    <tr>\n",
       "      <th>2</th>\n",
       "      <td>2011-08-29</td>\n",
       "      <td>42.391022</td>\n",
       "      <td>-88.089157</td>\n",
       "    </tr>\n",
       "    <tr>\n",
       "      <th>3</th>\n",
       "      <td>2011-08-29</td>\n",
       "      <td>42.390637</td>\n",
       "      <td>-88.089158</td>\n",
       "    </tr>\n",
       "    <tr>\n",
       "      <th>4</th>\n",
       "      <td>2011-08-29</td>\n",
       "      <td>42.390410</td>\n",
       "      <td>-88.088858</td>\n",
       "    </tr>\n",
       "  </tbody>\n",
       "</table>\n",
       "</div>"
      ],
      "text/plain": [
       "         Date   Latitude  Longitude\n",
       "0  2011-08-29  42.391623 -88.089163\n",
       "1  2011-08-29  42.391348 -88.089163\n",
       "2  2011-08-29  42.391022 -88.089157\n",
       "3  2011-08-29  42.390637 -88.089158\n",
       "4  2011-08-29  42.390410 -88.088858"
      ]
     },
     "execution_count": 355,
     "metadata": {},
     "output_type": "execute_result"
    }
   ],
   "source": [
    "# Since we do not consider the time of the spray, let's get rid of that\n",
    "Spray.drop('Time',axis=1,inplace=True)\n",
    "Spray.head()"
   ]
  },
  {
   "cell_type": "code",
   "execution_count": 356,
   "id": "0826687a",
   "metadata": {},
   "outputs": [],
   "source": [
    "date_fixer(Spray)"
   ]
  },
  {
   "cell_type": "code",
   "execution_count": null,
   "id": "23b475eb",
   "metadata": {},
   "outputs": [],
   "source": []
  },
  {
   "cell_type": "markdown",
   "id": "be1fc32f",
   "metadata": {},
   "source": [
    "# Weather dataset"
   ]
  },
  {
   "cell_type": "code",
   "execution_count": 357,
   "id": "8c5257a6",
   "metadata": {},
   "outputs": [
    {
     "data": {
      "text/html": [
       "<div>\n",
       "<style scoped>\n",
       "    .dataframe tbody tr th:only-of-type {\n",
       "        vertical-align: middle;\n",
       "    }\n",
       "\n",
       "    .dataframe tbody tr th {\n",
       "        vertical-align: top;\n",
       "    }\n",
       "\n",
       "    .dataframe thead th {\n",
       "        text-align: right;\n",
       "    }\n",
       "</style>\n",
       "<table border=\"1\" class=\"dataframe\">\n",
       "  <thead>\n",
       "    <tr style=\"text-align: right;\">\n",
       "      <th></th>\n",
       "      <th>Station</th>\n",
       "      <th>Date</th>\n",
       "      <th>Tmax</th>\n",
       "      <th>Tmin</th>\n",
       "      <th>Tavg</th>\n",
       "      <th>Depart</th>\n",
       "      <th>DewPoint</th>\n",
       "      <th>WetBulb</th>\n",
       "      <th>Heat</th>\n",
       "      <th>Cool</th>\n",
       "      <th>...</th>\n",
       "      <th>CodeSum</th>\n",
       "      <th>Depth</th>\n",
       "      <th>Water1</th>\n",
       "      <th>SnowFall</th>\n",
       "      <th>PrecipTotal</th>\n",
       "      <th>StnPressure</th>\n",
       "      <th>SeaLevel</th>\n",
       "      <th>ResultSpeed</th>\n",
       "      <th>ResultDir</th>\n",
       "      <th>AvgSpeed</th>\n",
       "    </tr>\n",
       "  </thead>\n",
       "  <tbody>\n",
       "    <tr>\n",
       "      <th>0</th>\n",
       "      <td>1</td>\n",
       "      <td>2007-05-01</td>\n",
       "      <td>83</td>\n",
       "      <td>50</td>\n",
       "      <td>67</td>\n",
       "      <td>14</td>\n",
       "      <td>51</td>\n",
       "      <td>56</td>\n",
       "      <td>0</td>\n",
       "      <td>2</td>\n",
       "      <td>...</td>\n",
       "      <td></td>\n",
       "      <td>0</td>\n",
       "      <td>M</td>\n",
       "      <td>0.0</td>\n",
       "      <td>0.00</td>\n",
       "      <td>29.10</td>\n",
       "      <td>29.82</td>\n",
       "      <td>1.7</td>\n",
       "      <td>27</td>\n",
       "      <td>9.2</td>\n",
       "    </tr>\n",
       "    <tr>\n",
       "      <th>1</th>\n",
       "      <td>2</td>\n",
       "      <td>2007-05-01</td>\n",
       "      <td>84</td>\n",
       "      <td>52</td>\n",
       "      <td>68</td>\n",
       "      <td>M</td>\n",
       "      <td>51</td>\n",
       "      <td>57</td>\n",
       "      <td>0</td>\n",
       "      <td>3</td>\n",
       "      <td>...</td>\n",
       "      <td></td>\n",
       "      <td>M</td>\n",
       "      <td>M</td>\n",
       "      <td>M</td>\n",
       "      <td>0.00</td>\n",
       "      <td>29.18</td>\n",
       "      <td>29.82</td>\n",
       "      <td>2.7</td>\n",
       "      <td>25</td>\n",
       "      <td>9.6</td>\n",
       "    </tr>\n",
       "    <tr>\n",
       "      <th>2</th>\n",
       "      <td>1</td>\n",
       "      <td>2007-05-02</td>\n",
       "      <td>59</td>\n",
       "      <td>42</td>\n",
       "      <td>51</td>\n",
       "      <td>-3</td>\n",
       "      <td>42</td>\n",
       "      <td>47</td>\n",
       "      <td>14</td>\n",
       "      <td>0</td>\n",
       "      <td>...</td>\n",
       "      <td>BR</td>\n",
       "      <td>0</td>\n",
       "      <td>M</td>\n",
       "      <td>0.0</td>\n",
       "      <td>0.00</td>\n",
       "      <td>29.38</td>\n",
       "      <td>30.09</td>\n",
       "      <td>13.0</td>\n",
       "      <td>4</td>\n",
       "      <td>13.4</td>\n",
       "    </tr>\n",
       "  </tbody>\n",
       "</table>\n",
       "<p>3 rows × 22 columns</p>\n",
       "</div>"
      ],
      "text/plain": [
       "   Station        Date  Tmax  Tmin Tavg Depart  DewPoint WetBulb Heat Cool  \\\n",
       "0        1  2007-05-01    83    50   67     14        51      56    0    2   \n",
       "1        2  2007-05-01    84    52   68      M        51      57    0    3   \n",
       "2        1  2007-05-02    59    42   51     -3        42      47   14    0   \n",
       "\n",
       "   ... CodeSum Depth Water1 SnowFall PrecipTotal StnPressure SeaLevel  \\\n",
       "0  ...             0      M      0.0        0.00       29.10    29.82   \n",
       "1  ...             M      M        M        0.00       29.18    29.82   \n",
       "2  ...      BR     0      M      0.0        0.00       29.38    30.09   \n",
       "\n",
       "  ResultSpeed ResultDir  AvgSpeed  \n",
       "0         1.7        27       9.2  \n",
       "1         2.7        25       9.6  \n",
       "2        13.0         4      13.4  \n",
       "\n",
       "[3 rows x 22 columns]"
      ]
     },
     "execution_count": 357,
     "metadata": {},
     "output_type": "execute_result"
    }
   ],
   "source": [
    "Weather.head(3)"
   ]
  },
  {
   "cell_type": "code",
   "execution_count": 358,
   "id": "8a6fcbb8",
   "metadata": {},
   "outputs": [
    {
     "name": "stdout",
     "output_type": "stream",
     "text": [
      "<class 'pandas.core.frame.DataFrame'>\n",
      "RangeIndex: 2944 entries, 0 to 2943\n",
      "Data columns (total 22 columns):\n",
      " #   Column       Non-Null Count  Dtype  \n",
      "---  ------       --------------  -----  \n",
      " 0   Station      2944 non-null   int64  \n",
      " 1   Date         2944 non-null   object \n",
      " 2   Tmax         2944 non-null   int64  \n",
      " 3   Tmin         2944 non-null   int64  \n",
      " 4   Tavg         2944 non-null   object \n",
      " 5   Depart       2944 non-null   object \n",
      " 6   DewPoint     2944 non-null   int64  \n",
      " 7   WetBulb      2944 non-null   object \n",
      " 8   Heat         2944 non-null   object \n",
      " 9   Cool         2944 non-null   object \n",
      " 10  Sunrise      2944 non-null   object \n",
      " 11  Sunset       2944 non-null   object \n",
      " 12  CodeSum      2944 non-null   object \n",
      " 13  Depth        2944 non-null   object \n",
      " 14  Water1       2944 non-null   object \n",
      " 15  SnowFall     2944 non-null   object \n",
      " 16  PrecipTotal  2944 non-null   object \n",
      " 17  StnPressure  2944 non-null   object \n",
      " 18  SeaLevel     2944 non-null   object \n",
      " 19  ResultSpeed  2944 non-null   float64\n",
      " 20  ResultDir    2944 non-null   int64  \n",
      " 21  AvgSpeed     2944 non-null   object \n",
      "dtypes: float64(1), int64(5), object(16)\n",
      "memory usage: 506.1+ KB\n"
     ]
    }
   ],
   "source": [
    "Weather.info()"
   ]
  },
  {
   "cell_type": "code",
   "execution_count": 359,
   "id": "3016c00a",
   "metadata": {},
   "outputs": [],
   "source": [
    "date_fixer(Weather)"
   ]
  },
  {
   "cell_type": "code",
   "execution_count": 360,
   "id": "858d0ba9",
   "metadata": {},
   "outputs": [
    {
     "data": {
      "text/plain": [
       "Station        0\n",
       "Date           0\n",
       "Tmax           0\n",
       "Tmin           0\n",
       "Tavg           0\n",
       "Depart         0\n",
       "DewPoint       0\n",
       "WetBulb        0\n",
       "Heat           0\n",
       "Cool           0\n",
       "Sunrise        0\n",
       "Sunset         0\n",
       "CodeSum        0\n",
       "Depth          0\n",
       "Water1         0\n",
       "SnowFall       0\n",
       "PrecipTotal    0\n",
       "StnPressure    0\n",
       "SeaLevel       0\n",
       "ResultSpeed    0\n",
       "ResultDir      0\n",
       "AvgSpeed       0\n",
       "Year           0\n",
       "Month          0\n",
       "Day            0\n",
       "dtype: int64"
      ]
     },
     "execution_count": 360,
     "metadata": {},
     "output_type": "execute_result"
    }
   ],
   "source": [
    "Weather.isna().sum()"
   ]
  },
  {
   "cell_type": "code",
   "execution_count": 361,
   "id": "2bddecb8",
   "metadata": {},
   "outputs": [],
   "source": [
    "# Checking the missing values:\n",
    "def miss_checker (df):\n",
    "    missings={}\n",
    "    for col in df.columns:\n",
    "        num=[pd.Series(df[col]=='M').sum(),pd.Series(df[col]=='-').sum(),pd.Series(df[col]=='  T').sum(),pd.Series(df[col]==' ').sum()]\n",
    "        missings[col]=num\n",
    "    \n",
    "    return missings\n",
    "        #print(\"The missing value in column \" + str(col)+ \" is: \" +\"\\n\"+ str(num))"
   ]
  },
  {
   "cell_type": "code",
   "execution_count": 362,
   "id": "5c16387e",
   "metadata": {},
   "outputs": [
    {
     "name": "stdout",
     "output_type": "stream",
     "text": [
      "(2944, 25)\n"
     ]
    },
    {
     "data": {
      "text/plain": [
       "{'Station': [0, 0, 0, 0],\n",
       " 'Date': [0, 0, 0, 0],\n",
       " 'Tmax': [0, 0, 0, 0],\n",
       " 'Tmin': [0, 0, 0, 0],\n",
       " 'Tavg': [11, 0, 0, 0],\n",
       " 'Depart': [1472, 0, 0, 0],\n",
       " 'DewPoint': [0, 0, 0, 0],\n",
       " 'WetBulb': [4, 0, 0, 0],\n",
       " 'Heat': [11, 0, 0, 0],\n",
       " 'Cool': [11, 0, 0, 0],\n",
       " 'Sunrise': [0, 1472, 0, 0],\n",
       " 'Sunset': [0, 1472, 0, 0],\n",
       " 'CodeSum': [0, 0, 0, 1609],\n",
       " 'Depth': [1472, 0, 0, 0],\n",
       " 'Water1': [2944, 0, 0, 0],\n",
       " 'SnowFall': [1472, 0, 12, 0],\n",
       " 'PrecipTotal': [2, 0, 318, 0],\n",
       " 'StnPressure': [4, 0, 0, 0],\n",
       " 'SeaLevel': [9, 0, 0, 0],\n",
       " 'ResultSpeed': [0, 0, 0, 0],\n",
       " 'ResultDir': [0, 0, 0, 0],\n",
       " 'AvgSpeed': [3, 0, 0, 0],\n",
       " 'Year': [0, 0, 0, 0],\n",
       " 'Month': [0, 0, 0, 0],\n",
       " 'Day': [0, 0, 0, 0]}"
      ]
     },
     "execution_count": 362,
     "metadata": {},
     "output_type": "execute_result"
    }
   ],
   "source": [
    "print(Weather.shape)\n",
    "miss_checker(Weather)"
   ]
  },
  {
   "cell_type": "code",
   "execution_count": 363,
   "id": "d68ba67e",
   "metadata": {},
   "outputs": [
    {
     "data": {
      "text/plain": [
       "1    1472\n",
       "2    1472\n",
       "Name: Station, dtype: int64"
      ]
     },
     "execution_count": 363,
     "metadata": {},
     "output_type": "execute_result"
    }
   ],
   "source": [
    "# The info come from two different weather station, which could be helpful to find missing values\n",
    "Weather['Station'].value_counts()"
   ]
  },
  {
   "cell_type": "code",
   "execution_count": 364,
   "id": "76e8df41",
   "metadata": {},
   "outputs": [],
   "source": [
    "# First separate data from two different stations\n",
    "Weather_s1=Weather[Weather['Station']==1]\n",
    "Weather_s2=Weather[Weather['Station']==2]"
   ]
  },
  {
   "cell_type": "code",
   "execution_count": 365,
   "id": "c0675e5f",
   "metadata": {},
   "outputs": [
    {
     "name": "stdout",
     "output_type": "stream",
     "text": [
      "<class 'pandas.core.frame.DataFrame'>\n",
      "Int64Index: 1472 entries, 0 to 1471\n",
      "Data columns (total 49 columns):\n",
      " #   Column          Non-Null Count  Dtype         \n",
      "---  ------          --------------  -----         \n",
      " 0   Station_s1      1472 non-null   int64         \n",
      " 1   Date            1472 non-null   datetime64[ns]\n",
      " 2   Tmax_s1         1472 non-null   int64         \n",
      " 3   Tmin_s1         1472 non-null   int64         \n",
      " 4   Tavg_s1         1472 non-null   object        \n",
      " 5   Depart_s1       1472 non-null   object        \n",
      " 6   DewPoint_s1     1472 non-null   int64         \n",
      " 7   WetBulb_s1      1472 non-null   object        \n",
      " 8   Heat_s1         1472 non-null   object        \n",
      " 9   Cool_s1         1472 non-null   object        \n",
      " 10  Sunrise_s1      1472 non-null   object        \n",
      " 11  Sunset_s1       1472 non-null   object        \n",
      " 12  CodeSum_s1      1472 non-null   object        \n",
      " 13  Depth_s1        1472 non-null   object        \n",
      " 14  Water1_s1       1472 non-null   object        \n",
      " 15  SnowFall_s1     1472 non-null   object        \n",
      " 16  PrecipTotal_s1  1472 non-null   object        \n",
      " 17  StnPressure_s1  1472 non-null   object        \n",
      " 18  SeaLevel_s1     1472 non-null   object        \n",
      " 19  ResultSpeed_s1  1472 non-null   float64       \n",
      " 20  ResultDir_s1    1472 non-null   int64         \n",
      " 21  AvgSpeed_s1     1472 non-null   object        \n",
      " 22  Year_s1         1472 non-null   int64         \n",
      " 23  Month_s1        1472 non-null   int64         \n",
      " 24  Day_s1          1472 non-null   int64         \n",
      " 25  Station_s2      1472 non-null   int64         \n",
      " 26  Tmax_s2         1472 non-null   int64         \n",
      " 27  Tmin_s2         1472 non-null   int64         \n",
      " 28  Tavg_s2         1472 non-null   object        \n",
      " 29  Depart_s2       1472 non-null   object        \n",
      " 30  DewPoint_s2     1472 non-null   int64         \n",
      " 31  WetBulb_s2      1472 non-null   object        \n",
      " 32  Heat_s2         1472 non-null   object        \n",
      " 33  Cool_s2         1472 non-null   object        \n",
      " 34  Sunrise_s2      1472 non-null   object        \n",
      " 35  Sunset_s2       1472 non-null   object        \n",
      " 36  CodeSum_s2      1472 non-null   object        \n",
      " 37  Depth_s2        1472 non-null   object        \n",
      " 38  Water1_s2       1472 non-null   object        \n",
      " 39  SnowFall_s2     1472 non-null   object        \n",
      " 40  PrecipTotal_s2  1472 non-null   object        \n",
      " 41  StnPressure_s2  1472 non-null   object        \n",
      " 42  SeaLevel_s2     1472 non-null   object        \n",
      " 43  ResultSpeed_s2  1472 non-null   float64       \n",
      " 44  ResultDir_s2    1472 non-null   int64         \n",
      " 45  AvgSpeed_s2     1472 non-null   object        \n",
      " 46  Year_s2         1472 non-null   int64         \n",
      " 47  Month_s2        1472 non-null   int64         \n",
      " 48  Day_s2          1472 non-null   int64         \n",
      "dtypes: datetime64[ns](1), float64(2), int64(16), object(30)\n",
      "memory usage: 575.0+ KB\n"
     ]
    }
   ],
   "source": [
    "# Merge the separated data\n",
    "Weather_m=Weather_s1.merge(Weather_s2, on='Date',suffixes=('_s1', '_s2'))\n",
    "Weather_m.info()"
   ]
  },
  {
   "cell_type": "code",
   "execution_count": 366,
   "id": "81963685",
   "metadata": {},
   "outputs": [
    {
     "name": "stdout",
     "output_type": "stream",
     "text": [
      "0\n",
      "11\n"
     ]
    }
   ],
   "source": [
    "print((Weather_m['Tavg_s1']=='M').sum())\n",
    "print((Weather_m['Tavg_s2']=='M').sum())"
   ]
  },
  {
   "cell_type": "code",
   "execution_count": 367,
   "id": "bf5b0b4c",
   "metadata": {},
   "outputs": [
    {
     "data": {
      "text/plain": [
       "0"
      ]
     },
     "execution_count": 367,
     "metadata": {},
     "output_type": "execute_result"
    }
   ],
   "source": [
    "# Replace the missing average temperature with mean of min and max temperature\n",
    "for n,v in enumerate(Weather_m['Tavg_s2']):\n",
    "    if v == 'M':\n",
    "        Weather_m.loc[n,'Tavg_s2']=(Weather_m.loc[n,'Tmin_s2']+Weather_m.loc[n,'Tmax_s2'])/2\n",
    "(Weather_m['Tavg_s2']=='M').sum()"
   ]
  },
  {
   "cell_type": "code",
   "execution_count": 368,
   "id": "89e032ae",
   "metadata": {},
   "outputs": [
    {
     "data": {
      "text/plain": [
       "{'Station_s1': [0, 0, 0, 0],\n",
       " 'Date': [0, 0, 0, 0],\n",
       " 'Tmax_s1': [0, 0, 0, 0],\n",
       " 'Tmin_s1': [0, 0, 0, 0],\n",
       " 'Tavg_s1': [0, 0, 0, 0],\n",
       " 'Depart_s1': [0, 0, 0, 0],\n",
       " 'DewPoint_s1': [0, 0, 0, 0],\n",
       " 'WetBulb_s1': [3, 0, 0, 0],\n",
       " 'Heat_s1': [0, 0, 0, 0],\n",
       " 'Cool_s1': [0, 0, 0, 0],\n",
       " 'Sunrise_s1': [0, 0, 0, 0],\n",
       " 'Sunset_s1': [0, 0, 0, 0],\n",
       " 'CodeSum_s1': [0, 0, 0, 805],\n",
       " 'Depth_s1': [0, 0, 0, 0],\n",
       " 'SnowFall_s1': [0, 0, 12, 0],\n",
       " 'PrecipTotal_s1': [0, 0, 163, 0],\n",
       " 'StnPressure_s1': [2, 0, 0, 0],\n",
       " 'SeaLevel_s1': [5, 0, 0, 0],\n",
       " 'ResultSpeed_s1': [0, 0, 0, 0],\n",
       " 'ResultDir_s1': [0, 0, 0, 0],\n",
       " 'AvgSpeed_s1': [0, 0, 0, 0],\n",
       " 'Year_s1': [0, 0, 0, 0],\n",
       " 'Month_s1': [0, 0, 0, 0],\n",
       " 'Day_s1': [0, 0, 0, 0],\n",
       " 'Station_s2': [0, 0, 0, 0],\n",
       " 'Tmax_s2': [0, 0, 0, 0],\n",
       " 'Tmin_s2': [0, 0, 0, 0],\n",
       " 'Tavg_s2': [0, 0, 0, 0],\n",
       " 'DewPoint_s2': [0, 0, 0, 0],\n",
       " 'WetBulb_s2': [1, 0, 0, 0],\n",
       " 'Heat_s2': [11, 0, 0, 0],\n",
       " 'Cool_s2': [11, 0, 0, 0],\n",
       " 'CodeSum_s2': [0, 0, 0, 804],\n",
       " 'PrecipTotal_s2': [2, 0, 155, 0],\n",
       " 'StnPressure_s2': [2, 0, 0, 0],\n",
       " 'SeaLevel_s2': [4, 0, 0, 0],\n",
       " 'ResultSpeed_s2': [0, 0, 0, 0],\n",
       " 'ResultDir_s2': [0, 0, 0, 0],\n",
       " 'AvgSpeed_s2': [3, 0, 0, 0],\n",
       " 'Year_s2': [0, 0, 0, 0],\n",
       " 'Month_s2': [0, 0, 0, 0],\n",
       " 'Day_s2': [0, 0, 0, 0]}"
      ]
     },
     "execution_count": 368,
     "metadata": {},
     "output_type": "execute_result"
    }
   ],
   "source": [
    "# Checking the missing values of the merged weather data frame\n",
    "miss_checker(Weather_m)\n",
    "# Some columns miss the whole values:\n",
    "miss_columns=['Water1_s1','Depart_s2','Sunrise_s2','Sunset_s2','Depth_s2','Water1_s2','SnowFall_s2']\n",
    "Weather_m.drop(miss_columns,axis=1,inplace=True)\n",
    "miss_checker(Weather_m)"
   ]
  },
  {
   "cell_type": "code",
   "execution_count": 369,
   "id": "b1fae675",
   "metadata": {},
   "outputs": [
    {
     "name": "stdout",
     "output_type": "stream",
     "text": [
      "0\n"
     ]
    }
   ],
   "source": [
    "# replacing the missing data from one station, with data of another station\n",
    "for n, v in enumerate(Weather_m['WetBulb_s1']):\n",
    "    if v == 'M':\n",
    "        Weather_m.loc[n,'WetBulb_s1']=Weather_m.loc[n,'WetBulb_s2']\n",
    "print((Weather_m['WetBulb_s1']=='M').sum()) "
   ]
  },
  {
   "cell_type": "code",
   "execution_count": 370,
   "id": "f0089013",
   "metadata": {},
   "outputs": [
    {
     "name": "stdout",
     "output_type": "stream",
     "text": [
      "0\n"
     ]
    }
   ],
   "source": [
    "for n, v in enumerate(Weather_m['WetBulb_s2']):\n",
    "    if v == 'M':\n",
    "        Weather_m.loc[n,'WetBulb_s2']=Weather_m.loc[n,'WetBulb_s1']\n",
    "print((Weather_m['WetBulb_s2']=='M').sum()) "
   ]
  },
  {
   "cell_type": "code",
   "execution_count": 371,
   "id": "e6b09ce7",
   "metadata": {},
   "outputs": [
    {
     "name": "stdout",
     "output_type": "stream",
     "text": [
      "0.0    1459\n",
      "  T      12\n",
      "0.1       1\n",
      "Name: SnowFall_s1, dtype: int64\n"
     ]
    }
   ],
   "source": [
    "# Columns SnowFall_s1 has 12 'T' values, There is no Snowfall report from other station\n",
    "print(Weather_m['SnowFall_s1'].value_counts())\n",
    "# Bacause of huge number of 0.0 value, I prefer to drop this column\n",
    "Weather_m.drop('SnowFall_s1',axis=1,inplace=True)"
   ]
  },
  {
   "cell_type": "code",
   "execution_count": 372,
   "id": "39b419c8",
   "metadata": {},
   "outputs": [
    {
     "name": "stdout",
     "output_type": "stream",
     "text": [
      "Number of 'T' values in PreceipTotal column (S1) before cleaning: 163\n",
      "Number of 'T' values in PreceipTotal column (S2) before cleaning: 155\n"
     ]
    }
   ],
   "source": [
    "#Cleaning data of PrecipTotal columns:\n",
    "print(\"Number of 'T' values in PreceipTotal column (S1) before cleaning: \" + str((Weather_m['PrecipTotal_s1']=='  T').sum()))\n",
    "print(\"Number of 'T' values in PreceipTotal column (S2) before cleaning: \" + str((Weather_m['PrecipTotal_s2']=='  T').sum()))"
   ]
  },
  {
   "cell_type": "code",
   "execution_count": 373,
   "id": "0798463e",
   "metadata": {},
   "outputs": [],
   "source": [
    "for n, v in enumerate(Weather_m['PrecipTotal_s1']):\n",
    "    if v == '  T' or v=='M':\n",
    "        Weather_m.loc[n,'PrecipTotal_s1']=Weather_m.loc[n,'PrecipTotal_s2']\n",
    "# Repeating the same procedure for the data from other station:\n",
    "for n, v in enumerate(Weather_m['PrecipTotal_s2']):\n",
    "    if v == '  T' or v==\"M\":\n",
    "        Weather_m.loc[n,'PrecipTotal_s2']=Weather_m.loc[n,'PrecipTotal_s1']\n"
   ]
  },
  {
   "cell_type": "code",
   "execution_count": 374,
   "id": "e349a715",
   "metadata": {},
   "outputs": [
    {
     "name": "stdout",
     "output_type": "stream",
     "text": [
      "Number of 'T' values in PreceipTotal column (S1) after cleaning: 64\n",
      "Number of 'T' values in PreceipTotal column (S2) after cleaning: 64\n"
     ]
    }
   ],
   "source": [
    "print(\"Number of 'T' values in PreceipTotal column (S1) after cleaning: \" + str((Weather_m['PrecipTotal_s1']=='  T').sum()))\n",
    "print(\"Number of 'T' values in PreceipTotal column (S2) after cleaning: \" + str((Weather_m['PrecipTotal_s2']=='  T').sum()))"
   ]
  },
  {
   "cell_type": "code",
   "execution_count": 375,
   "id": "4de055b3",
   "metadata": {},
   "outputs": [],
   "source": [
    "# There 64 missing data from both columns that need to be taken care of:\n",
    "Weather_m['PrecipTotal_s1'].unique()\n",
    "Q=pd.DataFrame(Weather_m['PrecipTotal_s1'][Weather_m['PrecipTotal_s1']!='  T'].value_counts()).reset_index().rename(columns={'index':'Variables','PrecipTotal_s1':'Count'})\n",
    "Q2=Q=pd.DataFrame(Weather_m['PrecipTotal_s2'][Weather_m['PrecipTotal_s2']!='  T'].value_counts()).reset_index().rename(columns={'index':'Variables','PrecipTotal_s2':'Count'})\n"
   ]
  },
  {
   "cell_type": "code",
   "execution_count": 376,
   "id": "8dff505b",
   "metadata": {},
   "outputs": [
    {
     "name": "stdout",
     "output_type": "stream",
     "text": [
      "0.25    0.32\n",
      "0.50    0.64\n",
      "0.75    1.14\n",
      "Name: Variables, dtype: float64\n"
     ]
    },
    {
     "data": {
      "text/plain": [
       "0.25    0.32\n",
       "0.50    0.64\n",
       "0.75    1.14\n",
       "Name: Variables, dtype: float64"
      ]
     },
     "execution_count": 376,
     "metadata": {},
     "output_type": "execute_result"
    }
   ],
   "source": [
    "#Finding the suitable value for replacing with the missing data \n",
    "print(Q['Variables'].astype('float').quantile(q=[0.25,0.5,0.75]))\n",
    "Q2['Variables'].astype('float').quantile(q=[0.25,0.5,0.75])"
   ]
  },
  {
   "cell_type": "code",
   "execution_count": 377,
   "id": "2bb43b4b",
   "metadata": {},
   "outputs": [],
   "source": [
    "# Replacing the last piece of missing Data \n",
    "Weather_m['PrecipTotal_s1'].replace('  T',0.6,inplace=True)\n",
    "Weather_m['PrecipTotal_s2'].replace('  T',0.6,inplace=True)"
   ]
  },
  {
   "cell_type": "code",
   "execution_count": 378,
   "id": "410e58d1",
   "metadata": {},
   "outputs": [
    {
     "name": "stdout",
     "output_type": "stream",
     "text": [
      "Missing from StnPressure of station 1: 1\n",
      "Missing from StnPressure of station 2: 1\n"
     ]
    }
   ],
   "source": [
    "for n, v in enumerate(Weather_m['StnPressure_s1']):\n",
    "    if v == '  T' or v=='M':\n",
    "        Weather_m.loc[n,'StnPressure_s1']=Weather_m.loc[n,'StnPressure_s2']\n",
    "# Repeating the same procedure for the data from other station:\n",
    "for n, v in enumerate(Weather_m['StnPressure_s2']):\n",
    "    if v == '  T' or v==\"M\":\n",
    "        Weather_m.loc[n,'StnPressure_s2']=Weather_m.loc[n,'StnPressure_s1']\n",
    "print(\"Missing from StnPressure of station 1: \"+ str((Weather_m['StnPressure_s1']=='M').sum()))\n",
    "print(\"Missing from StnPressure of station 2: \"+ str((Weather_m['StnPressure_s2']=='M').sum()))"
   ]
  },
  {
   "cell_type": "code",
   "execution_count": 379,
   "id": "5d69ad9e",
   "metadata": {},
   "outputs": [
    {
     "name": "stdout",
     "output_type": "stream",
     "text": [
      "29.26\n",
      "29.32\n"
     ]
    }
   ],
   "source": [
    "print(Weather_m['StnPressure_s1'][Weather_m['StnPressure_s1']!='M'].median())\n",
    "print(Weather_m['StnPressure_s2'][Weather_m['StnPressure_s2']!='M'].median())\n",
    "Weather_m['StnPressure_s1'].replace('M',29,inplace=True)\n",
    "Weather_m['StnPressure_s2'].replace('M',29,inplace=True)"
   ]
  },
  {
   "cell_type": "code",
   "execution_count": 380,
   "id": "e86728e4",
   "metadata": {},
   "outputs": [],
   "source": [
    "for n, v in enumerate(Weather_m['Heat_s2']):\n",
    "    if v == '  T' or v=='M':\n",
    "        Weather_m.loc[n,'Heat_s2']=Weather_m.loc[n,'Heat_s1']\n",
    "for n, v in enumerate(Weather_m['Cool_s2']):\n",
    "    if v == '  T' or v=='M':\n",
    "        Weather_m.loc[n,'Cool_s2']=Weather_m.loc[n,'Cool_s1']\n",
    "for n, v in enumerate(Weather_m['AvgSpeed_s2']):\n",
    "    if v == '  T' or v=='M':\n",
    "        Weather_m.loc[n,'AvgSpeed_s2']=Weather_m.loc[n,'AvgSpeed_s1']\n",
    "        "
   ]
  },
  {
   "cell_type": "code",
   "execution_count": 381,
   "id": "3eb1b482",
   "metadata": {},
   "outputs": [],
   "source": [
    "for n, v in enumerate(Weather_m['SeaLevel_s2']):\n",
    "    if v == '  T' or v=='M':\n",
    "        Weather_m.loc[n,'SeaLevel_s2']=Weather_m.loc[n,'SeaLevel_s1']\n",
    "for n, v in enumerate(Weather_m['SeaLevel_s1']):\n",
    "    if v == '  T' or v=='M':\n",
    "        Weather_m.loc[n,'SeaLevel_s1']=Weather_m.loc[n,'SeaLevel_s2']"
   ]
  },
  {
   "cell_type": "code",
   "execution_count": 382,
   "id": "e9b78fe3",
   "metadata": {},
   "outputs": [],
   "source": [
    "for n, v in enumerate(Weather_m['CodeSum_s1']):\n",
    "    if v == '  T' or v==' ':\n",
    "        Weather_m.loc[n,'CodeSum_s1']=Weather_m.loc[n,'CodeSum_s2']\n",
    "for n, v in enumerate(Weather_m['SeaLevel_s2']):\n",
    "    if v == '  T' or v==' ':\n",
    "        Weather_m.loc[n,'CodeSum_s2']=Weather_m.loc[n,'CodeSum_s1']"
   ]
  },
  {
   "cell_type": "code",
   "execution_count": 383,
   "id": "cb114d30",
   "metadata": {},
   "outputs": [
    {
     "data": {
      "text/plain": [
       "{'Station_s1': [0, 0, 0, 0],\n",
       " 'Date': [0, 0, 0, 0],\n",
       " 'Tmax_s1': [0, 0, 0, 0],\n",
       " 'Tmin_s1': [0, 0, 0, 0],\n",
       " 'Tavg_s1': [0, 0, 0, 0],\n",
       " 'Depart_s1': [0, 0, 0, 0],\n",
       " 'DewPoint_s1': [0, 0, 0, 0],\n",
       " 'WetBulb_s1': [0, 0, 0, 0],\n",
       " 'Heat_s1': [0, 0, 0, 0],\n",
       " 'Cool_s1': [0, 0, 0, 0],\n",
       " 'Sunrise_s1': [0, 0, 0, 0],\n",
       " 'Sunset_s1': [0, 0, 0, 0],\n",
       " 'CodeSum_s1': [0, 0, 0, 717],\n",
       " 'Depth_s1': [0, 0, 0, 0],\n",
       " 'PrecipTotal_s1': [0, 0, 0, 0],\n",
       " 'StnPressure_s1': [0, 0, 0, 0],\n",
       " 'SeaLevel_s1': [0, 0, 0, 0],\n",
       " 'ResultSpeed_s1': [0, 0, 0, 0],\n",
       " 'ResultDir_s1': [0, 0, 0, 0],\n",
       " 'AvgSpeed_s1': [0, 0, 0, 0],\n",
       " 'Year_s1': [0, 0, 0, 0],\n",
       " 'Month_s1': [0, 0, 0, 0],\n",
       " 'Day_s1': [0, 0, 0, 0],\n",
       " 'Station_s2': [0, 0, 0, 0],\n",
       " 'Tmax_s2': [0, 0, 0, 0],\n",
       " 'Tmin_s2': [0, 0, 0, 0],\n",
       " 'Tavg_s2': [0, 0, 0, 0],\n",
       " 'DewPoint_s2': [0, 0, 0, 0],\n",
       " 'WetBulb_s2': [0, 0, 0, 0],\n",
       " 'Heat_s2': [0, 0, 0, 0],\n",
       " 'Cool_s2': [0, 0, 0, 0],\n",
       " 'CodeSum_s2': [0, 0, 0, 804],\n",
       " 'PrecipTotal_s2': [0, 0, 0, 0],\n",
       " 'StnPressure_s2': [0, 0, 0, 0],\n",
       " 'SeaLevel_s2': [0, 0, 0, 0],\n",
       " 'ResultSpeed_s2': [0, 0, 0, 0],\n",
       " 'ResultDir_s2': [0, 0, 0, 0],\n",
       " 'AvgSpeed_s2': [0, 0, 0, 0],\n",
       " 'Year_s2': [0, 0, 0, 0],\n",
       " 'Month_s2': [0, 0, 0, 0],\n",
       " 'Day_s2': [0, 0, 0, 0]}"
      ]
     },
     "execution_count": 383,
     "metadata": {},
     "output_type": "execute_result"
    }
   ],
   "source": [
    "miss_checker(Weather_m)"
   ]
  },
  {
   "cell_type": "code",
   "execution_count": 384,
   "id": "377d9fa6",
   "metadata": {},
   "outputs": [],
   "source": [
    "def dfto_numeric (df):\n",
    "    for col in df.columns:\n",
    "        if col!='Date':\n",
    "            df[col]=pd.to_numeric(df[col])"
   ]
  },
  {
   "cell_type": "code",
   "execution_count": 385,
   "id": "563722a6",
   "metadata": {},
   "outputs": [
    {
     "data": {
      "text/plain": [
       "Station_s1          0\n",
       "Date                0\n",
       "Tmax_s1             0\n",
       "Tmin_s1             0\n",
       "Tavg_s1             0\n",
       "Depart_s1           0\n",
       "DewPoint_s1         0\n",
       "WetBulb_s1          0\n",
       "Heat_s1             0\n",
       "Cool_s1             0\n",
       "Sunrise_s1          0\n",
       "Sunset_s1           0\n",
       "CodeSum_s1        717\n",
       "Depth_s1            0\n",
       "PrecipTotal_s1      0\n",
       "StnPressure_s1      0\n",
       "SeaLevel_s1         0\n",
       "ResultSpeed_s1      0\n",
       "ResultDir_s1        0\n",
       "AvgSpeed_s1         0\n",
       "Year_s1             0\n",
       "Month_s1            0\n",
       "Day_s1              0\n",
       "Station_s2          0\n",
       "Tmax_s2             0\n",
       "Tmin_s2             0\n",
       "Tavg_s2             0\n",
       "DewPoint_s2         0\n",
       "WetBulb_s2          0\n",
       "Heat_s2             0\n",
       "Cool_s2             0\n",
       "CodeSum_s2        804\n",
       "PrecipTotal_s2      0\n",
       "StnPressure_s2      0\n",
       "SeaLevel_s2         0\n",
       "ResultSpeed_s2      0\n",
       "ResultDir_s2        0\n",
       "AvgSpeed_s2         0\n",
       "Year_s2             0\n",
       "Month_s2            0\n",
       "Day_s2              0\n",
       "dtype: int64"
      ]
     },
     "execution_count": 385,
     "metadata": {},
     "output_type": "execute_result"
    }
   ],
   "source": [
    "Weather_m[Weather_m==\" \"].count()"
   ]
  },
  {
   "cell_type": "code",
   "execution_count": 386,
   "id": "e1662fee",
   "metadata": {},
   "outputs": [],
   "source": [
    "Weather_m.drop(['CodeSum_s2','CodeSum_s1'],axis=1,inplace=True)"
   ]
  },
  {
   "cell_type": "code",
   "execution_count": 387,
   "id": "2bd9e924",
   "metadata": {},
   "outputs": [],
   "source": [
    "dfto_numeric(Weather_m)"
   ]
  },
  {
   "cell_type": "markdown",
   "id": "aeeb35d4",
   "metadata": {},
   "source": [
    "## Combine weather with train dataset"
   ]
  },
  {
   "cell_type": "code",
   "execution_count": 388,
   "id": "40363615",
   "metadata": {},
   "outputs": [],
   "source": [
    "df_train=Train.merge(Weather_m,on='Date')"
   ]
  },
  {
   "cell_type": "code",
   "execution_count": 389,
   "id": "62fbad10",
   "metadata": {},
   "outputs": [
    {
     "data": {
      "text/plain": [
       "(10506, 52)"
      ]
     },
     "execution_count": 389,
     "metadata": {},
     "output_type": "execute_result"
    }
   ],
   "source": [
    "df_train.shape"
   ]
  },
  {
   "cell_type": "markdown",
   "id": "81f97c8a",
   "metadata": {},
   "source": [
    "## Combine weather with test dataset"
   ]
  },
  {
   "cell_type": "code",
   "execution_count": 390,
   "id": "ebb07e22",
   "metadata": {},
   "outputs": [],
   "source": [
    "df_test=Test.merge(Weather_m,on='Date')"
   ]
  },
  {
   "cell_type": "code",
   "execution_count": 391,
   "id": "ef44b670",
   "metadata": {},
   "outputs": [
    {
     "data": {
      "text/plain": [
       "(115533, 46)"
      ]
     },
     "execution_count": 391,
     "metadata": {},
     "output_type": "execute_result"
    }
   ],
   "source": [
    "df_test.shape"
   ]
  },
  {
   "cell_type": "code",
   "execution_count": 392,
   "id": "a47ab28d",
   "metadata": {},
   "outputs": [
    {
     "data": {
      "text/html": [
       "<div>\n",
       "<style scoped>\n",
       "    .dataframe tbody tr th:only-of-type {\n",
       "        vertical-align: middle;\n",
       "    }\n",
       "\n",
       "    .dataframe tbody tr th {\n",
       "        vertical-align: top;\n",
       "    }\n",
       "\n",
       "    .dataframe thead th {\n",
       "        text-align: right;\n",
       "    }\n",
       "</style>\n",
       "<table border=\"1\" class=\"dataframe\">\n",
       "  <thead>\n",
       "    <tr style=\"text-align: right;\">\n",
       "      <th></th>\n",
       "      <th>Date</th>\n",
       "      <th>Species</th>\n",
       "      <th>Trap</th>\n",
       "      <th>Latitude</th>\n",
       "      <th>Longitude</th>\n",
       "      <th>Year</th>\n",
       "      <th>Month</th>\n",
       "      <th>Day</th>\n",
       "      <th>Station_s1</th>\n",
       "      <th>Tmax_s1</th>\n",
       "      <th>...</th>\n",
       "      <th>Cool_s2</th>\n",
       "      <th>PrecipTotal_s2</th>\n",
       "      <th>StnPressure_s2</th>\n",
       "      <th>SeaLevel_s2</th>\n",
       "      <th>ResultSpeed_s2</th>\n",
       "      <th>ResultDir_s2</th>\n",
       "      <th>AvgSpeed_s2</th>\n",
       "      <th>Year_s2</th>\n",
       "      <th>Month_s2</th>\n",
       "      <th>Day_s2</th>\n",
       "    </tr>\n",
       "  </thead>\n",
       "  <tbody>\n",
       "    <tr>\n",
       "      <th>0</th>\n",
       "      <td>2008-06-11</td>\n",
       "      <td>CULEX PIPIENS/RESTUANS</td>\n",
       "      <td>T002</td>\n",
       "      <td>41.95469</td>\n",
       "      <td>-87.800991</td>\n",
       "      <td>2008</td>\n",
       "      <td>6</td>\n",
       "      <td>11</td>\n",
       "      <td>1</td>\n",
       "      <td>86</td>\n",
       "      <td>...</td>\n",
       "      <td>11</td>\n",
       "      <td>0.0</td>\n",
       "      <td>29.34</td>\n",
       "      <td>29.97</td>\n",
       "      <td>9.4</td>\n",
       "      <td>18</td>\n",
       "      <td>10.4</td>\n",
       "      <td>2008</td>\n",
       "      <td>6</td>\n",
       "      <td>11</td>\n",
       "    </tr>\n",
       "    <tr>\n",
       "      <th>1</th>\n",
       "      <td>2008-06-11</td>\n",
       "      <td>CULEX PIPIENS/RESTUANS</td>\n",
       "      <td>T002</td>\n",
       "      <td>41.95469</td>\n",
       "      <td>-87.800991</td>\n",
       "      <td>2008</td>\n",
       "      <td>6</td>\n",
       "      <td>11</td>\n",
       "      <td>1</td>\n",
       "      <td>86</td>\n",
       "      <td>...</td>\n",
       "      <td>11</td>\n",
       "      <td>0.0</td>\n",
       "      <td>29.34</td>\n",
       "      <td>29.97</td>\n",
       "      <td>9.4</td>\n",
       "      <td>18</td>\n",
       "      <td>10.4</td>\n",
       "      <td>2008</td>\n",
       "      <td>6</td>\n",
       "      <td>11</td>\n",
       "    </tr>\n",
       "    <tr>\n",
       "      <th>2</th>\n",
       "      <td>2008-06-11</td>\n",
       "      <td>CULEX PIPIENS/RESTUANS</td>\n",
       "      <td>T002</td>\n",
       "      <td>41.95469</td>\n",
       "      <td>-87.800991</td>\n",
       "      <td>2008</td>\n",
       "      <td>6</td>\n",
       "      <td>11</td>\n",
       "      <td>1</td>\n",
       "      <td>86</td>\n",
       "      <td>...</td>\n",
       "      <td>11</td>\n",
       "      <td>0.0</td>\n",
       "      <td>29.34</td>\n",
       "      <td>29.97</td>\n",
       "      <td>9.4</td>\n",
       "      <td>18</td>\n",
       "      <td>10.4</td>\n",
       "      <td>2008</td>\n",
       "      <td>6</td>\n",
       "      <td>11</td>\n",
       "    </tr>\n",
       "    <tr>\n",
       "      <th>3</th>\n",
       "      <td>2008-06-11</td>\n",
       "      <td>CULEX SALINARIUS</td>\n",
       "      <td>T002</td>\n",
       "      <td>41.95469</td>\n",
       "      <td>-87.800991</td>\n",
       "      <td>2008</td>\n",
       "      <td>6</td>\n",
       "      <td>11</td>\n",
       "      <td>1</td>\n",
       "      <td>86</td>\n",
       "      <td>...</td>\n",
       "      <td>11</td>\n",
       "      <td>0.0</td>\n",
       "      <td>29.34</td>\n",
       "      <td>29.97</td>\n",
       "      <td>9.4</td>\n",
       "      <td>18</td>\n",
       "      <td>10.4</td>\n",
       "      <td>2008</td>\n",
       "      <td>6</td>\n",
       "      <td>11</td>\n",
       "    </tr>\n",
       "    <tr>\n",
       "      <th>4</th>\n",
       "      <td>2008-06-11</td>\n",
       "      <td>CULEX TERRITANS</td>\n",
       "      <td>T002</td>\n",
       "      <td>41.95469</td>\n",
       "      <td>-87.800991</td>\n",
       "      <td>2008</td>\n",
       "      <td>6</td>\n",
       "      <td>11</td>\n",
       "      <td>1</td>\n",
       "      <td>86</td>\n",
       "      <td>...</td>\n",
       "      <td>11</td>\n",
       "      <td>0.0</td>\n",
       "      <td>29.34</td>\n",
       "      <td>29.97</td>\n",
       "      <td>9.4</td>\n",
       "      <td>18</td>\n",
       "      <td>10.4</td>\n",
       "      <td>2008</td>\n",
       "      <td>6</td>\n",
       "      <td>11</td>\n",
       "    </tr>\n",
       "  </tbody>\n",
       "</table>\n",
       "<p>5 rows × 46 columns</p>\n",
       "</div>"
      ],
      "text/plain": [
       "        Date                 Species  Trap  Latitude  Longitude  Year  Month  \\\n",
       "0 2008-06-11  CULEX PIPIENS/RESTUANS  T002  41.95469 -87.800991  2008      6   \n",
       "1 2008-06-11  CULEX PIPIENS/RESTUANS  T002  41.95469 -87.800991  2008      6   \n",
       "2 2008-06-11  CULEX PIPIENS/RESTUANS  T002  41.95469 -87.800991  2008      6   \n",
       "3 2008-06-11        CULEX SALINARIUS  T002  41.95469 -87.800991  2008      6   \n",
       "4 2008-06-11         CULEX TERRITANS  T002  41.95469 -87.800991  2008      6   \n",
       "\n",
       "   Day  Station_s1  Tmax_s1  ...  Cool_s2  PrecipTotal_s2  StnPressure_s2  \\\n",
       "0   11           1       86  ...       11             0.0           29.34   \n",
       "1   11           1       86  ...       11             0.0           29.34   \n",
       "2   11           1       86  ...       11             0.0           29.34   \n",
       "3   11           1       86  ...       11             0.0           29.34   \n",
       "4   11           1       86  ...       11             0.0           29.34   \n",
       "\n",
       "   SeaLevel_s2  ResultSpeed_s2  ResultDir_s2  AvgSpeed_s2  Year_s2  Month_s2  \\\n",
       "0        29.97             9.4            18         10.4     2008         6   \n",
       "1        29.97             9.4            18         10.4     2008         6   \n",
       "2        29.97             9.4            18         10.4     2008         6   \n",
       "3        29.97             9.4            18         10.4     2008         6   \n",
       "4        29.97             9.4            18         10.4     2008         6   \n",
       "\n",
       "   Day_s2  \n",
       "0      11  \n",
       "1      11  \n",
       "2      11  \n",
       "3      11  \n",
       "4      11  \n",
       "\n",
       "[5 rows x 46 columns]"
      ]
     },
     "execution_count": 392,
     "metadata": {},
     "output_type": "execute_result"
    }
   ],
   "source": [
    "df_test.head()"
   ]
  },
  {
   "cell_type": "markdown",
   "id": "1a9f8fca",
   "metadata": {},
   "source": [
    "## Checking the weather info on df_train, to check correlation between data and infection"
   ]
  },
  {
   "cell_type": "code",
   "execution_count": 393,
   "id": "d941ab28",
   "metadata": {},
   "outputs": [
    {
     "data": {
      "text/plain": [
       "Index(['Date', 'Species', 'Trap', 'Latitude', 'Longitude', 'NumMosquitos',\n",
       "       'WnvPresent', 'Year', 'Month', 'Day', 'MP_Species', 'Location',\n",
       "       'MP_Trap', 'MP_month', 'Station_s1', 'Tmax_s1', 'Tmin_s1', 'Tavg_s1',\n",
       "       'Depart_s1', 'DewPoint_s1', 'WetBulb_s1', 'Heat_s1', 'Cool_s1',\n",
       "       'Sunrise_s1', 'Sunset_s1', 'Depth_s1', 'PrecipTotal_s1',\n",
       "       'StnPressure_s1', 'SeaLevel_s1', 'ResultSpeed_s1', 'ResultDir_s1',\n",
       "       'AvgSpeed_s1', 'Year_s1', 'Month_s1', 'Day_s1', 'Station_s2', 'Tmax_s2',\n",
       "       'Tmin_s2', 'Tavg_s2', 'DewPoint_s2', 'WetBulb_s2', 'Heat_s2', 'Cool_s2',\n",
       "       'PrecipTotal_s2', 'StnPressure_s2', 'SeaLevel_s2', 'ResultSpeed_s2',\n",
       "       'ResultDir_s2', 'AvgSpeed_s2', 'Year_s2', 'Month_s2', 'Day_s2'],\n",
       "      dtype='object')"
      ]
     },
     "execution_count": 393,
     "metadata": {},
     "output_type": "execute_result"
    }
   ],
   "source": [
    "df_train.columns"
   ]
  },
  {
   "cell_type": "code",
   "execution_count": 394,
   "id": "b68c4cee",
   "metadata": {},
   "outputs": [],
   "source": [
    "df_train.drop(['Year_s1','Month_s1','Day_s1','Year_s2','Month_s2','Day_s2','Station_s1','Station_s2'],axis=1,inplace=True)"
   ]
  },
  {
   "cell_type": "markdown",
   "id": "90f727cc",
   "metadata": {},
   "source": [
    "## Effect of temperature"
   ]
  },
  {
   "cell_type": "code",
   "execution_count": 395,
   "id": "a23c52e8",
   "metadata": {},
   "outputs": [
    {
     "name": "stderr",
     "output_type": "stream",
     "text": [
      "C:\\Users\\Shaqayeq\\anaconda3\\lib\\site-packages\\seaborn\\_decorators.py:36: FutureWarning: Pass the following variables as keyword args: x, y. From version 0.12, the only valid positional argument will be `data`, and passing other arguments without an explicit keyword will result in an error or misinterpretation.\n",
      "  warnings.warn(\n",
      "C:\\Users\\Shaqayeq\\anaconda3\\lib\\site-packages\\seaborn\\_decorators.py:36: FutureWarning: Pass the following variables as keyword args: x, y. From version 0.12, the only valid positional argument will be `data`, and passing other arguments without an explicit keyword will result in an error or misinterpretation.\n",
      "  warnings.warn(\n",
      "C:\\Users\\Shaqayeq\\anaconda3\\lib\\site-packages\\seaborn\\_decorators.py:36: FutureWarning: Pass the following variables as keyword args: x, y. From version 0.12, the only valid positional argument will be `data`, and passing other arguments without an explicit keyword will result in an error or misinterpretation.\n",
      "  warnings.warn(\n",
      "C:\\Users\\Shaqayeq\\anaconda3\\lib\\site-packages\\seaborn\\_decorators.py:36: FutureWarning: Pass the following variables as keyword args: x, y. From version 0.12, the only valid positional argument will be `data`, and passing other arguments without an explicit keyword will result in an error or misinterpretation.\n",
      "  warnings.warn(\n",
      "C:\\Users\\Shaqayeq\\anaconda3\\lib\\site-packages\\seaborn\\_decorators.py:36: FutureWarning: Pass the following variables as keyword args: x, y. From version 0.12, the only valid positional argument will be `data`, and passing other arguments without an explicit keyword will result in an error or misinterpretation.\n",
      "  warnings.warn(\n"
     ]
    },
    {
     "data": {
      "image/png": "[encoded data removed]",
      "text/plain": [
       "<Figure size 1080x1800 with 5 Axes>"
      ]
     },
     "metadata": {
      "needs_background": "light"
     },
     "output_type": "display_data"
    }
   ],
   "source": [
    "fig, ax = plt.subplots(4,1, figsize=(15,25))\n",
    "ax1=ax[0]\n",
    "ax2 = ax1.twinx()\n",
    "temp=df_train.groupby('Year').count().reset_index()\n",
    "sns.boxplot(df_train['Year'],df_train['Tavg_s1'], ax=ax1)\n",
    "sns.pointplot(temp.Year,temp.WnvPresent,ax=ax2)\n",
    "ax1.set_title('Average temperature vs number of positive cases')\n",
    "temp1=df_train[df_train['Year']==2007].groupby(['Tavg_s1']).count().reset_index()\n",
    "ax3=ax[1]\n",
    "sns.pointplot(temp1.Tavg_s1,temp1.WnvPresent,ax=ax3)\n",
    "ax3.set_title('Average temperature vs number of positive cases for year 2007')\n",
    "ax4=ax[2]\n",
    "temp2=df_train[df_train['Year']==2009].groupby(['Tavg_s1']).count().reset_index()\n",
    "sns.pointplot(temp2.Tavg_s1,temp2.WnvPresent,ax=ax4)\n",
    "ax4.set_title('Average temperature vs number of positive cases for year 2009')\n",
    "ax5=ax[3]\n",
    "temp3=df_train[df_train['Year']==2013].groupby(['Tavg_s1']).count().reset_index()\n",
    "sns.pointplot(temp3.Tavg_s1,temp3.WnvPresent,ax=ax5)\n",
    "ax5.set_title('Average temperature vs number of positive cases for year 2013')\n",
    "plt.show()"
   ]
  },
  {
   "cell_type": "markdown",
   "id": "ee5cbf95",
   "metadata": {},
   "source": [
    "### Visually, the higher the temperature, the more the infection!"
   ]
  },
  {
   "cell_type": "markdown",
   "id": "95995ce3",
   "metadata": {},
   "source": [
    "<h3>Let's check effect of Moisture in the atmosphere by investigating DewPoint and WetBulb<h3>"
   ]
  },
  {
   "cell_type": "code",
   "execution_count": 396,
   "id": "0db83f7f",
   "metadata": {},
   "outputs": [
    {
     "data": {
      "text/plain": [
       "Text(0.5, 1.0, 'Humidity vs number of positive cases')"
      ]
     },
     "execution_count": 396,
     "metadata": {},
     "output_type": "execute_result"
    },
    {
     "data": {
      "image/png": "[encoded data removed]",
      "text/plain": [
       "<Figure size 720x720 with 2 Axes>"
      ]
     },
     "metadata": {
      "needs_background": "light"
     },
     "output_type": "display_data"
    }
   ],
   "source": [
    "fig, ax = plt.subplots(2,1,figsize=(10,10))\n",
    "temp=df_train.groupby('DewPoint_s1').count().reset_index()\n",
    "temp1=df_train.groupby('WetBulb_s1').count().reset_index()\n",
    "ax1=ax[0]\n",
    "sns.regplot(ax=ax1,x='WetBulb_s1',y='WnvPresent',data=temp1)\n",
    "sns.regplot(ax=ax[1],x='DewPoint_s1',y='WnvPresent',data=temp)\n",
    "ax1.set_title('Humidity vs number of positive cases')\n"
   ]
  },
  {
   "cell_type": "markdown",
   "id": "119db68e",
   "metadata": {},
   "source": [
    "<h4>It can be interpretted from the plots that higher the humidity, higher the presence of virus!<h4>"
   ]
  },
  {
   "cell_type": "markdown",
   "id": "fbee7545",
   "metadata": {},
   "source": [
    "<h3>Let's check effect of day length by investigating 'Sunrise_s1', 'Sunset_s1'<h3>"
   ]
  },
  {
   "cell_type": "code",
   "execution_count": 397,
   "id": "77ac1252",
   "metadata": {},
   "outputs": [],
   "source": [
    "Day_length=[]\n",
    "for i in range (len(df_train.Sunrise_s1)):\n",
    "    \n",
    "    Q=df_train.Sunset_s1[i].astype('str').split()[0][0:2]+str((pd.to_numeric(df_train.Sunset_s1[i].astype('str').split()[0][2:])/60).astype('str').split()[0][1:])\n",
    "    T=df_train.Sunrise_s1[i].astype('str').split()[0][0:1]+str((pd.to_numeric(df_train.Sunrise_s1[i].astype('str').split()[0][1:])/60).astype('str').split()[0][1:])\n",
    "\n",
    "    Day_length.append(round(pd.to_numeric(Q)-pd.to_numeric(T),1))\n",
    "df_train['Day_Length']=Day_length"
   ]
  },
  {
   "cell_type": "code",
   "execution_count": 398,
   "id": "02371a6c",
   "metadata": {},
   "outputs": [
    {
     "data": {
      "text/html": [
       "<div>\n",
       "<style scoped>\n",
       "    .dataframe tbody tr th:only-of-type {\n",
       "        vertical-align: middle;\n",
       "    }\n",
       "\n",
       "    .dataframe tbody tr th {\n",
       "        vertical-align: top;\n",
       "    }\n",
       "\n",
       "    .dataframe thead th {\n",
       "        text-align: right;\n",
       "    }\n",
       "</style>\n",
       "<table border=\"1\" class=\"dataframe\">\n",
       "  <thead>\n",
       "    <tr style=\"text-align: right;\">\n",
       "      <th></th>\n",
       "      <th>Date</th>\n",
       "      <th>Species</th>\n",
       "      <th>Trap</th>\n",
       "      <th>Latitude</th>\n",
       "      <th>Longitude</th>\n",
       "      <th>NumMosquitos</th>\n",
       "      <th>WnvPresent</th>\n",
       "      <th>Year</th>\n",
       "      <th>Month</th>\n",
       "      <th>Day</th>\n",
       "      <th>...</th>\n",
       "      <th>WetBulb_s2</th>\n",
       "      <th>Heat_s2</th>\n",
       "      <th>Cool_s2</th>\n",
       "      <th>PrecipTotal_s2</th>\n",
       "      <th>StnPressure_s2</th>\n",
       "      <th>SeaLevel_s2</th>\n",
       "      <th>ResultSpeed_s2</th>\n",
       "      <th>ResultDir_s2</th>\n",
       "      <th>AvgSpeed_s2</th>\n",
       "      <th>Day_Length</th>\n",
       "    </tr>\n",
       "  </thead>\n",
       "  <tbody>\n",
       "    <tr>\n",
       "      <th>0</th>\n",
       "      <td>2007-05-29</td>\n",
       "      <td>CULEX PIPIENS/RESTUANS</td>\n",
       "      <td>T002</td>\n",
       "      <td>41.954690</td>\n",
       "      <td>-87.800991</td>\n",
       "      <td>1</td>\n",
       "      <td>0</td>\n",
       "      <td>2007</td>\n",
       "      <td>5</td>\n",
       "      <td>29</td>\n",
       "      <td>...</td>\n",
       "      <td>66</td>\n",
       "      <td>0</td>\n",
       "      <td>12</td>\n",
       "      <td>0.0</td>\n",
       "      <td>29.44</td>\n",
       "      <td>30.09</td>\n",
       "      <td>5.8</td>\n",
       "      <td>16</td>\n",
       "      <td>7.4</td>\n",
       "      <td>14.9</td>\n",
       "    </tr>\n",
       "    <tr>\n",
       "      <th>1</th>\n",
       "      <td>2007-05-29</td>\n",
       "      <td>CULEX PIPIENS/RESTUANS</td>\n",
       "      <td>T002</td>\n",
       "      <td>41.954690</td>\n",
       "      <td>-87.800991</td>\n",
       "      <td>1</td>\n",
       "      <td>0</td>\n",
       "      <td>2007</td>\n",
       "      <td>5</td>\n",
       "      <td>29</td>\n",
       "      <td>...</td>\n",
       "      <td>66</td>\n",
       "      <td>0</td>\n",
       "      <td>12</td>\n",
       "      <td>0.0</td>\n",
       "      <td>29.44</td>\n",
       "      <td>30.09</td>\n",
       "      <td>5.8</td>\n",
       "      <td>16</td>\n",
       "      <td>7.4</td>\n",
       "      <td>14.9</td>\n",
       "    </tr>\n",
       "    <tr>\n",
       "      <th>2</th>\n",
       "      <td>2007-05-29</td>\n",
       "      <td>CULEX PIPIENS/RESTUANS</td>\n",
       "      <td>T007</td>\n",
       "      <td>41.994991</td>\n",
       "      <td>-87.769279</td>\n",
       "      <td>1</td>\n",
       "      <td>0</td>\n",
       "      <td>2007</td>\n",
       "      <td>5</td>\n",
       "      <td>29</td>\n",
       "      <td>...</td>\n",
       "      <td>66</td>\n",
       "      <td>0</td>\n",
       "      <td>12</td>\n",
       "      <td>0.0</td>\n",
       "      <td>29.44</td>\n",
       "      <td>30.09</td>\n",
       "      <td>5.8</td>\n",
       "      <td>16</td>\n",
       "      <td>7.4</td>\n",
       "      <td>14.9</td>\n",
       "    </tr>\n",
       "    <tr>\n",
       "      <th>3</th>\n",
       "      <td>2007-05-29</td>\n",
       "      <td>CULEX PIPIENS/RESTUANS</td>\n",
       "      <td>T015</td>\n",
       "      <td>41.974089</td>\n",
       "      <td>-87.824812</td>\n",
       "      <td>1</td>\n",
       "      <td>0</td>\n",
       "      <td>2007</td>\n",
       "      <td>5</td>\n",
       "      <td>29</td>\n",
       "      <td>...</td>\n",
       "      <td>66</td>\n",
       "      <td>0</td>\n",
       "      <td>12</td>\n",
       "      <td>0.0</td>\n",
       "      <td>29.44</td>\n",
       "      <td>30.09</td>\n",
       "      <td>5.8</td>\n",
       "      <td>16</td>\n",
       "      <td>7.4</td>\n",
       "      <td>14.9</td>\n",
       "    </tr>\n",
       "    <tr>\n",
       "      <th>4</th>\n",
       "      <td>2007-05-29</td>\n",
       "      <td>CULEX PIPIENS/RESTUANS</td>\n",
       "      <td>T015</td>\n",
       "      <td>41.974089</td>\n",
       "      <td>-87.824812</td>\n",
       "      <td>4</td>\n",
       "      <td>0</td>\n",
       "      <td>2007</td>\n",
       "      <td>5</td>\n",
       "      <td>29</td>\n",
       "      <td>...</td>\n",
       "      <td>66</td>\n",
       "      <td>0</td>\n",
       "      <td>12</td>\n",
       "      <td>0.0</td>\n",
       "      <td>29.44</td>\n",
       "      <td>30.09</td>\n",
       "      <td>5.8</td>\n",
       "      <td>16</td>\n",
       "      <td>7.4</td>\n",
       "      <td>14.9</td>\n",
       "    </tr>\n",
       "  </tbody>\n",
       "</table>\n",
       "<p>5 rows × 45 columns</p>\n",
       "</div>"
      ],
      "text/plain": [
       "        Date                 Species  Trap   Latitude  Longitude  \\\n",
       "0 2007-05-29  CULEX PIPIENS/RESTUANS  T002  41.954690 -87.800991   \n",
       "1 2007-05-29  CULEX PIPIENS/RESTUANS  T002  41.954690 -87.800991   \n",
       "2 2007-05-29  CULEX PIPIENS/RESTUANS  T007  41.994991 -87.769279   \n",
       "3 2007-05-29  CULEX PIPIENS/RESTUANS  T015  41.974089 -87.824812   \n",
       "4 2007-05-29  CULEX PIPIENS/RESTUANS  T015  41.974089 -87.824812   \n",
       "\n",
       "   NumMosquitos  WnvPresent  Year  Month  Day  ...  WetBulb_s2 Heat_s2  \\\n",
       "0             1           0  2007      5   29  ...          66       0   \n",
       "1             1           0  2007      5   29  ...          66       0   \n",
       "2             1           0  2007      5   29  ...          66       0   \n",
       "3             1           0  2007      5   29  ...          66       0   \n",
       "4             4           0  2007      5   29  ...          66       0   \n",
       "\n",
       "   Cool_s2  PrecipTotal_s2  StnPressure_s2  SeaLevel_s2  ResultSpeed_s2  \\\n",
       "0       12             0.0           29.44        30.09             5.8   \n",
       "1       12             0.0           29.44        30.09             5.8   \n",
       "2       12             0.0           29.44        30.09             5.8   \n",
       "3       12             0.0           29.44        30.09             5.8   \n",
       "4       12             0.0           29.44        30.09             5.8   \n",
       "\n",
       "   ResultDir_s2  AvgSpeed_s2  Day_Length  \n",
       "0            16          7.4        14.9  \n",
       "1            16          7.4        14.9  \n",
       "2            16          7.4        14.9  \n",
       "3            16          7.4        14.9  \n",
       "4            16          7.4        14.9  \n",
       "\n",
       "[5 rows x 45 columns]"
      ]
     },
     "execution_count": 398,
     "metadata": {},
     "output_type": "execute_result"
    }
   ],
   "source": [
    "df_train.head()"
   ]
  },
  {
   "cell_type": "code",
   "execution_count": 399,
   "id": "3ded4751",
   "metadata": {},
   "outputs": [
    {
     "data": {
      "text/plain": [
       "Text(0.5, 1.0, 'Correlation between day length and presence of infection')"
      ]
     },
     "execution_count": 399,
     "metadata": {},
     "output_type": "execute_result"
    },
    {
     "data": {
      "image/png": "[encoded data removed]",
      "text/plain": [
       "<Figure size 720x360 with 1 Axes>"
      ]
     },
     "metadata": {
      "needs_background": "light"
     },
     "output_type": "display_data"
    }
   ],
   "source": [
    "fig, ax = plt.subplots(figsize=(10,5))\n",
    "temp=df_train.groupby('Day_Length').count().reset_index()\n",
    "sns.regplot(x='Day_Length',y='WnvPresent',data=temp)\n",
    "ax.set_title('Correlation between day length and presence of infection')"
   ]
  },
  {
   "cell_type": "markdown",
   "id": "ee4b17e7",
   "metadata": {},
   "source": [
    "<h3>The posibility of infection increases with day time!"
   ]
  },
  {
   "cell_type": "code",
   "execution_count": 400,
   "id": "ca81c983",
   "metadata": {},
   "outputs": [
    {
     "data": {
      "text/plain": [
       "0    10506\n",
       "Name: Depth_s1, dtype: int64"
      ]
     },
     "execution_count": 400,
     "metadata": {},
     "output_type": "execute_result"
    }
   ],
   "source": [
    "df_train['Depth_s1'].value_counts()"
   ]
  },
  {
   "cell_type": "markdown",
   "id": "ec7f9f49",
   "metadata": {},
   "source": [
    "<h4> this feature must get droped!"
   ]
  },
  {
   "cell_type": "code",
   "execution_count": 401,
   "id": "9da7c3e4",
   "metadata": {},
   "outputs": [],
   "source": [
    "df_train.drop('Depth_s1',axis=1,inplace=True)"
   ]
  },
  {
   "cell_type": "code",
   "execution_count": 402,
   "id": "1a086da5",
   "metadata": {},
   "outputs": [
    {
     "name": "stderr",
     "output_type": "stream",
     "text": [
      "C:\\Users\\Shaqayeq\\anaconda3\\lib\\site-packages\\seaborn\\_decorators.py:36: FutureWarning: Pass the following variables as keyword args: x, y. From version 0.12, the only valid positional argument will be `data`, and passing other arguments without an explicit keyword will result in an error or misinterpretation.\n",
      "  warnings.warn(\n"
     ]
    },
    {
     "data": {
      "text/plain": [
       "Text(0.5, 1.0, 'PrecipTotal vs number of positive cases')"
      ]
     },
     "execution_count": 402,
     "metadata": {},
     "output_type": "execute_result"
    },
    {
     "data": {
      "image/png": "[encoded data removed]",
      "text/plain": [
       "<Figure size 1080x576 with 1 Axes>"
      ]
     },
     "metadata": {
      "needs_background": "light"
     },
     "output_type": "display_data"
    }
   ],
   "source": [
    "fig, ax = plt.subplots(figsize=(15,8))\n",
    "temp=df_train.groupby('PrecipTotal_s1').count().reset_index()\n",
    "sns.pointplot(temp.PrecipTotal_s1,temp.WnvPresent,ax=ax)\n",
    "ax.set_title('PrecipTotal vs number of positive cases')"
   ]
  },
  {
   "cell_type": "markdown",
   "id": "b7704001",
   "metadata": {},
   "source": [
    "<h3>When it is zero, the chance of infection is so high!\n"
   ]
  },
  {
   "cell_type": "code",
   "execution_count": 403,
   "id": "f0f1b542",
   "metadata": {},
   "outputs": [
    {
     "data": {
      "image/png": "[encoded data removed]",
      "text/plain": [
       "<Figure size 1080x1440 with 3 Axes>"
      ]
     },
     "metadata": {
      "needs_background": "light"
     },
     "output_type": "display_data"
    }
   ],
   "source": [
    "# Effect of wind speed and direction, and station pressure:\n",
    "fig, ax = plt.subplots(3,1, figsize=(15,20))\n",
    "ax1=ax[0]\n",
    "temp=df_train.groupby('ResultSpeed_s1').count().reset_index()\n",
    "sns.regplot(x='ResultSpeed_s1',y='WnvPresent',data=temp ,ax=ax1)\n",
    "\n",
    "ax1.set_title('ResultSpeed vs number of positive cases')\n",
    "temp1=df_train.groupby('ResultDir_s1').count().reset_index()\n",
    "ax3=ax[1]\n",
    "sns.regplot(x='ResultDir_s1',y='WnvPresent',data=temp1,ax=ax3)\n",
    "ax3.set_title('ResultDir vs number of positive cases for year 2007')\n",
    "ax4=ax[2]\n",
    "temp2=df_train.groupby(['AvgSpeed_s1']).count().reset_index()\n",
    "sns.regplot(x='AvgSpeed_s1',y='WnvPresent',data=temp2,ax=ax4)\n",
    "ax4.set_title('Average speed vs number of positive cases for year 2009')\n",
    "plt.show()"
   ]
  },
  {
   "cell_type": "code",
   "execution_count": 404,
   "id": "a8832f32",
   "metadata": {},
   "outputs": [
    {
     "data": {
      "text/plain": [
       "<matplotlib.legend.Legend at 0x130ac717490>"
      ]
     },
     "execution_count": 404,
     "metadata": {},
     "output_type": "execute_result"
    },
    {
     "data": {
      "image/png": "[encoded data removed]",
      "text/plain": [
       "<Figure size 1512x864 with 2 Axes>"
      ]
     },
     "metadata": {
      "needs_background": "light"
     },
     "output_type": "display_data"
    }
   ],
   "source": [
    "# Let's check the Traps with positive virus test with location of Spray\n",
    "fig, ax = plt.subplots(1,2, figsize=(21,12))\n",
    "sns.scatterplot(x='Longitude',y='Latitude',data=df_train[df_train['WnvPresent']==1],ax=ax[0],c=['red'], alpha=0.05,s=100)\n",
    "ax[0].set_title('Traps with positive virus test')\n",
    "sns.scatterplot(x='Longitude',y='Latitude',data=Spray[Spray['Year']==2011],ax=ax[1],c=['blue'], marker='x', alpha=0.5,legend=2011,s=100)\n",
    "sns.scatterplot(x='Longitude',y='Latitude',data=Spray[Spray['Year']==2013],ax=ax[1],c=['black'], marker='x', alpha=0.1,legend=2013,s=100)\n",
    "ax[1].set_title('Spray locations devided by year of spray')\n",
    "ax[1].legend(title='Spray year', loc='upper right', labels=[2011,2013])"
   ]
  },
  {
   "cell_type": "code",
   "execution_count": 405,
   "id": "cb39ec92",
   "metadata": {},
   "outputs": [
    {
     "data": {
      "text/plain": [
       "Text(0.5, 1.0, 'Maximum and minimum temperature vs number of positive cases')"
      ]
     },
     "execution_count": 405,
     "metadata": {},
     "output_type": "execute_result"
    },
    {
     "data": {
      "image/png": "[encoded data removed]",
      "text/plain": [
       "<Figure size 1080x576 with 2 Axes>"
      ]
     },
     "metadata": {
      "needs_background": "light"
     },
     "output_type": "display_data"
    }
   ],
   "source": [
    "fig, ax = plt.subplots(2,1,figsize=(15,8))\n",
    "temp=df_train.groupby('Tmax_s1').count().reset_index()\n",
    "sns.regplot(x='Tmax_s1',y='WnvPresent',data=temp,ax=ax[0])\n",
    "sns.regplot(x='Tmin_s1',y='WnvPresent',data=temp,ax=ax[1],color='red')\n",
    "ax[0].set_title('Maximum and minimum temperature vs number of positive cases')"
   ]
  },
  {
   "cell_type": "markdown",
   "id": "3768f597",
   "metadata": {},
   "source": [
    "### These two features have both linear correlation with probability of infection"
   ]
  },
  {
   "cell_type": "code",
   "execution_count": 406,
   "id": "3fec3e1f",
   "metadata": {},
   "outputs": [],
   "source": [
    "#Useful_features=['Species', 'Trap', 'Latitude', 'Longitude', 'NumMosquitos','WnvPresent', 'Year', 'Month', 'Day', 'MP_Species','MP_Trap', 'MP_month', 'Tmax_s1', 'Tmin_s1', 'Tavg_s1','PrecipTotal_s1','Tmin_s2','Day_Length', 'DewPoint_s2', 'WetBulb_s2', 'Tavg_s2', 'PrecipTotal_s2']"
   ]
  },
  {
   "cell_type": "code",
   "execution_count": 407,
   "id": "a3feac57",
   "metadata": {},
   "outputs": [
    {
     "data": {
      "text/plain": [
       "Index(['Date', 'Species', 'Trap', 'Latitude', 'Longitude', 'NumMosquitos',\n",
       "       'WnvPresent', 'Year', 'Month', 'Day', 'MP_Species', 'Location',\n",
       "       'MP_Trap', 'MP_month', 'Tmax_s1', 'Tmin_s1', 'Tavg_s1', 'Depart_s1',\n",
       "       'DewPoint_s1', 'WetBulb_s1', 'Heat_s1', 'Cool_s1', 'Sunrise_s1',\n",
       "       'Sunset_s1', 'PrecipTotal_s1', 'StnPressure_s1', 'SeaLevel_s1',\n",
       "       'ResultSpeed_s1', 'ResultDir_s1', 'AvgSpeed_s1', 'Tmax_s2', 'Tmin_s2',\n",
       "       'Tavg_s2', 'DewPoint_s2', 'WetBulb_s2', 'Heat_s2', 'Cool_s2',\n",
       "       'PrecipTotal_s2', 'StnPressure_s2', 'SeaLevel_s2', 'ResultSpeed_s2',\n",
       "       'ResultDir_s2', 'AvgSpeed_s2', 'Day_Length'],\n",
       "      dtype='object')"
      ]
     },
     "execution_count": 407,
     "metadata": {},
     "output_type": "execute_result"
    }
   ],
   "source": [
    "df_train.columns"
   ]
  },
  {
   "cell_type": "code",
   "execution_count": 408,
   "id": "dd56a582",
   "metadata": {},
   "outputs": [
    {
     "data": {
      "text/plain": [
       "Index(['Species', 'Trap', 'Location'], dtype='object')"
      ]
     },
     "execution_count": 408,
     "metadata": {},
     "output_type": "execute_result"
    }
   ],
   "source": [
    "ob_cols = df_train.columns[df_train.dtypes.eq('object')]\n",
    "ob_cols"
   ]
  },
  {
   "cell_type": "code",
   "execution_count": 409,
   "id": "68ef7a27",
   "metadata": {},
   "outputs": [],
   "source": [
    "df_train.drop('Location',axis=1,inplace=True)"
   ]
  },
  {
   "cell_type": "code",
   "execution_count": 410,
   "id": "5e2e1574",
   "metadata": {},
   "outputs": [],
   "source": [
    "df=pd.get_dummies(df_train)"
   ]
  },
  {
   "cell_type": "markdown",
   "id": "1bd02440",
   "metadata": {},
   "source": [
    "# Modeling"
   ]
  },
  {
   "cell_type": "markdown",
   "id": "26465806",
   "metadata": {},
   "source": [
    "## Model evaluation function"
   ]
  },
  {
   "cell_type": "code",
   "execution_count": 411,
   "id": "5212d4cd",
   "metadata": {},
   "outputs": [],
   "source": [
    "class model_evaluation:\n",
    "   \n",
    "    def __init__(self, y_test, X_test, predicted_value):\n",
    "        self.y_test = y_test\n",
    "        self.predicted_value = predicted_value\n",
    "        self.x_test = X_test\n",
    "        \n",
    "    def confusion_matrix (self):\n",
    "        tn, fp, fn, tp = confusion_matrix(self.y_test, self.predicted_value).ravel()\n",
    "        print(\"True Negatives: %s\" % tn)\n",
    "        print(\"False Positives: %s\" % fp)\n",
    "        print(\"False Negatives: %s\" % fn)\n",
    "        print(\"True Positives: %s\" % tp)\n",
    "        precision = tp/(tp+fp)\n",
    "        recall = tp/(tp+fn)\n",
    "        print(\"Precision: {}\" .format (tp/(tp+fp)))\n",
    "        print(\"Recall: {}\" .format (tp/(tp+fn)))\n",
    "        F1_score = 2*((precision*recall)/(precision+recall))\n",
    "        print (\"F1 score: {}\" .format(2*((precision*recall)/(precision+recall))))\n",
    "        probability = lr.predict_proba(X_test)[:,1]\n",
    "        roc_auc_score_ = roc_auc_score(y_test, probability)\n",
    "        print (\"roc_auc_score: {}\"  .format(roc_auc_score_))"
   ]
  },
  {
   "cell_type": "code",
   "execution_count": 425,
   "id": "2bf51f56",
   "metadata": {},
   "outputs": [
    {
     "data": {
      "text/plain": [
       "WnvPresent                        1.000000\n",
       "NumMosquitos                      0.196820\n",
       "Sunrise_s1                        0.105227\n",
       "Month                             0.100143\n",
       "DewPoint_s1                       0.090460\n",
       "WetBulb_s1                        0.082938\n",
       "DewPoint_s2                       0.080873\n",
       "WetBulb_s2                        0.077728\n",
       "Day_Length                        0.077470\n",
       "Tmin_s2                           0.074459\n",
       "Tmin_s1                           0.072719\n",
       "Sunset_s1                         0.068451\n",
       "Tavg_s1                           0.066043\n",
       "Tavg_s2                           0.062072\n",
       "Longitude                         0.060345\n",
       "Cool_s1                           0.058953\n",
       "Heat_s1                           0.056813\n",
       "Cool_s2                           0.056728\n",
       "Depart_s1                         0.055436\n",
       "Heat_s2                           0.052008\n",
       "ResultSpeed_s1                    0.051177\n",
       "Year                              0.050865\n",
       "Tmax_s1                           0.050536\n",
       "Tmax_s2                           0.045755\n",
       "Trap_T900                         0.044220\n",
       "Species_CULEX PIPIENS/RESTUANS    0.041362\n",
       "MP_Species                        0.041362\n",
       "ResultSpeed_s2                    0.040141\n",
       "PrecipTotal_s2                    0.039762\n",
       "MP_Trap                           0.038259\n",
       "Species_CULEX TERRITANS           0.034566\n",
       "Trap_T143                         0.034433\n",
       "Trap_T003                         0.030296\n",
       "AvgSpeed_s1                       0.029958\n",
       "Latitude                          0.028697\n",
       "AvgSpeed_s2                       0.028088\n",
       "Trap_T233                         0.027159\n",
       "Trap_T002                         0.026936\n",
       "PrecipTotal_s1                    0.024696\n",
       "Trap_T006                         0.024517\n",
       "Trap_T115                         0.024272\n",
       "Trap_T225                         0.024259\n",
       "Trap_T046                         0.024200\n",
       "Trap_T200                         0.022354\n",
       "Species_CULEX SALINARIUS          0.021373\n",
       "MP_month                          0.021121\n",
       "Name: WnvPresent, dtype: float64"
      ]
     },
     "execution_count": 425,
     "metadata": {},
     "output_type": "execute_result"
    }
   ],
   "source": [
    "corrmat = df.corr()\n",
    "columns = abs(corrmat['WnvPresent']).sort_values(ascending=False).head(46)\n",
    "columns\n"
   ]
  },
  {
   "cell_type": "code",
   "execution_count": 426,
   "id": "c27fb793",
   "metadata": {},
   "outputs": [],
   "source": [
    "X=df[[x for x in columns.index if x != 'WnvPresent']]\n",
    "y=df['WnvPresent']"
   ]
  },
  {
   "cell_type": "code",
   "execution_count": 427,
   "id": "d120d5d6",
   "metadata": {},
   "outputs": [
    {
     "data": {
      "text/plain": [
       "<AxesSubplot:>"
      ]
     },
     "execution_count": 427,
     "metadata": {},
     "output_type": "execute_result"
    },
    {
     "data": {
      "image/png": "[encoded data removed]",
      "text/plain": [
       "<Figure size 432x288 with 1 Axes>"
      ]
     },
     "metadata": {
      "needs_background": "light"
     },
     "output_type": "display_data"
    }
   ],
   "source": [
    "y.value_counts().plot.bar()"
   ]
  },
  {
   "cell_type": "code",
   "execution_count": 428,
   "id": "2fc9a6c9",
   "metadata": {},
   "outputs": [
    {
     "name": "stdout",
     "output_type": "stream",
     "text": [
      "Counter({0: 9955, 1: 551})\n",
      "Counter({0: 551, 1: 551})\n"
     ]
    }
   ],
   "source": [
    "from sklearn.datasets import make_classification\n",
    "from imblearn.over_sampling import RandomOverSampler\n",
    "from imblearn.under_sampling import RandomUnderSampler\n",
    "from collections import Counter\n",
    "print(Counter(y))\n",
    "# instantiating the random undersampler\n",
    "rus = RandomUnderSampler() \n",
    "# resampling X, y\n",
    "X_rus, y_rus = rus.fit_resample(X, y)\n",
    "# new class distribution\n",
    "print(Counter(y_rus))"
   ]
  },
  {
   "cell_type": "code",
   "execution_count": 429,
   "id": "b4a3bc85",
   "metadata": {},
   "outputs": [],
   "source": [
    "from sklearn.model_selection import train_test_split\n",
    "\n",
    "X_train, X_test, y_train, y_test = train_test_split(X_rus,\n",
    "                                                    y_rus,\n",
    "                                                    test_size=0.2,\n",
    "                                                    random_state=42)"
   ]
  },
  {
   "cell_type": "code",
   "execution_count": 430,
   "id": "569dac88",
   "metadata": {},
   "outputs": [],
   "source": [
    "scaler = StandardScaler()\n",
    "scaler = scaler.fit(X_train)\n",
    "X_train = scaler.transform(X_train)\n",
    "X_test = scaler.transform(X_test)"
   ]
  },
  {
   "cell_type": "code",
   "execution_count": 431,
   "id": "384ddff0",
   "metadata": {},
   "outputs": [],
   "source": [
    "lr_model = LogisticRegression()"
   ]
  },
  {
   "cell_type": "code",
   "execution_count": 432,
   "id": "e7dd2b00",
   "metadata": {},
   "outputs": [
    {
     "name": "stdout",
     "output_type": "stream",
     "text": [
      "True Negatives: 79\n",
      "False Positives: 39\n",
      "False Negatives: 31\n",
      "True Positives: 72\n",
      "Precision: 0.6486486486486487\n",
      "Recall: 0.6990291262135923\n",
      "F1 score: 0.6728971962616822\n",
      "roc_auc_score: 0.7554303110087215\n"
     ]
    }
   ],
   "source": [
    "lr = LogisticRegression(solver=\"lbfgs\",max_iter=100000)\n",
    "lr.fit(X_train, y_train)\n",
    "predicted_lr = lr.predict(X_test)\n",
    "lrg = model_evaluation (y_test, X_test, predicted_lr)\n",
    "lrg.confusion_matrix ()"
   ]
  },
  {
   "cell_type": "code",
   "execution_count": 433,
   "id": "89bd76e4",
   "metadata": {},
   "outputs": [],
   "source": [
    "from imblearn.over_sampling import SMOTE\n",
    "# Resampling the minority class. The strategy can be changed as required.\n",
    "sm = SMOTE(sampling_strategy='minority', random_state=42)\n",
    "# Fit the model to generate the data.\n",
    "oversampled_X, oversampled_Y = sm.fit_sample(X, y)"
   ]
  },
  {
   "cell_type": "code",
   "execution_count": 434,
   "id": "f1655cf4",
   "metadata": {},
   "outputs": [
    {
     "name": "stderr",
     "output_type": "stream",
     "text": [
      "C:\\Users\\Shaqayeq\\anaconda3\\lib\\site-packages\\seaborn\\_decorators.py:36: FutureWarning: Pass the following variable as a keyword arg: x. From version 0.12, the only valid positional argument will be `data`, and passing other arguments without an explicit keyword will result in an error or misinterpretation.\n",
      "  warnings.warn(\n"
     ]
    },
    {
     "data": {
      "text/plain": [
       "<AxesSubplot:xlabel='WnvPresent', ylabel='count'>"
      ]
     },
     "execution_count": 434,
     "metadata": {},
     "output_type": "execute_result"
    },
    {
     "data": {
      "image/png": "[encoded data removed]",
      "text/plain": [
       "<Figure size 432x288 with 1 Axes>"
      ]
     },
     "metadata": {
      "needs_background": "light"
     },
     "output_type": "display_data"
    }
   ],
   "source": [
    "sns.countplot(oversampled_Y)"
   ]
  },
  {
   "cell_type": "code",
   "execution_count": 435,
   "id": "c8e5bcdb",
   "metadata": {},
   "outputs": [],
   "source": [
    "\n",
    "X_train, X_test, y_train, y_test = train_test_split(oversampled_X, oversampled_Y,\n",
    "                                                    test_size=0.4,\n",
    "                                                    random_state=42)"
   ]
  },
  {
   "cell_type": "code",
   "execution_count": 436,
   "id": "57ef26a3",
   "metadata": {},
   "outputs": [
    {
     "name": "stdout",
     "output_type": "stream",
     "text": [
      "True Negatives: 3130\n",
      "False Positives: 882\n",
      "False Negatives: 706\n",
      "True Positives: 3246\n",
      "Precision: 0.7863372093023255\n",
      "Recall: 0.8213562753036437\n",
      "F1 score: 0.8034653465346534\n",
      "roc_auc_score: 0.8831978886215847\n"
     ]
    }
   ],
   "source": [
    "lr = LogisticRegression(solver=\"lbfgs\",max_iter=100000)\n",
    "lr.fit(X_train, y_train)\n",
    "predicted_lr = lr.predict(X_test)\n",
    "lrg = model_evaluation (y_test, X_test, predicted_lr)\n",
    "lrg.confusion_matrix ()"
   ]
  },
  {
   "cell_type": "code",
   "execution_count": 437,
   "id": "427f8f3a",
   "metadata": {},
   "outputs": [
    {
     "name": "stdout",
     "output_type": "stream",
     "text": [
      "True Negatives: 3029\n",
      "False Positives: 983\n",
      "False Negatives: 778\n",
      "True Positives: 3174\n",
      "Precision: 0.7635313928313687\n",
      "Recall: 0.8031376518218624\n",
      "F1 score: 0.7828338882722902\n",
      "roc_auc_score: 0.8831978886215847\n"
     ]
    }
   ],
   "source": [
    "from sklearn.ensemble import VotingClassifier\n",
    "#soft voting usually have better performance than hard voting\n",
    "\n",
    "\n",
    "log_clf = LogisticRegression(solver=\"lbfgs\",max_iter=100000)\n",
    "svm_clf = SVC(kernel = 'rbf', C = 1, probability=True)\n",
    "\n",
    "\n",
    "pipeline = Pipeline([\n",
    "    ('reduce_dims', PCA(n_components=5)),\n",
    "    ('voting_clf', VotingClassifier(estimators=[(\"lr\",log_clf), (\"svm\", svm_clf)], voting=\"soft\"))])\n",
    "\n",
    "\n",
    "PCA_LR_SVM = pipeline.fit(X_train, y_train) \n",
    "predict_PCA_LR_SVM = pipeline.predict(X_test) \n",
    "\n",
    "PCA_LRg = model_evaluation (y_test, X_test, predict_PCA_LR_SVM)\n",
    "PCA_LRg.confusion_matrix ()"
   ]
  },
  {
   "cell_type": "markdown",
   "id": "a319ee51",
   "metadata": {},
   "source": [
    "<h3> So far, oversampling has proved promising performance. Now I'll do \"Grid Search\" for finding the best classification model. The models include Logistic Regression, K-Nearest Neighbors, Decision Tree, Random Forest, Extra Trees Classifier, Gradient Boosting and Ada Boost."
   ]
  },
  {
   "cell_type": "code",
   "execution_count": 470,
   "id": "f63e4134",
   "metadata": {},
   "outputs": [],
   "source": [
    "# Initialize dictionaries for models\n",
    "model_dict = {\n",
    "   'lr': LogisticRegression(),\n",
    "   'knn': KNeighborsClassifier(),\n",
    "   'dt': DecisionTreeClassifier(),\n",
    "   'svm': SVC(),\n",
    "   'rf' : RandomForestClassifier(n_estimators=100),\n",
    "   'et' : ExtraTreesClassifier(n_estimators=100),\n",
    "   'gbc' : GradientBoostingClassifier(n_estimators=100),\n",
    "   'abc' : AdaBoostClassifier(n_estimators=100)\n",
    "}\n",
    "\n",
    "model_full = {\n",
    "   'lr': 'Logistic Regression',\n",
    "   'knn': 'KNearestNeighbor',\n",
    "   'dt': 'DecisionTreeClassifier',\n",
    "   'svm' : 'Support Vector Classifier',\n",
    "   'rf' : 'Random Tree Classifier',\n",
    "   'et' : 'Extra Tree Classifier',\n",
    "   'gbc' : 'GradientBoostingClassifier',\n",
    "   'abc' : 'AdaBoostClassifier'\n",
    "}\n",
    "\n",
    "# Initialize functions for pipeline\n",
    "def prepare_pipeline(model):\n",
    "    pipe_list = (model,model_dict[model])\n",
    "    return Pipeline([pipe_list])\n",
    "\n",
    "# Initialize functions for parameters\n",
    "def prepare_params(model):\n",
    "    if model == 'lr':\n",
    "        return {'lr__solver' : ['newton-cg', 'lbfgs', 'liblinear']\n",
    "                }\n",
    "    elif model == 'knn':\n",
    "        return {'knn__n_neighbors' : [5,6]\n",
    "                }\n",
    "    elif model == 'dt':\n",
    "        return {'dt__max_depth' : [3, 5],\n",
    "                'dt__min_samples_split' : [5, 10],\n",
    "                'dt__min_samples_leaf' : [2, 3]\n",
    "                }  \n",
    "    elif model == 'svm':\n",
    "        return {'svm__gamma' : np.logspace(-5,2,2),\n",
    "                'svm__C' : np.logspace(-3,2,2),\n",
    "                'svm__kernel' : ['rbf', 'sigmoid']\n",
    "                }\n",
    "    elif model == 'rf':\n",
    "        return {\n",
    "                'rf__n_estimators': [100, 150, 200],\n",
    "                'rf__max_depth': [3, 4, 5],\n",
    "                'rf__min_samples_leaf' : [1,2,3]\n",
    "                }\n",
    "    elif model == 'et':\n",
    "        return {\n",
    "                'et__n_estimators': [100, 150, 200],\n",
    "                'et__max_depth': [3, 4, 5],\n",
    "                'et__min_samples_leaf' : [1,2,3]\n",
    "                }\n",
    "    elif model == 'gbc':\n",
    "        return {\n",
    "                'gbc__learning_rate': [0.1,0.2,0.5],\n",
    "                'gbc__max_depth': [3, 4, 5],\n",
    "                }\n",
    "    elif model == 'abc':\n",
    "        return {\n",
    "                'abc__learning_rate': [0.2,0.5,0.73],\n",
    "                }\n",
    "\n",
    "# Initialize functions for grid search, calling on above functions, and printing model metrics\n",
    "def grid_search(model,X_train=X_train,y_train=y_train,X_test=X_test,y_test=y_test,n_jobs=-1):\n",
    "    pipe_params = prepare_params(model)\n",
    "    pipe = prepare_pipeline(model)\n",
    "    gs = GridSearchCV(pipe,param_grid=pipe_params,cv=3)\n",
    "    gs.fit(X_train,y_train)\n",
    "    print(f'Results from {model_full[model]}:')\n",
    "    print(f'Train Score: {round(gs.best_score_,4)}')\n",
    "    print(f'Test Score: {round(gs.score(X_test,y_test),4)}')\n",
    "    print(f'Using the following parameters: {gs.best_params_}')\n",
    "    print('\\n')\n",
    "    tn, fp, fn, tp = confusion_matrix(y_test, gs.best_estimator_.predict(X_test)).ravel()\n",
    "    print('From Confusion Matrix:')\n",
    "    print(\"True Negatives: %s\" % tn)\n",
    "    print(\"False Positives: %s\" % fp)\n",
    "    print(\"False Negatives: %s\" % fn)\n",
    "    print(\"True Positives: %s\" % tp)\n",
    "    print('\\n')\n",
    "    report = classification_report(y_test, gs.best_estimator_.predict(X_test), target_names=['Predict 0', 'Predict 1'], output_dict=True)\n",
    "    class_table = pd.DataFrame(report).transpose().drop(['macro avg','weighted avg'],axis=0)\n",
    "    return class_table"
   ]
  },
  {
   "cell_type": "code",
   "execution_count": 475,
   "id": "ede3bd79",
   "metadata": {},
   "outputs": [
    {
     "name": "stderr",
     "output_type": "stream",
     "text": [
      "C:\\Users\\Shaqayeq\\anaconda3\\lib\\site-packages\\scipy\\optimize\\linesearch.py:478: LineSearchWarning: The line search algorithm did not converge\n",
      "  warn('The line search algorithm did not converge', LineSearchWarning)\n",
      "C:\\Users\\Shaqayeq\\anaconda3\\lib\\site-packages\\scipy\\optimize\\linesearch.py:327: LineSearchWarning: The line search algorithm did not converge\n",
      "  warn('The line search algorithm did not converge', LineSearchWarning)\n",
      "C:\\Users\\Shaqayeq\\anaconda3\\lib\\site-packages\\scipy\\optimize\\linesearch.py:478: LineSearchWarning: The line search algorithm did not converge\n",
      "  warn('The line search algorithm did not converge', LineSearchWarning)\n",
      "C:\\Users\\Shaqayeq\\anaconda3\\lib\\site-packages\\scipy\\optimize\\linesearch.py:327: LineSearchWarning: The line search algorithm did not converge\n",
      "  warn('The line search algorithm did not converge', LineSearchWarning)\n",
      "C:\\Users\\Shaqayeq\\anaconda3\\lib\\site-packages\\sklearn\\utils\\optimize.py:202: ConvergenceWarning: newton-cg failed to converge. Increase the number of iterations.\n",
      "  warnings.warn(\"newton-cg failed to converge. Increase the \"\n",
      "C:\\Users\\Shaqayeq\\anaconda3\\lib\\site-packages\\scipy\\optimize\\linesearch.py:478: LineSearchWarning: The line search algorithm did not converge\n",
      "  warn('The line search algorithm did not converge', LineSearchWarning)\n",
      "C:\\Users\\Shaqayeq\\anaconda3\\lib\\site-packages\\scipy\\optimize\\linesearch.py:327: LineSearchWarning: The line search algorithm did not converge\n",
      "  warn('The line search algorithm did not converge', LineSearchWarning)\n",
      "C:\\Users\\Shaqayeq\\anaconda3\\lib\\site-packages\\sklearn\\utils\\optimize.py:202: ConvergenceWarning: newton-cg failed to converge. Increase the number of iterations.\n",
      "  warnings.warn(\"newton-cg failed to converge. Increase the \"\n",
      "C:\\Users\\Shaqayeq\\anaconda3\\lib\\site-packages\\scipy\\optimize\\linesearch.py:478: LineSearchWarning: The line search algorithm did not converge\n",
      "  warn('The line search algorithm did not converge', LineSearchWarning)\n",
      "C:\\Users\\Shaqayeq\\anaconda3\\lib\\site-packages\\scipy\\optimize\\linesearch.py:327: LineSearchWarning: The line search algorithm did not converge\n",
      "  warn('The line search algorithm did not converge', LineSearchWarning)\n",
      "C:\\Users\\Shaqayeq\\anaconda3\\lib\\site-packages\\sklearn\\utils\\optimize.py:202: ConvergenceWarning: newton-cg failed to converge. Increase the number of iterations.\n",
      "  warnings.warn(\"newton-cg failed to converge. Increase the \"\n",
      "C:\\Users\\Shaqayeq\\anaconda3\\lib\\site-packages\\sklearn\\linear_model\\_logistic.py:763: ConvergenceWarning: lbfgs failed to converge (status=1):\n",
      "STOP: TOTAL NO. of ITERATIONS REACHED LIMIT.\n",
      "\n",
      "Increase the number of iterations (max_iter) or scale the data as shown in:\n",
      "    https://scikit-learn.org/stable/modules/preprocessing.html\n",
      "Please also refer to the documentation for alternative solver options:\n",
      "    https://scikit-learn.org/stable/modules/linear_model.html#logistic-regression\n",
      "  n_iter_i = _check_optimize_result(\n",
      "C:\\Users\\Shaqayeq\\anaconda3\\lib\\site-packages\\sklearn\\linear_model\\_logistic.py:763: ConvergenceWarning: lbfgs failed to converge (status=1):\n",
      "STOP: TOTAL NO. of ITERATIONS REACHED LIMIT.\n",
      "\n",
      "Increase the number of iterations (max_iter) or scale the data as shown in:\n",
      "    https://scikit-learn.org/stable/modules/preprocessing.html\n",
      "Please also refer to the documentation for alternative solver options:\n",
      "    https://scikit-learn.org/stable/modules/linear_model.html#logistic-regression\n",
      "  n_iter_i = _check_optimize_result(\n",
      "C:\\Users\\Shaqayeq\\anaconda3\\lib\\site-packages\\sklearn\\linear_model\\_logistic.py:763: ConvergenceWarning: lbfgs failed to converge (status=1):\n",
      "STOP: TOTAL NO. of ITERATIONS REACHED LIMIT.\n",
      "\n",
      "Increase the number of iterations (max_iter) or scale the data as shown in:\n",
      "    https://scikit-learn.org/stable/modules/preprocessing.html\n",
      "Please also refer to the documentation for alternative solver options:\n",
      "    https://scikit-learn.org/stable/modules/linear_model.html#logistic-regression\n",
      "  n_iter_i = _check_optimize_result(\n",
      "C:\\Users\\Shaqayeq\\anaconda3\\lib\\site-packages\\scipy\\optimize\\linesearch.py:478: LineSearchWarning: The line search algorithm did not converge\n",
      "  warn('The line search algorithm did not converge', LineSearchWarning)\n",
      "C:\\Users\\Shaqayeq\\anaconda3\\lib\\site-packages\\scipy\\optimize\\linesearch.py:327: LineSearchWarning: The line search algorithm did not converge\n",
      "  warn('The line search algorithm did not converge', LineSearchWarning)\n",
      "C:\\Users\\Shaqayeq\\anaconda3\\lib\\site-packages\\sklearn\\utils\\optimize.py:202: ConvergenceWarning: newton-cg failed to converge. Increase the number of iterations.\n",
      "  warnings.warn(\"newton-cg failed to converge. Increase the \"\n"
     ]
    },
    {
     "name": "stdout",
     "output_type": "stream",
     "text": [
      "Results from Logistic Regression:\n",
      "Train Score: 0.8156\n",
      "Test Score: 0.8103\n",
      "Using the following parameters: {'lr__solver': 'newton-cg'}\n",
      "\n",
      "\n",
      "From Confusion Matrix:\n",
      "True Negatives: 3147\n",
      "False Positives: 865\n",
      "False Negatives: 646\n",
      "True Positives: 3306\n",
      "\n",
      "\n",
      "Results from KNearestNeighbor:\n",
      "Train Score: 0.8625\n",
      "Test Score: 0.8722\n",
      "Using the following parameters: {'knn__n_neighbors': 5}\n",
      "\n",
      "\n",
      "From Confusion Matrix:\n",
      "True Negatives: 3184\n",
      "False Positives: 828\n",
      "False Negatives: 190\n",
      "True Positives: 3762\n",
      "\n",
      "\n",
      "Results from DecisionTreeClassifier:\n",
      "Train Score: 0.8178\n",
      "Test Score: 0.823\n",
      "Using the following parameters: {'dt__max_depth': 5, 'dt__min_samples_leaf': 2, 'dt__min_samples_split': 5}\n",
      "\n",
      "\n",
      "From Confusion Matrix:\n",
      "True Negatives: 3005\n",
      "False Positives: 1007\n",
      "False Negatives: 403\n",
      "True Positives: 3549\n",
      "\n",
      "\n",
      "Results from Support Vector Classifier:\n",
      "Train Score: 0.8172\n",
      "Test Score: 0.8502\n",
      "Using the following parameters: {'svm__C': 100.0, 'svm__gamma': 100.0, 'svm__kernel': 'rbf'}\n",
      "\n",
      "\n",
      "From Confusion Matrix:\n",
      "True Negatives: 3631\n",
      "False Positives: 381\n",
      "False Negatives: 812\n",
      "True Positives: 3140\n",
      "\n",
      "\n",
      "Results from Random Tree Classifier:\n",
      "Train Score: 0.8231\n",
      "Test Score: 0.8258\n",
      "Using the following parameters: {'rf__max_depth': 5, 'rf__min_samples_leaf': 2, 'rf__n_estimators': 150}\n",
      "\n",
      "\n",
      "From Confusion Matrix:\n",
      "True Negatives: 2899\n",
      "False Positives: 1113\n",
      "False Negatives: 274\n",
      "True Positives: 3678\n",
      "\n",
      "\n",
      "Results from Extra Tree Classifier:\n",
      "Train Score: 0.7981\n",
      "Test Score: 0.7942\n",
      "Using the following parameters: {'et__max_depth': 5, 'et__min_samples_leaf': 2, 'et__n_estimators': 200}\n",
      "\n",
      "\n",
      "From Confusion Matrix:\n",
      "True Negatives: 2777\n",
      "False Positives: 1235\n",
      "False Negatives: 404\n",
      "True Positives: 3548\n",
      "\n",
      "\n",
      "Results from GradientBoostingClassifier:\n",
      "Train Score: 0.9343\n",
      "Test Score: 0.9512\n",
      "Using the following parameters: {'gbc__learning_rate': 0.5, 'gbc__max_depth': 5}\n",
      "\n",
      "\n",
      "From Confusion Matrix:\n",
      "True Negatives: 3790\n",
      "False Positives: 222\n",
      "False Negatives: 167\n",
      "True Positives: 3785\n",
      "\n",
      "\n",
      "Results from AdaBoostClassifier:\n",
      "Train Score: 0.8457\n",
      "Test Score: 0.8452\n",
      "Using the following parameters: {'abc__learning_rate': 0.73}\n",
      "\n",
      "\n",
      "From Confusion Matrix:\n",
      "True Negatives: 3269\n",
      "False Positives: 743\n",
      "False Negatives: 490\n",
      "True Positives: 3462\n",
      "\n",
      "\n"
     ]
    }
   ],
   "source": [
    "for key in model_dict.keys():\n",
    "    grid_search(key)"
   ]
  },
  {
   "cell_type": "code",
   "execution_count": 474,
   "id": "95e63eb3",
   "metadata": {},
   "outputs": [
    {
     "data": {
      "text/plain": [
       "dict_keys(['lr', 'knn', 'dt', 'svm', 'rf', 'et', 'gbc', 'abc'])"
      ]
     },
     "execution_count": 474,
     "metadata": {},
     "output_type": "execute_result"
    }
   ],
   "source": [
    "model_dict.keys()"
   ]
  },
  {
   "cell_type": "markdown",
   "id": "0f35ade3",
   "metadata": {},
   "source": [
    "# Prediction on Test dataset:"
   ]
  },
  {
   "cell_type": "code",
   "execution_count": 439,
   "id": "67d23c14",
   "metadata": {},
   "outputs": [
    {
     "name": "stdout",
     "output_type": "stream",
     "text": [
      "<class 'pandas.core.frame.DataFrame'>\n",
      "Int64Index: 115533 entries, 0 to 115532\n",
      "Data columns (total 46 columns):\n",
      " #   Column          Non-Null Count   Dtype         \n",
      "---  ------          --------------   -----         \n",
      " 0   Date            115533 non-null  datetime64[ns]\n",
      " 1   Species         115533 non-null  object        \n",
      " 2   Trap            115533 non-null  object        \n",
      " 3   Latitude        115533 non-null  float64       \n",
      " 4   Longitude       115533 non-null  float64       \n",
      " 5   Year            115533 non-null  int64         \n",
      " 6   Month           115533 non-null  int64         \n",
      " 7   Day             115533 non-null  int64         \n",
      " 8   Station_s1      115533 non-null  int64         \n",
      " 9   Tmax_s1         115533 non-null  int64         \n",
      " 10  Tmin_s1         115533 non-null  int64         \n",
      " 11  Tavg_s1         115533 non-null  int64         \n",
      " 12  Depart_s1       115533 non-null  int64         \n",
      " 13  DewPoint_s1     115533 non-null  int64         \n",
      " 14  WetBulb_s1      115533 non-null  int64         \n",
      " 15  Heat_s1         115533 non-null  int64         \n",
      " 16  Cool_s1         115533 non-null  int64         \n",
      " 17  Sunrise_s1      115533 non-null  int64         \n",
      " 18  Sunset_s1       115533 non-null  int64         \n",
      " 19  Depth_s1        115533 non-null  int64         \n",
      " 20  PrecipTotal_s1  115533 non-null  float64       \n",
      " 21  StnPressure_s1  115533 non-null  float64       \n",
      " 22  SeaLevel_s1     115533 non-null  float64       \n",
      " 23  ResultSpeed_s1  115533 non-null  float64       \n",
      " 24  ResultDir_s1    115533 non-null  int64         \n",
      " 25  AvgSpeed_s1     115533 non-null  float64       \n",
      " 26  Year_s1         115533 non-null  int64         \n",
      " 27  Month_s1        115533 non-null  int64         \n",
      " 28  Day_s1          115533 non-null  int64         \n",
      " 29  Station_s2      115533 non-null  int64         \n",
      " 30  Tmax_s2         115533 non-null  int64         \n",
      " 31  Tmin_s2         115533 non-null  int64         \n",
      " 32  Tavg_s2         115533 non-null  float64       \n",
      " 33  DewPoint_s2     115533 non-null  int64         \n",
      " 34  WetBulb_s2      115533 non-null  int64         \n",
      " 35  Heat_s2         115533 non-null  int64         \n",
      " 36  Cool_s2         115533 non-null  int64         \n",
      " 37  PrecipTotal_s2  115533 non-null  float64       \n",
      " 38  StnPressure_s2  115533 non-null  float64       \n",
      " 39  SeaLevel_s2     115533 non-null  float64       \n",
      " 40  ResultSpeed_s2  115533 non-null  float64       \n",
      " 41  ResultDir_s2    115533 non-null  int64         \n",
      " 42  AvgSpeed_s2     115533 non-null  float64       \n",
      " 43  Year_s2         115533 non-null  int64         \n",
      " 44  Month_s2        115533 non-null  int64         \n",
      " 45  Day_s2          115533 non-null  int64         \n",
      "dtypes: datetime64[ns](1), float64(13), int64(30), object(2)\n",
      "memory usage: 41.4+ MB\n"
     ]
    }
   ],
   "source": [
    "df_test.info()"
   ]
  },
  {
   "cell_type": "markdown",
   "id": "164ff08e",
   "metadata": {},
   "source": [
    "### Checking the match between the test dataset and train dataset, after joining with weather"
   ]
  },
  {
   "cell_type": "code",
   "execution_count": 450,
   "id": "7647b164",
   "metadata": {},
   "outputs": [
    {
     "data": {
      "text/plain": [
       "Index(['Date', 'Latitude', 'Longitude', 'NumMosquitos', 'WnvPresent', 'Year',\n",
       "       'Month', 'Day', 'MP_Species', 'MP_Trap',\n",
       "       ...\n",
       "       'Trap_T230', 'Trap_T231', 'Trap_T232', 'Trap_T233', 'Trap_T235',\n",
       "       'Trap_T236', 'Trap_T237', 'Trap_T238', 'Trap_T900', 'Trap_T903'],\n",
       "      dtype='object', length=182)"
      ]
     },
     "execution_count": 450,
     "metadata": {},
     "output_type": "execute_result"
    }
   ],
   "source": [
    "df.columns"
   ]
  },
  {
   "cell_type": "code",
   "execution_count": 458,
   "id": "c5d778f2",
   "metadata": {},
   "outputs": [],
   "source": [
    "Day_length=[]\n",
    "for i in range (df_test.shape[0]):\n",
    "    \n",
    "    Q=df_test.Sunset_s1[i].astype('str').split()[0][0:2]+str((pd.to_numeric(df_test.Sunset_s1[i].astype('str').split()[0][2:])/60).astype('str').split()[0][1:])\n",
    "    T=df_test.Sunrise_s1[i].astype('str').split()[0][0:1]+str((pd.to_numeric(df_test.Sunrise_s1[i].astype('str').split()[0][1:])/60).astype('str').split()[0][1:])\n",
    "\n",
    "    Day_length.append(round(pd.to_numeric(Q)-pd.to_numeric(T),1))\n",
    "df_test['Day_Length']=Day_length"
   ]
  },
  {
   "cell_type": "code",
   "execution_count": 459,
   "id": "f16902c3",
   "metadata": {},
   "outputs": [
    {
     "data": {
      "text/plain": [
       "Index(['Date', 'Species', 'Trap', 'Latitude', 'Longitude', 'Year', 'Month',\n",
       "       'Day'],\n",
       "      dtype='object')"
      ]
     },
     "execution_count": 459,
     "metadata": {},
     "output_type": "execute_result"
    }
   ],
   "source": [
    "Test.columns"
   ]
  },
  {
   "cell_type": "code",
   "execution_count": 461,
   "id": "6df934f0",
   "metadata": {},
   "outputs": [],
   "source": [
    "weather_cols=set(df_train.columns)-set(Train.columns)"
   ]
  },
  {
   "cell_type": "code",
   "execution_count": 456,
   "id": "150249fb",
   "metadata": {},
   "outputs": [],
   "source": [
    "useful_cols=list(Test.columns)+list(weather_cols)"
   ]
  },
  {
   "cell_type": "code",
   "execution_count": 462,
   "id": "6b58563b",
   "metadata": {},
   "outputs": [],
   "source": [
    "df_test=df_test[useful_cols]"
   ]
  },
  {
   "cell_type": "code",
   "execution_count": null,
   "id": "45407fb1",
   "metadata": {},
   "outputs": [],
   "source": []
  }
 ],
 "metadata": {
  "kernelspec": {
   "display_name": "Python 3 (ipykernel)",
   "language": "python",
   "name": "python3"
  },
  "language_info": {
   "codemirror_mode": {
    "name": "ipython",
    "version": 3
   },
   "file_extension": ".py",
   "mimetype": "text/x-python",
   "name": "python",
   "nbconvert_exporter": "python",
   "pygments_lexer": "ipython3",
   "version": "3.9.7"
  }
 },
 "nbformat": 4,
 "nbformat_minor": 5
}
